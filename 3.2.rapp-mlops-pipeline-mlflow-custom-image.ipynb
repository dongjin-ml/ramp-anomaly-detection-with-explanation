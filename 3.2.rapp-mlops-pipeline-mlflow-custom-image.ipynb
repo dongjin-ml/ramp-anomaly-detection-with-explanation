{
 "cells": [
  {
   "cell_type": "markdown",
   "id": "43eaad7f-f315-4f50-938a-fd94f07ca15a",
   "metadata": {},
   "source": [
    "# <B> SageMaker pileline with `MLflow` for Anormaly Detection based on AutoEncoder </B>\n",
    "* Container: codna_pytorch_p310\n",
    "* [Example codes](https://github.com/aws/amazon-sagemaker-examples/tree/main/sagemaker-mlflow)"
   ]
  },
  {
   "cell_type": "markdown",
   "id": "44c5cc3d-32fb-4e62-812c-9a2695e76d67",
   "metadata": {
    "tags": []
   },
   "source": [
    "## [중요] Pipeline에 사용되는 주요 사용자 파라미터는 config.ini 파일(./pipeline_config/config.ini)로 관리되고 있습니다. \n",
    " - 특히!! mlflow arn도 config.ini 에 넣어 주어야 합니다!!"
   ]
  },
  {
   "cell_type": "markdown",
   "id": "818e8867-4692-4d7c-8009-127c7125489b",
   "metadata": {},
   "source": [
    "## AutoReload"
   ]
  },
  {
   "cell_type": "code",
   "execution_count": 1,
   "id": "a5b26cf7-b510-4508-b86f-bd18e3e96a17",
   "metadata": {
    "tags": []
   },
   "outputs": [],
   "source": [
    "%load_ext autoreload\n",
    "%autoreload 2"
   ]
  },
  {
   "cell_type": "code",
   "execution_count": 2,
   "id": "51d5bbe6-5c31-40e0-be7b-0de1935e7fcd",
   "metadata": {
    "tags": []
   },
   "outputs": [],
   "source": [
    "import boto3\n",
    "from utils.ssm import parameter_store"
   ]
  },
  {
   "cell_type": "code",
   "execution_count": 3,
   "id": "22ffc18b-f73c-4bde-9436-93c378ed3175",
   "metadata": {
    "tags": []
   },
   "outputs": [],
   "source": [
    "strRegionName=boto3.Session().region_name\n",
    "pm = parameter_store(strRegionName)\n",
    "strPrefix = pm.get_params(key=\"PREFIX\")"
   ]
  },
  {
   "cell_type": "markdown",
   "id": "8842031c-56e5-4728-8411-669ae40bac99",
   "metadata": {},
   "source": [
    "## pramamters for tasks"
   ]
  },
  {
   "cell_type": "code",
   "execution_count": 4,
   "id": "ee18fe5f-e302-4913-9d7e-534aae3ad98b",
   "metadata": {
    "tags": []
   },
   "outputs": [],
   "source": [
    "strAccountId = pm.get_params(key=\"-\".join([strPrefix, \"ACCOUNT-ID\"]))\n",
    "strBucketName = pm.get_params(key=\"-\".join([strPrefix, \"BUCKET\"]))\n",
    "strExecutionRole = pm.get_params(key=\"-\".join([strPrefix, \"SAGEMAKER-ROLE-ARN\"]))\n",
    "strS3DataPath = pm.get_params(key=\"-\".join([strPrefix, \"S3-DATA-PATH\"]))\n",
    "tracking_server_arn = pm.get_params(key=\"-\".join([strPrefix, \"MLFLOW-TRACKING-SERVER-ARN\"]))"
   ]
  },
  {
   "cell_type": "code",
   "execution_count": 5,
   "id": "0dc649e2-9aa5-4e99-9ea4-8cc80af63404",
   "metadata": {
    "tags": []
   },
   "outputs": [
    {
     "name": "stdout",
     "output_type": "stream",
     "text": [
      "prefix: ad-ts-jdj\n",
      "account_id: 615299776985\n",
      "defaulut_bucket: sm-anomaly-detection-jdj\n",
      "sagemaker_role: arn:aws:iam::615299776985:role/service-role/AmazonSageMaker-ExecutionRole-20241014T132050\n",
      "s3_data_path: s3://sm-anomaly-detection-jdj/data\n",
      "tracking_server_arn: arn:aws:sagemaker:us-west-2:615299776985:mlflow-tracking-server/mlflow-tracking-ramp\n"
     ]
    }
   ],
   "source": [
    "print (f\"prefix: {strPrefix}\")\n",
    "print (f\"account_id: {strAccountId}\")\n",
    "print (f\"defaulut_bucket: {strBucketName}\")\n",
    "print (f\"sagemaker_role: {strExecutionRole}\")\n",
    "print (f\"s3_data_path: {strS3DataPath}\")\n",
    "print (f\"tracking_server_arn: {tracking_server_arn}\")"
   ]
  },
  {
   "cell_type": "markdown",
   "id": "b83d796a-cebe-4283-9364-f05ae7dd744c",
   "metadata": {},
   "source": [
    "## 1. Pipeline definition"
   ]
  },
  {
   "cell_type": "markdown",
   "id": "cb2e43c1-be0b-45b2-9ecd-0a6632cab241",
   "metadata": {},
   "source": [
    "##### 1. \"./pipeline_config/config.ini\" 파일열기\n",
    "##### 2. \"tracking_server_arn\"을 자신의 mlflow arn으로 반드시 수정할 것 !!!"
   ]
  },
  {
   "cell_type": "code",
   "execution_count": 6,
   "id": "5ba096c0-9ef1-4026-a2c2-a121bedb4708",
   "metadata": {
    "tags": []
   },
   "outputs": [
    {
     "name": "stderr",
     "output_type": "stream",
     "text": [
      "/home/ec2-user/anaconda3/envs/pytorch_p310/lib/python3.10/site-packages/pydantic/_internal/_fields.py:172: UserWarning: Field name \"json\" in \"MonitoringDatasetFormat\" shadows an attribute in parent \"Base\"\n",
      "  warnings.warn(\n"
     ]
    },
    {
     "data": {
      "text/html": [
       "<pre style=\"white-space:pre;overflow-x:auto;line-height:normal;font-family:Menlo,'DejaVu Sans Mono',consolas,'Courier New',monospace\"><span style=\"color: #7fbfbf; text-decoration-color: #7fbfbf\">[06/06/25 12:52:36] </span><span style=\"color: #0069ff; text-decoration-color: #0069ff; font-weight: bold\">INFO    </span> Found credentials from IAM Role:                                   <a href=\"file:///home/ec2-user/anaconda3/envs/pytorch_p310/lib/python3.10/site-packages/botocore/credentials.py\" target=\"_blank\"><span style=\"color: #7f7f7f; text-decoration-color: #7f7f7f\">credentials.py</span></a><span style=\"color: #7f7f7f; text-decoration-color: #7f7f7f\">:</span><a href=\"file:///home/ec2-user/anaconda3/envs/pytorch_p310/lib/python3.10/site-packages/botocore/credentials.py#1132\" target=\"_blank\"><span style=\"color: #7f7f7f; text-decoration-color: #7f7f7f\">1132</span></a>\n",
       "<span style=\"color: #7fbfbf; text-decoration-color: #7fbfbf\">                    </span>         BaseNotebookInstanceEc2InstanceRole                                <span style=\"color: #7f7f7f; text-decoration-color: #7f7f7f\">                   </span>\n",
       "</pre>\n"
      ],
      "text/plain": [
       "\u001b[2;36m[06/06/25 12:52:36]\u001b[0m\u001b[2;36m \u001b[0m\u001b[1;38;2;0;105;255mINFO    \u001b[0m Found credentials from IAM Role:                                   \u001b]8;id=208951;file:///home/ec2-user/anaconda3/envs/pytorch_p310/lib/python3.10/site-packages/botocore/credentials.py\u001b\\\u001b[2mcredentials.py\u001b[0m\u001b]8;;\u001b\\\u001b[2m:\u001b[0m\u001b]8;id=780484;file:///home/ec2-user/anaconda3/envs/pytorch_p310/lib/python3.10/site-packages/botocore/credentials.py#1132\u001b\\\u001b[2m1132\u001b[0m\u001b]8;;\u001b\\\n",
       "\u001b[2;36m                    \u001b[0m         BaseNotebookInstanceEc2InstanceRole                                \u001b[2m                   \u001b[0m\n"
      ]
     },
     "metadata": {},
     "output_type": "display_data"
    },
    {
     "name": "stdout",
     "output_type": "stream",
     "text": [
      "sagemaker.config INFO - Not applying SDK defaults from location: /etc/xdg/sagemaker/config.yaml\n",
      "sagemaker.config INFO - Not applying SDK defaults from location: /home/ec2-user/.config/sagemaker/config.yaml\n"
     ]
    }
   ],
   "source": [
    "import os\n",
    "import time\n",
    "import boto3\n",
    "import mlflow\n",
    "import argparse\n",
    "from pprint import pprint\n",
    "from pipeline_config.config import config_handler\n",
    "\n",
    "from sagemaker.pytorch.estimator import PyTorch\n",
    "from sagemaker.pytorch.model import PyTorchModel\n",
    "from sagemaker.workflow.pipeline import Pipeline\n",
    "from sagemaker.workflow.model_step import ModelStep\n",
    "from sagemaker.workflow.properties import PropertyFile\n",
    "from sagemaker.workflow.execution_variables import ExecutionVariables\n",
    "from sagemaker.workflow.steps import CacheConfig, ProcessingStep, TrainingStep\n",
    "from sagemaker.workflow.pipeline_context import PipelineSession, LocalPipelineSession\n",
    "from sagemaker.processing import ProcessingInput, ProcessingOutput, FrameworkProcessor\n",
    "from sagemaker.workflow.retry import StepRetryPolicy, StepExceptionTypeEnum, SageMakerJobExceptionTypeEnum, SageMakerJobStepRetryPolicy\n",
    "from sagemaker.workflow.conditions import ConditionLessThanOrEqualTo, ConditionGreaterThanOrEqualTo\n",
    "from sagemaker.workflow.condition_step import ConditionStep\n",
    "from sagemaker.workflow.functions import Join, JsonGet\n",
    "from sagemaker.workflow.fail_step import FailStep\n",
    "from sagemaker.model_metrics import MetricsSource, ModelMetrics \n",
    "\n",
    "from mlflow.tracking import MlflowClient"
   ]
  },
  {
   "cell_type": "code",
   "execution_count": 7,
   "id": "32590397-ada9-4787-b58d-30759761d447",
   "metadata": {
    "tags": []
   },
   "outputs": [],
   "source": [
    "class mlops_pipeline():\n",
    "\n",
    "    def __init__(self, args):\n",
    "\n",
    "        self.args = args\n",
    "\n",
    "        self.strRegionName = self.args.config.get_value(\"COMMON\", \"region\")\n",
    "        self.pm = parameter_store(self.strRegionName)\n",
    "        self._env_setting()        \n",
    "\n",
    "    def _env_setting(self, ):\n",
    "\n",
    "        self.strPrefix = self.args.config.get_value(\"COMMON\", \"prefix\")\n",
    "        self.strExecutionRole = self.args.config.get_value(\"COMMON\", \"role\")\n",
    "        self.strBucketName = self.args.config.get_value(\"COMMON\", \"bucket\")\n",
    "        self.strModelName = self.args.config.get_value(\"COMMON\", \"model_name\")\n",
    "        self.strPrepImageUri = self.args.config.get_value(\"COMMON\", \"image_uri_prep\")\n",
    "        self.strTrImageUri = self.args.config.get_value(\"COMMON\", \"image_uri_tr\")\n",
    "        self.strInfImageUri = self.args.config.get_value(\"COMMON\", \"image_uri_inf\")\n",
    "        self.strPipelineName = \"-\".join([self.strPrefix, self.strModelName])\n",
    "        self.tracking_server_arn = self.args.config.get_value(\"COMMON\", \"tracking_server_arn\")\n",
    "        self.mlflow_exp_name = self.args.config.get_value(\"COMMON\", \"mlflow_exp_name\")\n",
    "        #self.mlflow_run_name = ExecutionVariables.PIPELINE_EXECUTION_ID ## PIPELINE_EXECUTION_ID는 runtime별로 변경 -> cache 안된다!      \n",
    "        self.mlflow_run_name = \"sagemaker-ramp\"\n",
    "        \n",
    "        ## mlflow\n",
    "        client = MlflowClient()\n",
    "        mlflow.set_tracking_uri(self.tracking_server_arn)\n",
    "        \n",
    "        try:\n",
    "            # experiment 존재 여부 확인\n",
    "            experiment = client.get_experiment_by_name(self.mlflow_exp_name)\n",
    "\n",
    "            if experiment is None:\n",
    "                # experiment가 없으면 새로 생성\n",
    "                experiment_id = mlflow.create_experiment(self.mlflow_exp_name)\n",
    "                print(f\"Created new experiment '{self.mlflow_exp_name}' with ID: {experiment_id}\")\n",
    "            else:\n",
    "                experiment_id = experiment.experiment_id\n",
    "                print(f\"Using existing experiment '{self.mlflow_exp_name}' with ID: {experiment_id}\")\n",
    "\n",
    "            # experiment 설정\n",
    "            mlflow.set_experiment(self.mlflow_exp_name)\n",
    "\n",
    "        except Exception as e:\n",
    "            print(f\"Error in run_under_experiment: {str(e)}\")\n",
    "                            \n",
    "        session = boto3.Session()\n",
    "        self.credentials = session.get_credentials()\n",
    "\n",
    "        # SageMaker PipeLine Caching: https://docs.aws.amazon.com/sagemaker/latest/dg/pipelines-caching-enabling.html\n",
    "        self.cache_config = CacheConfig(\n",
    "            enable_caching=self.args.config.get_value(\"PIPELINE\", \"enable_caching\", dtype=\"boolean\"),\n",
    "            expire_after=self.args.config.get_value(\"PIPELINE\", \"expire_after\")\n",
    "        )\n",
    "\n",
    "        self.retry_policies=[\n",
    "            # retry when resource limit quota gets exceeded\n",
    "            SageMakerJobStepRetryPolicy(\n",
    "                exception_types=[SageMakerJobExceptionTypeEnum.RESOURCE_LIMIT],\n",
    "                expire_after_mins=180,\n",
    "                interval_seconds=60,\n",
    "                backoff_rate=1.0\n",
    "            ),\n",
    "        ]\n",
    "\n",
    "        if self.args.config.get_value(\"LOCALMODE\", \"mode\", dtype=\"boolean\"): self.pipeline_session = LocalPipelineSession()\n",
    "        else: self.pipeline_session = PipelineSession()\n",
    "\n",
    "        self.pm.put_params(key=\"-\".join([self.strPrefix, \"PIPELINE-NAME\"]), value=self.strPipelineName, overwrite=True)\n",
    "\n",
    "        print (f\" == Envrionment parameters == \")\n",
    "        print (f\"   SAGEMAKER-ROLE-ARN: {self.strExecutionRole}\")\n",
    "        print (f\"   PREFIX: {self.strPrefix}\")\n",
    "        print (f\"   BUCKET: {self.strBucketName}\")\n",
    "        print (f\"   IMAGE-URI-PREP: {self.strPrepImageUri}\")\n",
    "\n",
    "    def _step_preprocessing(self, ):\n",
    "        \n",
    "        if self.args.config.get_value(\"LOCALMODE\", \"mode\", dtype=\"boolean\"): instance_type = \"local\"\n",
    "        else: instance_type = self.args.config.get_value(\"PREPROCESSING\", \"instance_type\")\n",
    "        \n",
    "        strPrefixPrep = \"/opt/ml/processing/\"\n",
    "        strDataPath = self.args.config.get_value(\"PREPROCESSING\", \"data_path\")\n",
    "        strTrainDataName = self.args.config.get_value(\"PREPROCESSING\", \"data_name\")\n",
    "        \n",
    "        # network_config로 받으면 된다\n",
    "        prep_processor = FrameworkProcessor(\n",
    "            estimator_cls=PyTorch,\n",
    "            framework_version=self.args.config.get_value(\"PREPROCESSING\", \"framework_version\"),\n",
    "            image_uri=self.strPrepImageUri,\n",
    "            instance_type=instance_type,\n",
    "            instance_count=self.args.config.get_value(\"PREPROCESSING\", \"instance_count\", dtype=\"int\"),\n",
    "            role=self.strExecutionRole,\n",
    "            base_job_name=\"preprocessing\", # bucket에 보이는 이름 (pipeline으로 묶으면 pipeline에서 정의한 이름으로 bucket에 보임)\n",
    "            sagemaker_session=self.pipeline_session,\n",
    "            #env={\"MLFLOW_TRACKING_ARN\": self.tracking_server_arn}\n",
    "        )\n",
    "        \n",
    "        step_args = prep_processor.run(\n",
    "            job_name=\"preprocessing\", ## 이걸 넣어야 캐시가 작동함, 안그러면 프로세서의 base_job_name 이름뒤에 날짜 시간이 붙어서 캐시 동작 안함\n",
    "            #git_config=git_config,\n",
    "            code='preprocessing-mlflow.py', #소스 디렉토리 안에서 파일 path\n",
    "            source_dir= \"./src/preprocessing\", #현재 파일에서 소스 디렉토리 상대경로 # add processing.py and requirements.txt here\n",
    "            inputs=[\n",
    "                ProcessingInput(\n",
    "                    input_name=\"input-data\",\n",
    "                    source=strDataPath,\n",
    "                    destination=os.path.join(strPrefixPrep, \"input\")\n",
    "                ),\n",
    "            ],\n",
    "            outputs=[\n",
    "                ProcessingOutput(\n",
    "                    output_name=\"output-data\",\n",
    "                    source=os.path.join(strPrefixPrep, \"output\"),\n",
    "                    destination=os.path.join(\n",
    "                        \"s3://{}\".format(self.strBucketName),\n",
    "                        self.strPipelineName,\n",
    "                        \"preprocessing\",\n",
    "                        \"output\"\n",
    "                    )\n",
    "                ),\n",
    "            ],\n",
    "            arguments=[\n",
    "                \"--proc_prefix\", strPrefixPrep, \\\n",
    "                \"--shingle_size\", str(self.args.config.get_value(\"PREPROCESSING\", \"shingle_size\", dtype=\"int\")), \\\n",
    "                \"--train_data_name\", strTrainDataName,\n",
    "                \"--mlflow_tracking_arn\", self.tracking_server_arn,\n",
    "                \"--experiment_name\", self.mlflow_exp_name,\n",
    "                \"--mlflow_run_name\", self.mlflow_run_name\n",
    "            ]\n",
    "        )\n",
    "\n",
    "        self.preprocessing_process = ProcessingStep(\n",
    "            name=\"PreprocessingProcess\", ## Processing job이름\n",
    "            step_args=step_args,\n",
    "            cache_config=self.cache_config,\n",
    "            retry_policies=self.retry_policies\n",
    "        )\n",
    "        \n",
    "        print (\"  \\n== Preprocessing Step ==\")\n",
    "        print (\"   \\nArgs: \")\n",
    "\n",
    "        \n",
    "        for key, value in self.preprocessing_process.arguments.items():\n",
    "            print (\"===========================\")\n",
    "            print (f'key: {key}')\n",
    "            pprint (value)\n",
    "            \n",
    "        print (type(self.preprocessing_process.properties))\n",
    "            \n",
    "\n",
    "    def _step_training(self, ):\n",
    "        \n",
    "        if self.args.config.get_value(\"LOCALMODE\", \"mode\", dtype=\"boolean\"):\n",
    "            instance_type = \"local_gpu\"\n",
    "            environment = {\n",
    "                \"AWS_ACCESS_KEY_ID\": self.credentials.access_key,\n",
    "                \"AWS_SECRET_ACCESS_KEY\": self.credentials.secret_key,\n",
    "                \"AWS_SESSION_TOKEN\": self.credentials.token,\n",
    "                \"AWS_REGION\": self.strRegionName\n",
    "            }\n",
    "        else:\n",
    "            instance_type = self.args.config.get_value(\"TRAINING\", \"instance_type\")\n",
    "            environment={\n",
    "                \"MLFLOW_TRACKING_ARN\": self.tracking_server_arn,\n",
    "                \"EXPERIMENT_NAME\": self.mlflow_exp_name,\n",
    "                \"MLFLOW_RUN_NAME\": self.mlflow_run_name\n",
    "            }\n",
    "        \n",
    "        dicHyperParams = {\n",
    "            \"epochs\":\"50\",\n",
    "            \"batch_size\":\"32\",\n",
    "            \"lr\":\"0.04\",\n",
    "            \"shingle_size\":str(self.args.config.get_value(\"PREPROCESSING\", \"shingle_size\", dtype=\"int\")),\n",
    "            \"num_features\":\"4\",\n",
    "            \"emb_size\":\"4\",\n",
    "            \"workers\":\"2\"\n",
    "        }\n",
    "\n",
    "        strOutputPath = os.path.join(\n",
    "            \"s3://{}\".format(self.strBucketName),\n",
    "            self.strPipelineName,\n",
    "            \"training\",\n",
    "            \"model-output\"\n",
    "        )\n",
    "\n",
    "        strCodeLocation = os.path.join(\n",
    "            \"s3://{}\".format(self.strBucketName),\n",
    "            self.strPipelineName,\n",
    "            \"training\",\n",
    "            \"backup_codes\"\n",
    "        )\n",
    "\n",
    "        num_re = \"([0-9\\\\.]+)(e-?[[01][0-9])?\"\n",
    "        metric_definitions = [\n",
    "            {\"Name\": \"Train loss\", \"Regex\": f\"loss={num_re}\"},\n",
    "            {\"Name\": \"Train cos\", \"Regex\": f\"wer:{num_re}\"},\n",
    "            {\"Name\": \"Val cos\", \"Regex\": f\"wer:{num_re}\"}\n",
    "        ]\n",
    "\n",
    "        bSpotTraining = False\n",
    "        if bSpotTraining:\n",
    "            nMaxWait = 1*60*60\n",
    "            nMaxRun = 1*60*60\n",
    "\n",
    "        else:\n",
    "            nMaxWait = None\n",
    "            nMaxRun = 1*60*60\n",
    "\n",
    "        ## 비용 추가!!!!!!! 반드시 확인!!!!!!\n",
    "        bUseTrainWarmPool = True ## training image 다운받지 않음, 속도 빨라진다\n",
    "        \n",
    "        if bUseTrainWarmPool: nKeepAliveSeconds = 3600 ## 최대 1시간 동안!!, service quota에서 warmpool을 위한 request 필요\n",
    "        else: nKeepAliveSeconds = None\n",
    "        if bSpotTraining:\n",
    "            bUseTrainWarmPool = False # warmpool은 spot instance 사용시 활용 할 수 없음\n",
    "            nKeepAliveSeconds = None\n",
    "        \n",
    "        self.estimator = PyTorch(\n",
    "            entry_point=\"main-mlflow.py\", # the script we want to run\n",
    "            source_dir=\"./src/training\", # where our conf/script is\n",
    "            #git_config=git_config,\n",
    "            role=self.strExecutionRole,\n",
    "            instance_type=instance_type,\n",
    "            instance_count=self.args.config.get_value(\"TRAINING\", \"instance_count\", dtype=\"int\"),\n",
    "            image_uri=self.strTrImageUri,\n",
    "            framework_version=self.args.config.get_value(\"TRAINING\", \"framework_version\"),\n",
    "            volume_size=125, ## cache 적용 안된다. \n",
    "            code_location=strCodeLocation,\n",
    "            output_path=strOutputPath,\n",
    "            disable_profiler=True,\n",
    "            debugger_hook_config=False,\n",
    "            hyperparameters=dicHyperParams, #{'config-path': 'conf'},\n",
    "            #distribution={\"smdistributed\":{\"dataparallel\":{\"enabled\":True, \"fp16\": True}}},\n",
    "            sagemaker_session=self.pipeline_session,\n",
    "            metric_definitions=metric_definitions,\n",
    "            max_run=nMaxRun,\n",
    "            use_spot_instances=bSpotTraining,  # spot instance 활용\n",
    "            max_wait=nMaxWait,\n",
    "            keep_alive_period_in_seconds=nKeepAliveSeconds,\n",
    "            enable_sagemaker_metrics=True,\n",
    "            environment=environment\n",
    "        )\n",
    "\n",
    "        step_training_args = self.estimator.fit(\n",
    "            job_name=\"training\",\n",
    "            inputs={\n",
    "                \"train\": self.preprocessing_process.properties.ProcessingOutputConfig.Outputs[\"output-data\"].S3Output.S3Uri,\n",
    "                \"validation\": self.preprocessing_process.properties.ProcessingOutputConfig.Outputs[\"output-data\"].S3Output.S3Uri,\n",
    "            },\n",
    "            logs=\"All\",\n",
    "        )\n",
    "        \n",
    "        self.training_process = TrainingStep(\n",
    "            name=\"TrainingProcess\",\n",
    "            step_args=step_training_args,\n",
    "            cache_config=self.cache_config,\n",
    "            retry_policies=self.retry_policies\n",
    "        )\n",
    "\n",
    "        print (\"  \\n== Training Step ==\")\n",
    "        print (\"   \\nArgs: \")\n",
    "\n",
    "        for key, value in self.training_process.arguments.items():\n",
    "            print (\"===========================\")\n",
    "            print (f'key: {key}')\n",
    "            pprint (value)\n",
    "    \n",
    "    def _step_evaluation(self, ):\n",
    "        \n",
    "        if self.args.config.get_value(\"LOCALMODE\", \"mode\", dtype=\"boolean\"): instance_type = \"local\"\n",
    "        else: instance_type = self.args.config.get_value(\"EVALUATION\", \"instance_type\")\n",
    "        \n",
    "        strPrefixPrep = \"/opt/ml/processing/\"\n",
    "        \n",
    "        # network_config로 받으면 된다\n",
    "        eval_processor = FrameworkProcessor(\n",
    "            estimator_cls=PyTorch,\n",
    "            framework_version=self.args.config.get_value(\"EVALUATION\", \"framework_version\"),\n",
    "            image_uri=self.strPrepImageUri,\n",
    "            instance_type=instance_type,\n",
    "            instance_count=self.args.config.get_value(\"EVALUATION\", \"instance_count\", dtype=\"int\"),\n",
    "            role=self.strExecutionRole,\n",
    "            base_job_name=\"evaluation\", # bucket에 보이는 이름 (pipeline으로 묶으면 pipeline에서 정의한 이름으로 bucket에 보임)\n",
    "            sagemaker_session=self.pipeline_session,\n",
    "            #env={\"MLFLOW_TRACKING_ARN\": self.tracking_server_arn}\n",
    "        )\n",
    "        \n",
    "        step_args = eval_processor.run(\n",
    "            job_name=\"evaluation\", ## 이걸 넣어야 캐시가 작동함, 안그러면 프로세서의 base_job_name 이름뒤에 날짜 시간이 붙어서 캐시 동작 안함\n",
    "            #git_config=git_config,\n",
    "            code='evaluation-mlflow.py', #소스 디렉토리 안에서 파일 path\n",
    "            source_dir= \"./src/evaluation\", #현재 파일에서 소스 디렉토리 상대경로\n",
    "            inputs=[\n",
    "                ProcessingInput(\n",
    "                    input_name=\"test-data\",\n",
    "                    source=self.preprocessing_process.properties.ProcessingOutputConfig.Outputs[\"output-data\"].S3Output.S3Uri,\n",
    "                    destination=os.path.join(strPrefixPrep, \"test\")\n",
    "                ),\n",
    "                ProcessingInput(\n",
    "                    input_name=\"model_artifact\",\n",
    "                    source=self.training_process.properties.ModelArtifacts.S3ModelArtifacts,\n",
    "                    destination=os.path.join(strPrefixPrep, \"model\")\n",
    "                )\n",
    "            ],\n",
    "            outputs=[\n",
    "                ProcessingOutput(\n",
    "                    output_name=\"evaluation\",\n",
    "                    source=os.path.join(strPrefixPrep, \"output\"),\n",
    "                    destination=os.path.join(\n",
    "                        \"s3://{}\".format(self.strBucketName),\n",
    "                        self.strPipelineName,\n",
    "                        \"evaluation\",\n",
    "                        \"output\"\n",
    "                    )\n",
    "                ),\n",
    "            ],\n",
    "            arguments=[\n",
    "                \"--proc_prefix\", strPrefixPrep, \\\n",
    "                \"--mlflow_tracking_arn\", self.tracking_server_arn,\n",
    "                \"--experiment_name\", self.mlflow_exp_name,\n",
    "                \"--mlflow_run_name\", self.mlflow_run_name\n",
    "            ]\n",
    "        )\n",
    "\n",
    "        self.evaluation_report = PropertyFile(\n",
    "            name=\"EvaluationReport\",\n",
    "            output_name=\"evaluation\", ## evaluation의 ProcessingOutput의 output_name\n",
    "            path=\"evaluation.json\", ## evaluate.py 에서 write하는 부분\n",
    "        )\n",
    "        \n",
    "        self.evaluation_process = ProcessingStep(\n",
    "            name=\"EvaluationProcess\", ## Processing job이름\n",
    "            step_args=step_args,\n",
    "            property_files=[self.evaluation_report],\n",
    "            cache_config=self.cache_config,\n",
    "            retry_policies=self.retry_policies\n",
    "        )\n",
    "        \n",
    "        print (\"  \\n== Evaluation Step ==\")\n",
    "        print (\"   \\nArgs: \")\n",
    "\n",
    "        \n",
    "        for key, value in self.evaluation_process.arguments.items():\n",
    "            print (\"===========================\")\n",
    "            print (f'key: {key}')\n",
    "            pprint (value)\n",
    "            \n",
    "        print (type(self.evaluation_process.properties))\n",
    "        \n",
    "    def _step_model_registration(self, ):\n",
    "        \n",
    "        self.strModelPackageGroupName = \"-\".join([\"MPG\", self.strPrefix, self.strModelName])\n",
    "        self.pm.put_params(key=\"-\".join([self.strPrefix, \"MODEL-GROUP-NAME\"]), value=self.strModelPackageGroupName, overwrite=True)\n",
    "                                                                              \n",
    "        model_metrics = ModelMetrics(\n",
    "            model_statistics=MetricsSource(\n",
    "                s3_uri=Join(\n",
    "                    on=\"/\",\n",
    "                    values=[\n",
    "                        self.evaluation_process.properties.ProcessingOutputConfig.Outputs[\"evaluation\"].S3Output.S3Uri,\n",
    "                        #print (self.evaluation_process.arguments.items())로 확인가능\n",
    "                        f\"evaluation-{self.strModelName}.json\"\n",
    "                    ],\n",
    "                ),\n",
    "                content_type=\"application/json\")\n",
    "        )\n",
    "        \n",
    "        model = PyTorchModel(\n",
    "            source_dir=\"./src/deploy\",\n",
    "            entry_point=\"inference.py\",\n",
    "            model_data=self.training_process.properties.ModelArtifacts.S3ModelArtifacts,\n",
    "            role=self.strExecutionRole,\n",
    "            framework_version=self.args.config.get_value(\"MODEL_REGISTER\", \"framework_version\"),\n",
    "            image_uri=self.strInfImageUri,\n",
    "            model_server_workers=1,\n",
    "            code_location=os.path.join(\n",
    "                \"s3://\",\n",
    "                self.strBucketName,\n",
    "                self.strPipelineName,\n",
    "                \"inference\",\n",
    "                \"model\"\n",
    "            ),\n",
    "            sagemaker_session=self.pipeline_session,\n",
    "        )\n",
    "        \n",
    "        print (\"=======================\")\n",
    "        print (\"=======================\")\n",
    "        print (\"model.image_uri\", model.image_uri)\n",
    "        print (\"self.strInfImageUri\", self.strInfImageUri)\n",
    "        model.image_uri = self.strInfImageUri\n",
    "        print (\"model.image_uri\", model.image_uri)\n",
    "\n",
    "        step_args = model.register(\n",
    "            content_types=[\"application/json\", \"file-path/raw-bytes\", \"text/csv\"],\n",
    "            response_types=[\"application/json\"],\n",
    "            inference_instances=self.args.config.get_value(\"MODEL_REGISTER\", \"inference_instances\", dtype=\"list\"),\n",
    "            transform_instances=self.args.config.get_value(\"MODEL_REGISTER\", \"transform_instances\", dtype=\"list\"),\n",
    "            model_package_group_name=self.strModelPackageGroupName,\n",
    "            approval_status=self.args.config.get_value(\"MODEL_REGISTER\", \"model_approval_status_default\"),\n",
    "            ## “Approved”, “Rejected”, or “PendingManualApproval” (default: “PendingManualApproval”).\n",
    "            model_metrics=model_metrics\n",
    "        )\n",
    "\n",
    "        self.register_process = ModelStep(\n",
    "            name=\"ModelRegisterProcess\",\n",
    "            step_args=step_args,\n",
    "            #depends_on=[self.evaluation_process]\n",
    "        )\n",
    "        \n",
    "    def _step_fail(self, ):\n",
    "            \n",
    "        self.fail_process = FailStep(\n",
    "            name=\"ConditionFail\",\n",
    "            error_message=Join(\n",
    "                on=\" \",\n",
    "                values=[\"Execution failed due to performance threshold\"]\n",
    "            ),\n",
    "        )\n",
    "        \n",
    "    def _step_condition(self, ):\n",
    "                \n",
    "        # https://docs.aws.amazon.com/ko_kr/sagemaker/latest/dg/build-and-manage-steps.html#step-type-condition\n",
    "        # 조건문 종류: https://sagemaker.readthedocs.io/en/stable/amazon_sagemaker_model_building_pipeline.html#conditions\n",
    "        \n",
    "        self.condition_acc = ConditionGreaterThanOrEqualTo(\n",
    "            left=JsonGet(\n",
    "                step_name=self.evaluation_process.name,\n",
    "                property_file=self.evaluation_report,\n",
    "                json_path=\"metrics.accuracy.value\" ## evaluation.py에서 json으로 performance를 기록한 대로 한다. \n",
    "                                                   ## 즉, S3에 저장된 evaluation-<model_name>.json 파일안에 있는 값을 적어줘야 한다. \n",
    "            ),\n",
    "            right=self.args.config.get_value(\"CONDITION\", \"thesh_accuracy\", dtype=\"float\"),\n",
    "        )\n",
    "        \n",
    "        self.condition_prec = ConditionGreaterThanOrEqualTo(\n",
    "            left=JsonGet(\n",
    "                step_name=self.evaluation_process.name,\n",
    "                property_file=self.evaluation_report,\n",
    "                json_path=\"metrics.precision.value\" ## evaluation.py에서 json으로 performance를 기록한 대로 한다. \n",
    "                                                    ## 즉, S3에 저장된 evaluation-<model_name>.json 파일안에 있는 값을 적어줘야 한다. \n",
    "            ),\n",
    "            right=self.args.config.get_value(\"CONDITION\", \"thesh_precision\", dtype=\"float\"),\n",
    "        )\n",
    "        \n",
    "        self.condition_process = ConditionStep(\n",
    "            name=\"CheckCondition\",\n",
    "            display_name=\"CheckCondition\",\n",
    "            conditions=[self.condition_acc, self.condition_prec], ## 여러 조건 함께 사용할 수 있음\n",
    "            if_steps=[self.register_process],\n",
    "            else_steps=[self.fail_process]\n",
    "        )\n",
    "        \n",
    "        print (\"  \\n== Condition Step ==\")\n",
    "        print (\"   \\nArgs: \")\n",
    "        for key, value in self.condition_process.arguments.items():\n",
    "            print (\"===========================\")\n",
    "            print (f'key: {key}')\n",
    "            pprint (value)\n",
    "\n",
    "    def _step_deploy(self, ):\n",
    "        \n",
    "        strInstanceType = self.args.config.get_value(\"DEPLOY\", \"instance_type\")\n",
    "        nInstanceCount = self.args.config.get_value(\"DEPLOY\", \"instance_count\", dtype=\"int\")\n",
    "        strDepolyInstanceType = self.args.config.get_value(\"DEPLOY\", \"instance_type\")\n",
    "        strEndpointName = f'endpoint--{self.strPipelineName}-{int(time.time())}'\n",
    "        strProcPrefixPath = \"/opt/ml/processing\"\n",
    "        \n",
    "        deploy_processor = FrameworkProcessor(\n",
    "            estimator_cls=PyTorch,\n",
    "            framework_version=self.args.config.get_value(\"DEPLOY\", \"processing_framework_version\"),\n",
    "            #py_version=\"py310\",\n",
    "            image_uri=self.strInfImageUri,\n",
    "            role=self.strExecutionRole,\n",
    "            instance_type=strInstanceType,\n",
    "            instance_count=nInstanceCount,\n",
    "            base_job_name=\"deploy\", # bucket에 보이는 이름 (pipeline으로 묶으면 pipeline에서 정의한 이름으로 bucket에 보임)\n",
    "            sagemaker_session=self.pipeline_session\n",
    "        )\n",
    "        \n",
    "        step_deploy_args = deploy_processor.run(\n",
    "            code=\"deploy.py\",\n",
    "            source_dir=\"src/deploy/\",\n",
    "            arguments=[\n",
    "                \"--prefix_deploy\", strProcPrefixPath, \\\n",
    "                \"--region\", self.strRegionName, \\\n",
    "                \"--instance_type\", strInstanceType, \\\n",
    "                \"--depoly_instance_type\", strDepolyInstanceType, \\\n",
    "                \"--model_package_group_name\", self.strModelPackageGroupName, \\\n",
    "                \"--endpoint_name\", strEndpointName, \\\n",
    "                \"--execution_role\", self.strExecutionRole, \\\n",
    "            ],\n",
    "            job_name=\"deploy\",\n",
    "        )\n",
    "        \n",
    "        self.pm.put_params(key=self.strPrefix + \"-ENDPOINT-NAME\", value=strEndpointName, overwrite=True)\n",
    "        \n",
    "        self.deploy_process = ProcessingStep(\n",
    "            name=\"DeployProcess\", ## Processing job이름\n",
    "            step_args=step_deploy_args,\n",
    "            depends_on=[self.register_process],\n",
    "            cache_config=self.cache_config,\n",
    "            retry_policies=self.retry_policies\n",
    "        )\n",
    "        \n",
    "        print (\"  \\n== Deploy Step ==\")\n",
    "        print (\"   \\nArgs: \")\n",
    "\n",
    "        for key, value in self.deploy_process.arguments.items():\n",
    "            print (\"===========================\")\n",
    "            print (f'key: {key}')\n",
    "            pprint (value)\n",
    "            \n",
    "    def _get_pipeline(self, ):\n",
    "\n",
    "        pipeline = Pipeline(\n",
    "            name=self.strPipelineName,\n",
    "            #steps=[self.preprocessing_process, self.training_process, self.register_process, self.deploy_process],\n",
    "            steps=[self.preprocessing_process, self.training_process, self.evaluation_process, self.condition_process, self.deploy_process],\n",
    "            sagemaker_session=self.pipeline_session\n",
    "        )\n",
    "\n",
    "        return pipeline\n",
    "\n",
    "    def execution(self, ):\n",
    "\n",
    "        self._step_preprocessing()\n",
    "        self._step_training()\n",
    "        self._step_evaluation()\n",
    "        self._step_model_registration()\n",
    "        self._step_fail()\n",
    "        self._step_condition()\n",
    "        self._step_deploy()\n",
    "\n",
    "        pipeline = self._get_pipeline()\n",
    "        pipeline.upsert(role_arn=self.strExecutionRole) ## Submit the pipeline definition to the SageMaker Pipelines service \n",
    "        execution = pipeline.start()\n",
    "        desc = execution.describe()\n",
    "\n",
    "        self.pm.put_params(\n",
    "            key=\"-\".join([self.strPrefix, \"PIPELINE-ARN\"]),\n",
    "            value=desc[\"PipelineArn\"],\n",
    "            overwrite=True\n",
    "        )\n",
    "        print (\"PipelineArn: \", desc[\"PipelineArn\"])\n",
    "        print (execution.describe())"
   ]
  },
  {
   "cell_type": "code",
   "execution_count": 8,
   "id": "9088b8f8-f818-4b5d-8bba-34f86709afac",
   "metadata": {
    "tags": []
   },
   "outputs": [
    {
     "name": "stdout",
     "output_type": "stream",
     "text": [
      "====== config info. ======\n",
      "  LOCALMODE: mode:False\n",
      "  COMMON: prefix:DJ-SM-PIPELINE\n",
      "  COMMON: region:us-west-2\n",
      "  COMMON: role:arn:aws:iam::615299776985:role/service-role/AmazonSageMaker-ExecutionRole-20241014T132050\n",
      "  COMMON: bucket:sm-anomaly-detection-jdj\n",
      "  COMMON: model_name:RAPP\n",
      "  COMMON: image_uri_prep:615299776985.dkr.ecr.us-west-2.amazonaws.com/prep-docker-image\n",
      "  COMMON: image_uri_tr:615299776985.dkr.ecr.us-west-2.amazonaws.com/tr-docker-image\n",
      "  COMMON: image_uri_inf:615299776985.dkr.ecr.us-west-2.amazonaws.com/inf-docker-image\n",
      "  COMMON: tracking_server_arn:arn:aws:sagemaker:us-west-2:615299776985:mlflow-tracking-server/mlflow-tracking-ramp\n",
      "  COMMON: mlflow_exp_name:anomaly-detection-exp-trial\n",
      "  PIPELINE: enable_caching:True\n",
      "  PIPELINE: expire_after:T24H\n",
      "  PREPROCESSING: data_path:s3://sm-anomaly-detection-jdj/data\n",
      "  PREPROCESSING: data_name:merged_clicks_1T.csv\n",
      "  PREPROCESSING: framework_version:2.1\n",
      "  PREPROCESSING: instance_type:ml.g4dn.xlarge\n",
      "  PREPROCESSING: instance_count:1\n",
      "  PREPROCESSING: shingle_size:4\n",
      "  TRAINING: framework_version:2.1\n",
      "  TRAINING: instance_type:ml.g4dn.xlarge\n",
      "  TRAINING: instance_count:1\n",
      "  EVALUATION: framework_version:2.1\n",
      "  EVALUATION: instance_type:ml.g4dn.xlarge\n",
      "  EVALUATION: instance_count:1\n",
      "  CONDITION: thesh_accuracy:0.5\n",
      "  CONDITION: thesh_precision:0.5\n",
      "  MODEL_REGISTER: framework_version:2.1\n",
      "  MODEL_REGISTER: model_approval_status_default:Approved\n",
      "  MODEL_REGISTER: inference_instances:[\"ml.g4dn.xlarge\"]\n",
      "  MODEL_REGISTER: transform_instances:[\"ml.g4dn.xlarge\"]\n",
      "  DEPLOY: instance_type:ml.g4dn.xlarge\n",
      "  DEPLOY: instance_count:1\n",
      "  DEPLOY: processing_framework_version:2.1\n",
      "  DEPLOY: initial_instance_count:1\n",
      "  DEPLOY: model_server_workers:1\n",
      "  DEPLOY: framework_version:2.1\n",
      "  DEPLOY: py_version:py310\n",
      "==========================\n",
      "Received arguments Namespace(config=<pipeline_config.config.config_handler object at 0x7f7a6f7805b0>)\n"
     ]
    },
    {
     "data": {
      "text/html": [
       "<pre style=\"white-space:pre;overflow-x:auto;line-height:normal;font-family:Menlo,'DejaVu Sans Mono',consolas,'Courier New',monospace\"><span style=\"color: #7fbfbf; text-decoration-color: #7fbfbf\">                    </span><span style=\"color: #0069ff; text-decoration-color: #0069ff; font-weight: bold\">INFO    </span> Found credentials from IAM Role:                                   <a href=\"file:///home/ec2-user/anaconda3/envs/pytorch_p310/lib/python3.10/site-packages/botocore/credentials.py\" target=\"_blank\"><span style=\"color: #7f7f7f; text-decoration-color: #7f7f7f\">credentials.py</span></a><span style=\"color: #7f7f7f; text-decoration-color: #7f7f7f\">:</span><a href=\"file:///home/ec2-user/anaconda3/envs/pytorch_p310/lib/python3.10/site-packages/botocore/credentials.py#1132\" target=\"_blank\"><span style=\"color: #7f7f7f; text-decoration-color: #7f7f7f\">1132</span></a>\n",
       "<span style=\"color: #7fbfbf; text-decoration-color: #7fbfbf\">                    </span>         BaseNotebookInstanceEc2InstanceRole                                <span style=\"color: #7f7f7f; text-decoration-color: #7f7f7f\">                   </span>\n",
       "</pre>\n"
      ],
      "text/plain": [
       "\u001b[2;36m                   \u001b[0m\u001b[2;36m \u001b[0m\u001b[1;38;2;0;105;255mINFO    \u001b[0m Found credentials from IAM Role:                                   \u001b]8;id=908680;file:///home/ec2-user/anaconda3/envs/pytorch_p310/lib/python3.10/site-packages/botocore/credentials.py\u001b\\\u001b[2mcredentials.py\u001b[0m\u001b]8;;\u001b\\\u001b[2m:\u001b[0m\u001b]8;id=311366;file:///home/ec2-user/anaconda3/envs/pytorch_p310/lib/python3.10/site-packages/botocore/credentials.py#1132\u001b\\\u001b[2m1132\u001b[0m\u001b]8;;\u001b\\\n",
       "\u001b[2;36m                    \u001b[0m         BaseNotebookInstanceEc2InstanceRole                                \u001b[2m                   \u001b[0m\n"
      ]
     },
     "metadata": {},
     "output_type": "display_data"
    },
    {
     "name": "stdout",
     "output_type": "stream",
     "text": [
      "Error in run_under_experiment: RESOURCE_ALREADY_EXISTS: Experiment(name=anomaly-detection-exp-trial) already exists. Error: (raised as a result of Query-invoked autoflush; consider using a session.no_autoflush block if this flush is occurring prematurely)\n",
      "(psycopg2.errors.UniqueViolation) duplicate key value violates unique constraint \"experiments_name_key\"\n",
      "DETAIL:  Key (name)=(anomaly-detection-exp-trial) already exists.\n",
      "\n",
      "[SQL: INSERT INTO experiments (name, artifact_location, lifecycle_stage, creation_time, last_update_time) VALUES (%(name)s, %(artifact_location)s, %(lifecycle_stage)s, %(creation_time)s, %(last_update_time)s) RETURNING experiments.experiment_id]\n",
      "[parameters: {'name': 'anomaly-detection-exp-trial', 'artifact_location': '', 'lifecycle_stage': 'active', 'creation_time': 1749214356765, 'last_update_time': 1749214356765}]\n",
      "(Background on this error at: https://sqlalche.me/e/20/gkpj)\n"
     ]
    },
    {
     "data": {
      "text/html": [
       "<pre style=\"white-space:pre;overflow-x:auto;line-height:normal;font-family:Menlo,'DejaVu Sans Mono',consolas,'Courier New',monospace\"><span style=\"color: #7fbfbf; text-decoration-color: #7fbfbf\">                    </span><span style=\"color: #0069ff; text-decoration-color: #0069ff; font-weight: bold\">INFO    </span> Found credentials from IAM Role:                                   <a href=\"file:///home/ec2-user/anaconda3/envs/pytorch_p310/lib/python3.10/site-packages/botocore/credentials.py\" target=\"_blank\"><span style=\"color: #7f7f7f; text-decoration-color: #7f7f7f\">credentials.py</span></a><span style=\"color: #7f7f7f; text-decoration-color: #7f7f7f\">:</span><a href=\"file:///home/ec2-user/anaconda3/envs/pytorch_p310/lib/python3.10/site-packages/botocore/credentials.py#1132\" target=\"_blank\"><span style=\"color: #7f7f7f; text-decoration-color: #7f7f7f\">1132</span></a>\n",
       "<span style=\"color: #7fbfbf; text-decoration-color: #7fbfbf\">                    </span>         BaseNotebookInstanceEc2InstanceRole                                <span style=\"color: #7f7f7f; text-decoration-color: #7f7f7f\">                   </span>\n",
       "</pre>\n"
      ],
      "text/plain": [
       "\u001b[2;36m                   \u001b[0m\u001b[2;36m \u001b[0m\u001b[1;38;2;0;105;255mINFO    \u001b[0m Found credentials from IAM Role:                                   \u001b]8;id=207537;file:///home/ec2-user/anaconda3/envs/pytorch_p310/lib/python3.10/site-packages/botocore/credentials.py\u001b\\\u001b[2mcredentials.py\u001b[0m\u001b]8;;\u001b\\\u001b[2m:\u001b[0m\u001b]8;id=636454;file:///home/ec2-user/anaconda3/envs/pytorch_p310/lib/python3.10/site-packages/botocore/credentials.py#1132\u001b\\\u001b[2m1132\u001b[0m\u001b]8;;\u001b\\\n",
       "\u001b[2;36m                    \u001b[0m         BaseNotebookInstanceEc2InstanceRole                                \u001b[2m                   \u001b[0m\n"
      ]
     },
     "metadata": {},
     "output_type": "display_data"
    },
    {
     "name": "stdout",
     "output_type": "stream",
     "text": [
      " == Envrionment parameters == \n",
      "   SAGEMAKER-ROLE-ARN: arn:aws:iam::615299776985:role/service-role/AmazonSageMaker-ExecutionRole-20241014T132050\n",
      "   PREFIX: DJ-SM-PIPELINE\n",
      "   BUCKET: sm-anomaly-detection-jdj\n",
      "   IMAGE-URI-PREP: 615299776985.dkr.ecr.us-west-2.amazonaws.com/prep-docker-image\n",
      "  \n",
      "== Preprocessing Step ==\n",
      "   \n",
      "Args: \n"
     ]
    },
    {
     "name": "stderr",
     "output_type": "stream",
     "text": [
      "/home/ec2-user/anaconda3/envs/pytorch_p310/lib/python3.10/site-packages/sagemaker/workflow/pipeline_context.py:332: UserWarning: Running within a PipelineSession, there will be No Wait, No Logs, and No Job being started.\n",
      "  warnings.warn(\n"
     ]
    },
    {
     "data": {
      "text/html": [
       "<pre style=\"white-space:pre;overflow-x:auto;line-height:normal;font-family:Menlo,'DejaVu Sans Mono',consolas,'Courier New',monospace\"><span style=\"color: #7fbfbf; text-decoration-color: #7fbfbf\">[06/06/25 12:52:37] </span><span style=\"color: #0069ff; text-decoration-color: #0069ff; font-weight: bold\">INFO    </span> Uploaded .<span style=\"color: #e100e1; text-decoration-color: #e100e1\">/src/preprocessing</span> to                                     <a href=\"file:///home/ec2-user/anaconda3/envs/pytorch_p310/lib/python3.10/site-packages/sagemaker/processing.py\" target=\"_blank\"><span style=\"color: #7f7f7f; text-decoration-color: #7f7f7f\">processing.py</span></a><span style=\"color: #7f7f7f; text-decoration-color: #7f7f7f\">:</span><a href=\"file:///home/ec2-user/anaconda3/envs/pytorch_p310/lib/python3.10/site-packages/sagemaker/processing.py#1960\" target=\"_blank\"><span style=\"color: #7f7f7f; text-decoration-color: #7f7f7f\">1960</span></a>\n",
       "<span style=\"color: #7fbfbf; text-decoration-color: #7fbfbf\">                    </span>         s3:<span style=\"color: #e100e1; text-decoration-color: #e100e1\">//sagemaker-us-west-2-615299776985/preprocessing/source/sourcedi</span> <span style=\"color: #7f7f7f; text-decoration-color: #7f7f7f\">                  </span>\n",
       "<span style=\"color: #7fbfbf; text-decoration-color: #7fbfbf\">                    </span>         <span style=\"color: #e100e1; text-decoration-color: #e100e1\">r.tar.gz</span>                                                            <span style=\"color: #7f7f7f; text-decoration-color: #7f7f7f\">                  </span>\n",
       "</pre>\n"
      ],
      "text/plain": [
       "\u001b[2;36m[06/06/25 12:52:37]\u001b[0m\u001b[2;36m \u001b[0m\u001b[1;38;2;0;105;255mINFO    \u001b[0m Uploaded .\u001b[38;2;225;0;225m/src/\u001b[0m\u001b[38;2;225;0;225mpreprocessing\u001b[0m to                                     \u001b]8;id=936749;file:///home/ec2-user/anaconda3/envs/pytorch_p310/lib/python3.10/site-packages/sagemaker/processing.py\u001b\\\u001b[2mprocessing.py\u001b[0m\u001b]8;;\u001b\\\u001b[2m:\u001b[0m\u001b]8;id=182899;file:///home/ec2-user/anaconda3/envs/pytorch_p310/lib/python3.10/site-packages/sagemaker/processing.py#1960\u001b\\\u001b[2m1960\u001b[0m\u001b]8;;\u001b\\\n",
       "\u001b[2;36m                    \u001b[0m         s3:\u001b[38;2;225;0;225m/\u001b[0m\u001b[38;2;225;0;225m/sagemaker-us-west-2-615299776985/preprocessing/source/\u001b[0m\u001b[38;2;225;0;225msourcedi\u001b[0m \u001b[2m                  \u001b[0m\n",
       "\u001b[2;36m                    \u001b[0m         \u001b[38;2;225;0;225mr.tar.gz\u001b[0m                                                            \u001b[2m                  \u001b[0m\n"
      ]
     },
     "metadata": {},
     "output_type": "display_data"
    },
    {
     "data": {
      "text/html": [
       "<pre style=\"white-space:pre;overflow-x:auto;line-height:normal;font-family:Menlo,'DejaVu Sans Mono',consolas,'Courier New',monospace\"><span style=\"color: #7fbfbf; text-decoration-color: #7fbfbf\">                    </span><span style=\"color: #0069ff; text-decoration-color: #0069ff; font-weight: bold\">INFO    </span> runproc.sh uploaded to                                              <a href=\"file:///home/ec2-user/anaconda3/envs/pytorch_p310/lib/python3.10/site-packages/sagemaker/processing.py\" target=\"_blank\"><span style=\"color: #7f7f7f; text-decoration-color: #7f7f7f\">processing.py</span></a><span style=\"color: #7f7f7f; text-decoration-color: #7f7f7f\">:</span><a href=\"file:///home/ec2-user/anaconda3/envs/pytorch_p310/lib/python3.10/site-packages/sagemaker/processing.py#2054\" target=\"_blank\"><span style=\"color: #7f7f7f; text-decoration-color: #7f7f7f\">2054</span></a>\n",
       "<span style=\"color: #7fbfbf; text-decoration-color: #7fbfbf\">                    </span>         s3:<span style=\"color: #e100e1; text-decoration-color: #e100e1\">//sagemaker-us-west-2-615299776985/preprocessing/source/runproc.</span> <span style=\"color: #7f7f7f; text-decoration-color: #7f7f7f\">                  </span>\n",
       "<span style=\"color: #7fbfbf; text-decoration-color: #7fbfbf\">                    </span>         <span style=\"color: #e100e1; text-decoration-color: #e100e1\">sh</span>                                                                  <span style=\"color: #7f7f7f; text-decoration-color: #7f7f7f\">                  </span>\n",
       "</pre>\n"
      ],
      "text/plain": [
       "\u001b[2;36m                   \u001b[0m\u001b[2;36m \u001b[0m\u001b[1;38;2;0;105;255mINFO    \u001b[0m runproc.sh uploaded to                                              \u001b]8;id=295171;file:///home/ec2-user/anaconda3/envs/pytorch_p310/lib/python3.10/site-packages/sagemaker/processing.py\u001b\\\u001b[2mprocessing.py\u001b[0m\u001b]8;;\u001b\\\u001b[2m:\u001b[0m\u001b]8;id=815109;file:///home/ec2-user/anaconda3/envs/pytorch_p310/lib/python3.10/site-packages/sagemaker/processing.py#2054\u001b\\\u001b[2m2054\u001b[0m\u001b]8;;\u001b\\\n",
       "\u001b[2;36m                    \u001b[0m         s3:\u001b[38;2;225;0;225m/\u001b[0m\u001b[38;2;225;0;225m/sagemaker-us-west-2-615299776985/preprocessing/source/\u001b[0m\u001b[38;2;225;0;225mrunproc.\u001b[0m \u001b[2m                  \u001b[0m\n",
       "\u001b[2;36m                    \u001b[0m         \u001b[38;2;225;0;225msh\u001b[0m                                                                  \u001b[2m                  \u001b[0m\n"
      ]
     },
     "metadata": {},
     "output_type": "display_data"
    },
    {
     "data": {
      "text/html": [
       "<pre style=\"white-space:pre;overflow-x:auto;line-height:normal;font-family:Menlo,'DejaVu Sans Mono',consolas,'Courier New',monospace\"><span style=\"color: #7fbfbf; text-decoration-color: #7fbfbf\">                    </span><span style=\"color: #d7af00; text-decoration-color: #d7af00; font-weight: bold\">WARNING </span> Popping out <span style=\"color: #008700; text-decoration-color: #008700\">'ProcessingJobName'</span> from the pipeline definition by       <a href=\"file:///home/ec2-user/anaconda3/envs/pytorch_p310/lib/python3.10/site-packages/sagemaker/workflow/utilities.py\" target=\"_blank\"><span style=\"color: #7f7f7f; text-decoration-color: #7f7f7f\">utilities.py</span></a><span style=\"color: #7f7f7f; text-decoration-color: #7f7f7f\">:</span><a href=\"file:///home/ec2-user/anaconda3/envs/pytorch_p310/lib/python3.10/site-packages/sagemaker/workflow/utilities.py#465\" target=\"_blank\"><span style=\"color: #7f7f7f; text-decoration-color: #7f7f7f\">465</span></a>\n",
       "<span style=\"color: #7fbfbf; text-decoration-color: #7fbfbf\">                    </span>         default since it will be overridden at pipeline execution time.       <span style=\"color: #7f7f7f; text-decoration-color: #7f7f7f\">                </span>\n",
       "<span style=\"color: #7fbfbf; text-decoration-color: #7fbfbf\">                    </span>         Please utilize the PipelineDefinitionConfig to persist this field in  <span style=\"color: #7f7f7f; text-decoration-color: #7f7f7f\">                </span>\n",
       "<span style=\"color: #7fbfbf; text-decoration-color: #7fbfbf\">                    </span>         the pipeline definition if desired.                                   <span style=\"color: #7f7f7f; text-decoration-color: #7f7f7f\">                </span>\n",
       "</pre>\n"
      ],
      "text/plain": [
       "\u001b[2;36m                   \u001b[0m\u001b[2;36m \u001b[0m\u001b[1;38;2;215;175;0mWARNING \u001b[0m Popping out \u001b[38;2;0;135;0m'ProcessingJobName'\u001b[0m from the pipeline definition by       \u001b]8;id=909682;file:///home/ec2-user/anaconda3/envs/pytorch_p310/lib/python3.10/site-packages/sagemaker/workflow/utilities.py\u001b\\\u001b[2mutilities.py\u001b[0m\u001b]8;;\u001b\\\u001b[2m:\u001b[0m\u001b]8;id=395105;file:///home/ec2-user/anaconda3/envs/pytorch_p310/lib/python3.10/site-packages/sagemaker/workflow/utilities.py#465\u001b\\\u001b[2m465\u001b[0m\u001b]8;;\u001b\\\n",
       "\u001b[2;36m                    \u001b[0m         default since it will be overridden at pipeline execution time.       \u001b[2m                \u001b[0m\n",
       "\u001b[2;36m                    \u001b[0m         Please utilize the PipelineDefinitionConfig to persist this field in  \u001b[2m                \u001b[0m\n",
       "\u001b[2;36m                    \u001b[0m         the pipeline definition if desired.                                   \u001b[2m                \u001b[0m\n"
      ]
     },
     "metadata": {},
     "output_type": "display_data"
    },
    {
     "name": "stdout",
     "output_type": "stream",
     "text": [
      "===========================\n",
      "key: ProcessingResources\n",
      "{'ClusterConfig': {'InstanceCount': 1,\n",
      "                   'InstanceType': 'ml.g4dn.xlarge',\n",
      "                   'VolumeSizeInGB': 30}}\n",
      "===========================\n",
      "key: AppSpecification\n",
      "{'ContainerArguments': ['--proc_prefix',\n",
      "                        '/opt/ml/processing/',\n",
      "                        '--shingle_size',\n",
      "                        '4',\n",
      "                        '--train_data_name',\n",
      "                        'merged_clicks_1T.csv',\n",
      "                        '--mlflow_tracking_arn',\n",
      "                        'arn:aws:sagemaker:us-west-2:615299776985:mlflow-tracking-server/mlflow-tracking-ramp',\n",
      "                        '--experiment_name',\n",
      "                        'anomaly-detection-exp-trial',\n",
      "                        '--mlflow_run_name',\n",
      "                        'sagemaker-ramp'],\n",
      " 'ContainerEntrypoint': ['/bin/bash',\n",
      "                         '/opt/ml/processing/input/entrypoint/runproc.sh'],\n",
      " 'ImageUri': '615299776985.dkr.ecr.us-west-2.amazonaws.com/prep-docker-image'}\n",
      "===========================\n",
      "key: RoleArn\n",
      "'arn:aws:iam::615299776985:role/service-role/AmazonSageMaker-ExecutionRole-20241014T132050'\n",
      "===========================\n",
      "key: ProcessingInputs\n",
      "[{'AppManaged': False,\n",
      "  'InputName': 'input-data',\n",
      "  'S3Input': {'LocalPath': '/opt/ml/processing/input',\n",
      "              'S3CompressionType': 'None',\n",
      "              'S3DataDistributionType': 'FullyReplicated',\n",
      "              'S3DataType': 'S3Prefix',\n",
      "              'S3InputMode': 'File',\n",
      "              'S3Uri': 's3://sm-anomaly-detection-jdj/data'}},\n",
      " {'AppManaged': False,\n",
      "  'InputName': 'code',\n",
      "  'S3Input': {'LocalPath': '/opt/ml/processing/input/code/',\n",
      "              'S3CompressionType': 'None',\n",
      "              'S3DataDistributionType': 'FullyReplicated',\n",
      "              'S3DataType': 'S3Prefix',\n",
      "              'S3InputMode': 'File',\n",
      "              'S3Uri': 's3://sagemaker-us-west-2-615299776985/preprocessing/source/sourcedir.tar.gz'}},\n",
      " {'AppManaged': False,\n",
      "  'InputName': 'entrypoint',\n",
      "  'S3Input': {'LocalPath': '/opt/ml/processing/input/entrypoint',\n",
      "              'S3CompressionType': 'None',\n",
      "              'S3DataDistributionType': 'FullyReplicated',\n",
      "              'S3DataType': 'S3Prefix',\n",
      "              'S3InputMode': 'File',\n",
      "              'S3Uri': 's3://sagemaker-us-west-2-615299776985/preprocessing/source/runproc.sh'}}]\n",
      "===========================\n",
      "key: ProcessingOutputConfig\n",
      "{'Outputs': [{'AppManaged': False,\n",
      "              'OutputName': 'output-data',\n",
      "              'S3Output': {'LocalPath': '/opt/ml/processing/output',\n",
      "                           'S3UploadMode': 'EndOfJob',\n",
      "                           'S3Uri': 's3://sm-anomaly-detection-jdj/DJ-SM-PIPELINE-RAPP/preprocessing/output'}}]}\n",
      "<class 'sagemaker.workflow.properties.Properties'>\n"
     ]
    },
    {
     "data": {
      "text/html": [
       "<pre style=\"white-space:pre;overflow-x:auto;line-height:normal;font-family:Menlo,'DejaVu Sans Mono',consolas,'Courier New',monospace\"><span style=\"color: #7fbfbf; text-decoration-color: #7fbfbf\">                    </span><span style=\"color: #0069ff; text-decoration-color: #0069ff; font-weight: bold\">INFO    </span> SageMaker Python SDK will collect telemetry to help us better  <a href=\"file:///home/ec2-user/anaconda3/envs/pytorch_p310/lib/python3.10/site-packages/sagemaker/telemetry/telemetry_logging.py\" target=\"_blank\"><span style=\"color: #7f7f7f; text-decoration-color: #7f7f7f\">telemetry_logging.py</span></a><span style=\"color: #7f7f7f; text-decoration-color: #7f7f7f\">:</span><a href=\"file:///home/ec2-user/anaconda3/envs/pytorch_p310/lib/python3.10/site-packages/sagemaker/telemetry/telemetry_logging.py#91\" target=\"_blank\"><span style=\"color: #7f7f7f; text-decoration-color: #7f7f7f\">91</span></a>\n",
       "<span style=\"color: #7fbfbf; text-decoration-color: #7fbfbf\">                    </span>         understand our user's needs, diagnose issues, and deliver      <span style=\"color: #7f7f7f; text-decoration-color: #7f7f7f\">                       </span>\n",
       "<span style=\"color: #7fbfbf; text-decoration-color: #7fbfbf\">                    </span>         additional features.                                           <span style=\"color: #7f7f7f; text-decoration-color: #7f7f7f\">                       </span>\n",
       "<span style=\"color: #7fbfbf; text-decoration-color: #7fbfbf\">                    </span>         To opt out of telemetry, please disable via TelemetryOptOut    <span style=\"color: #7f7f7f; text-decoration-color: #7f7f7f\">                       </span>\n",
       "<span style=\"color: #7fbfbf; text-decoration-color: #7fbfbf\">                    </span>         parameter in SDK defaults config. For more information, refer  <span style=\"color: #7f7f7f; text-decoration-color: #7f7f7f\">                       </span>\n",
       "<span style=\"color: #7fbfbf; text-decoration-color: #7fbfbf\">                    </span>         to                                                             <span style=\"color: #7f7f7f; text-decoration-color: #7f7f7f\">                       </span>\n",
       "<span style=\"color: #7fbfbf; text-decoration-color: #7fbfbf\">                    </span>         <span style=\"color: #0069ff; text-decoration-color: #0069ff; text-decoration: underline\">https://sagemaker.readthedocs.io/en/stable/overview.html#confi</span> <span style=\"color: #7f7f7f; text-decoration-color: #7f7f7f\">                       </span>\n",
       "<span style=\"color: #7fbfbf; text-decoration-color: #7fbfbf\">                    </span>         <span style=\"color: #0069ff; text-decoration-color: #0069ff; text-decoration: underline\">guring-and-using-defaults-with-the-sagemaker-python-sdk.</span>       <span style=\"color: #7f7f7f; text-decoration-color: #7f7f7f\">                       </span>\n",
       "</pre>\n"
      ],
      "text/plain": [
       "\u001b[2;36m                   \u001b[0m\u001b[2;36m \u001b[0m\u001b[1;38;2;0;105;255mINFO    \u001b[0m SageMaker Python SDK will collect telemetry to help us better  \u001b]8;id=689755;file:///home/ec2-user/anaconda3/envs/pytorch_p310/lib/python3.10/site-packages/sagemaker/telemetry/telemetry_logging.py\u001b\\\u001b[2mtelemetry_logging.py\u001b[0m\u001b]8;;\u001b\\\u001b[2m:\u001b[0m\u001b]8;id=474113;file:///home/ec2-user/anaconda3/envs/pytorch_p310/lib/python3.10/site-packages/sagemaker/telemetry/telemetry_logging.py#91\u001b\\\u001b[2m91\u001b[0m\u001b]8;;\u001b\\\n",
       "\u001b[2;36m                    \u001b[0m         understand our user's needs, diagnose issues, and deliver      \u001b[2m                       \u001b[0m\n",
       "\u001b[2;36m                    \u001b[0m         additional features.                                           \u001b[2m                       \u001b[0m\n",
       "\u001b[2;36m                    \u001b[0m         To opt out of telemetry, please disable via TelemetryOptOut    \u001b[2m                       \u001b[0m\n",
       "\u001b[2;36m                    \u001b[0m         parameter in SDK defaults config. For more information, refer  \u001b[2m                       \u001b[0m\n",
       "\u001b[2;36m                    \u001b[0m         to                                                             \u001b[2m                       \u001b[0m\n",
       "\u001b[2;36m                    \u001b[0m         \u001b[4;38;2;0;105;255mhttps://sagemaker.readthedocs.io/en/stable/overview.html#confi\u001b[0m \u001b[2m                       \u001b[0m\n",
       "\u001b[2;36m                    \u001b[0m         \u001b[4;38;2;0;105;255mguring-and-using-defaults-with-the-sagemaker-python-sdk.\u001b[0m       \u001b[2m                       \u001b[0m\n"
      ]
     },
     "metadata": {},
     "output_type": "display_data"
    },
    {
     "name": "stdout",
     "output_type": "stream",
     "text": [
      "  \n",
      "== Training Step ==\n",
      "   \n",
      "Args: \n"
     ]
    },
    {
     "data": {
      "text/html": [
       "<pre style=\"white-space:pre;overflow-x:auto;line-height:normal;font-family:Menlo,'DejaVu Sans Mono',consolas,'Courier New',monospace\"><span style=\"color: #7fbfbf; text-decoration-color: #7fbfbf\">[06/06/25 12:52:38] </span><span style=\"color: #d7af00; text-decoration-color: #d7af00; font-weight: bold\">WARNING </span> Popping out <span style=\"color: #008700; text-decoration-color: #008700\">'TrainingJobName'</span> from the pipeline definition by default <a href=\"file:///home/ec2-user/anaconda3/envs/pytorch_p310/lib/python3.10/site-packages/sagemaker/workflow/utilities.py\" target=\"_blank\"><span style=\"color: #7f7f7f; text-decoration-color: #7f7f7f\">utilities.py</span></a><span style=\"color: #7f7f7f; text-decoration-color: #7f7f7f\">:</span><a href=\"file:///home/ec2-user/anaconda3/envs/pytorch_p310/lib/python3.10/site-packages/sagemaker/workflow/utilities.py#465\" target=\"_blank\"><span style=\"color: #7f7f7f; text-decoration-color: #7f7f7f\">465</span></a>\n",
       "<span style=\"color: #7fbfbf; text-decoration-color: #7fbfbf\">                    </span>         since it will be overridden at pipeline execution time. Please        <span style=\"color: #7f7f7f; text-decoration-color: #7f7f7f\">                </span>\n",
       "<span style=\"color: #7fbfbf; text-decoration-color: #7fbfbf\">                    </span>         utilize the PipelineDefinitionConfig to persist this field in the     <span style=\"color: #7f7f7f; text-decoration-color: #7f7f7f\">                </span>\n",
       "<span style=\"color: #7fbfbf; text-decoration-color: #7fbfbf\">                    </span>         pipeline definition if desired.                                       <span style=\"color: #7f7f7f; text-decoration-color: #7f7f7f\">                </span>\n",
       "</pre>\n"
      ],
      "text/plain": [
       "\u001b[2;36m[06/06/25 12:52:38]\u001b[0m\u001b[2;36m \u001b[0m\u001b[1;38;2;215;175;0mWARNING \u001b[0m Popping out \u001b[38;2;0;135;0m'TrainingJobName'\u001b[0m from the pipeline definition by default \u001b]8;id=650502;file:///home/ec2-user/anaconda3/envs/pytorch_p310/lib/python3.10/site-packages/sagemaker/workflow/utilities.py\u001b\\\u001b[2mutilities.py\u001b[0m\u001b]8;;\u001b\\\u001b[2m:\u001b[0m\u001b]8;id=709245;file:///home/ec2-user/anaconda3/envs/pytorch_p310/lib/python3.10/site-packages/sagemaker/workflow/utilities.py#465\u001b\\\u001b[2m465\u001b[0m\u001b]8;;\u001b\\\n",
       "\u001b[2;36m                    \u001b[0m         since it will be overridden at pipeline execution time. Please        \u001b[2m                \u001b[0m\n",
       "\u001b[2;36m                    \u001b[0m         utilize the PipelineDefinitionConfig to persist this field in the     \u001b[2m                \u001b[0m\n",
       "\u001b[2;36m                    \u001b[0m         pipeline definition if desired.                                       \u001b[2m                \u001b[0m\n"
      ]
     },
     "metadata": {},
     "output_type": "display_data"
    },
    {
     "name": "stdout",
     "output_type": "stream",
     "text": [
      "===========================\n",
      "key: AlgorithmSpecification\n",
      "{'EnableSageMakerMetricsTimeSeries': True,\n",
      " 'MetricDefinitions': [{'Name': 'Train loss',\n",
      "                        'Regex': 'loss=([0-9\\\\.]+)(e-?[[01][0-9])?'},\n",
      "                       {'Name': 'Train cos',\n",
      "                        'Regex': 'wer:([0-9\\\\.]+)(e-?[[01][0-9])?'},\n",
      "                       {'Name': 'Val cos',\n",
      "                        'Regex': 'wer:([0-9\\\\.]+)(e-?[[01][0-9])?'}],\n",
      " 'TrainingImage': '615299776985.dkr.ecr.us-west-2.amazonaws.com/tr-docker-image',\n",
      " 'TrainingInputMode': 'File'}\n",
      "===========================\n",
      "key: OutputDataConfig\n",
      "{'S3OutputPath': 's3://sm-anomaly-detection-jdj/DJ-SM-PIPELINE-RAPP/training/model-output'}\n",
      "===========================\n",
      "key: StoppingCondition\n",
      "{'MaxRuntimeInSeconds': 3600}\n",
      "===========================\n",
      "key: ResourceConfig\n",
      "{'InstanceCount': 1,\n",
      " 'InstanceType': 'ml.g4dn.xlarge',\n",
      " 'KeepAlivePeriodInSeconds': 3600,\n",
      " 'VolumeSizeInGB': 125}\n",
      "===========================\n",
      "key: RoleArn\n",
      "'arn:aws:iam::615299776985:role/service-role/AmazonSageMaker-ExecutionRole-20241014T132050'\n",
      "===========================\n",
      "key: InputDataConfig\n",
      "[{'ChannelName': 'train',\n",
      "  'DataSource': {'S3DataSource': {'S3DataDistributionType': 'FullyReplicated',\n",
      "                                  'S3DataType': 'S3Prefix',\n",
      "                                  'S3Uri': {'_step': <sagemaker.workflow.steps.ProcessingStep object at 0x7f7b09cf0b50>, 'step_name': 'PreprocessingProcess', 'path': \"ProcessingOutputConfig.Outputs['output-data'].S3Output.S3Uri\", '_shape_names': ['S3Uri'], '__str__': 'S3Uri'}}}},\n",
      " {'ChannelName': 'validation',\n",
      "  'DataSource': {'S3DataSource': {'S3DataDistributionType': 'FullyReplicated',\n",
      "                                  'S3DataType': 'S3Prefix',\n",
      "                                  'S3Uri': {'_step': <sagemaker.workflow.steps.ProcessingStep object at 0x7f7b09cf0b50>, 'step_name': 'PreprocessingProcess', 'path': \"ProcessingOutputConfig.Outputs['output-data'].S3Output.S3Uri\", '_shape_names': ['S3Uri'], '__str__': 'S3Uri'}}}}]\n",
      "===========================\n",
      "key: HyperParameters\n",
      "{'batch_size': '\"32\"',\n",
      " 'emb_size': '\"4\"',\n",
      " 'epochs': '\"50\"',\n",
      " 'lr': '\"0.04\"',\n",
      " 'num_features': '\"4\"',\n",
      " 'sagemaker_container_log_level': '20',\n",
      " 'sagemaker_program': '\"main-mlflow.py\"',\n",
      " 'sagemaker_region': '\"us-west-2\"',\n",
      " 'sagemaker_submit_directory': '\"s3://sm-anomaly-detection-jdj/DJ-SM-PIPELINE-RAPP/training/backup_codes/training/source/sourcedir.tar.gz\"',\n",
      " 'shingle_size': '\"4\"',\n",
      " 'workers': '\"2\"'}\n",
      "===========================\n",
      "key: Environment\n",
      "{'EXPERIMENT_NAME': 'anomaly-detection-exp-trial',\n",
      " 'MLFLOW_RUN_NAME': 'sagemaker-ramp',\n",
      " 'MLFLOW_TRACKING_ARN': 'arn:aws:sagemaker:us-west-2:615299776985:mlflow-tracking-server/mlflow-tracking-ramp'}\n",
      "===========================\n",
      "key: ProfilerConfig\n",
      "{'DisableProfiler': True}\n",
      "  \n",
      "== Evaluation Step ==\n",
      "   \n",
      "Args: \n"
     ]
    },
    {
     "data": {
      "text/html": [
       "<pre style=\"white-space:pre;overflow-x:auto;line-height:normal;font-family:Menlo,'DejaVu Sans Mono',consolas,'Courier New',monospace\"><span style=\"color: #7fbfbf; text-decoration-color: #7fbfbf\">                    </span><span style=\"color: #0069ff; text-decoration-color: #0069ff; font-weight: bold\">INFO    </span> Uploaded .<span style=\"color: #e100e1; text-decoration-color: #e100e1\">/src/evaluation</span> to                                        <a href=\"file:///home/ec2-user/anaconda3/envs/pytorch_p310/lib/python3.10/site-packages/sagemaker/processing.py\" target=\"_blank\"><span style=\"color: #7f7f7f; text-decoration-color: #7f7f7f\">processing.py</span></a><span style=\"color: #7f7f7f; text-decoration-color: #7f7f7f\">:</span><a href=\"file:///home/ec2-user/anaconda3/envs/pytorch_p310/lib/python3.10/site-packages/sagemaker/processing.py#1960\" target=\"_blank\"><span style=\"color: #7f7f7f; text-decoration-color: #7f7f7f\">1960</span></a>\n",
       "<span style=\"color: #7fbfbf; text-decoration-color: #7fbfbf\">                    </span>         s3:<span style=\"color: #e100e1; text-decoration-color: #e100e1\">//sagemaker-us-west-2-615299776985/evaluation/source/sourcedir.t</span> <span style=\"color: #7f7f7f; text-decoration-color: #7f7f7f\">                  </span>\n",
       "<span style=\"color: #7fbfbf; text-decoration-color: #7fbfbf\">                    </span>         <span style=\"color: #e100e1; text-decoration-color: #e100e1\">ar.gz</span>                                                               <span style=\"color: #7f7f7f; text-decoration-color: #7f7f7f\">                  </span>\n",
       "</pre>\n"
      ],
      "text/plain": [
       "\u001b[2;36m                   \u001b[0m\u001b[2;36m \u001b[0m\u001b[1;38;2;0;105;255mINFO    \u001b[0m Uploaded .\u001b[38;2;225;0;225m/src/\u001b[0m\u001b[38;2;225;0;225mevaluation\u001b[0m to                                        \u001b]8;id=481520;file:///home/ec2-user/anaconda3/envs/pytorch_p310/lib/python3.10/site-packages/sagemaker/processing.py\u001b\\\u001b[2mprocessing.py\u001b[0m\u001b]8;;\u001b\\\u001b[2m:\u001b[0m\u001b]8;id=602517;file:///home/ec2-user/anaconda3/envs/pytorch_p310/lib/python3.10/site-packages/sagemaker/processing.py#1960\u001b\\\u001b[2m1960\u001b[0m\u001b]8;;\u001b\\\n",
       "\u001b[2;36m                    \u001b[0m         s3:\u001b[38;2;225;0;225m/\u001b[0m\u001b[38;2;225;0;225m/sagemaker-us-west-2-615299776985/evaluation/source/\u001b[0m\u001b[38;2;225;0;225msourcedir.t\u001b[0m \u001b[2m                  \u001b[0m\n",
       "\u001b[2;36m                    \u001b[0m         \u001b[38;2;225;0;225mar.gz\u001b[0m                                                               \u001b[2m                  \u001b[0m\n"
      ]
     },
     "metadata": {},
     "output_type": "display_data"
    },
    {
     "data": {
      "text/html": [
       "<pre style=\"white-space:pre;overflow-x:auto;line-height:normal;font-family:Menlo,'DejaVu Sans Mono',consolas,'Courier New',monospace\"><span style=\"color: #7fbfbf; text-decoration-color: #7fbfbf\">                    </span><span style=\"color: #0069ff; text-decoration-color: #0069ff; font-weight: bold\">INFO    </span> runproc.sh uploaded to                                              <a href=\"file:///home/ec2-user/anaconda3/envs/pytorch_p310/lib/python3.10/site-packages/sagemaker/processing.py\" target=\"_blank\"><span style=\"color: #7f7f7f; text-decoration-color: #7f7f7f\">processing.py</span></a><span style=\"color: #7f7f7f; text-decoration-color: #7f7f7f\">:</span><a href=\"file:///home/ec2-user/anaconda3/envs/pytorch_p310/lib/python3.10/site-packages/sagemaker/processing.py#2054\" target=\"_blank\"><span style=\"color: #7f7f7f; text-decoration-color: #7f7f7f\">2054</span></a>\n",
       "<span style=\"color: #7fbfbf; text-decoration-color: #7fbfbf\">                    </span>         s3:<span style=\"color: #e100e1; text-decoration-color: #e100e1\">//sagemaker-us-west-2-615299776985/evaluation/source/runproc.sh</span>  <span style=\"color: #7f7f7f; text-decoration-color: #7f7f7f\">                  </span>\n",
       "</pre>\n"
      ],
      "text/plain": [
       "\u001b[2;36m                   \u001b[0m\u001b[2;36m \u001b[0m\u001b[1;38;2;0;105;255mINFO    \u001b[0m runproc.sh uploaded to                                              \u001b]8;id=757448;file:///home/ec2-user/anaconda3/envs/pytorch_p310/lib/python3.10/site-packages/sagemaker/processing.py\u001b\\\u001b[2mprocessing.py\u001b[0m\u001b]8;;\u001b\\\u001b[2m:\u001b[0m\u001b]8;id=918319;file:///home/ec2-user/anaconda3/envs/pytorch_p310/lib/python3.10/site-packages/sagemaker/processing.py#2054\u001b\\\u001b[2m2054\u001b[0m\u001b]8;;\u001b\\\n",
       "\u001b[2;36m                    \u001b[0m         s3:\u001b[38;2;225;0;225m/\u001b[0m\u001b[38;2;225;0;225m/sagemaker-us-west-2-615299776985/evaluation/source/\u001b[0m\u001b[38;2;225;0;225mrunproc.sh\u001b[0m  \u001b[2m                  \u001b[0m\n"
      ]
     },
     "metadata": {},
     "output_type": "display_data"
    },
    {
     "data": {
      "text/html": [
       "<pre style=\"white-space:pre;overflow-x:auto;line-height:normal;font-family:Menlo,'DejaVu Sans Mono',consolas,'Courier New',monospace\"><span style=\"color: #7fbfbf; text-decoration-color: #7fbfbf\">                    </span><span style=\"color: #d7af00; text-decoration-color: #d7af00; font-weight: bold\">WARNING </span> Popping out <span style=\"color: #008700; text-decoration-color: #008700\">'ProcessingJobName'</span> from the pipeline definition by       <a href=\"file:///home/ec2-user/anaconda3/envs/pytorch_p310/lib/python3.10/site-packages/sagemaker/workflow/utilities.py\" target=\"_blank\"><span style=\"color: #7f7f7f; text-decoration-color: #7f7f7f\">utilities.py</span></a><span style=\"color: #7f7f7f; text-decoration-color: #7f7f7f\">:</span><a href=\"file:///home/ec2-user/anaconda3/envs/pytorch_p310/lib/python3.10/site-packages/sagemaker/workflow/utilities.py#465\" target=\"_blank\"><span style=\"color: #7f7f7f; text-decoration-color: #7f7f7f\">465</span></a>\n",
       "<span style=\"color: #7fbfbf; text-decoration-color: #7fbfbf\">                    </span>         default since it will be overridden at pipeline execution time.       <span style=\"color: #7f7f7f; text-decoration-color: #7f7f7f\">                </span>\n",
       "<span style=\"color: #7fbfbf; text-decoration-color: #7fbfbf\">                    </span>         Please utilize the PipelineDefinitionConfig to persist this field in  <span style=\"color: #7f7f7f; text-decoration-color: #7f7f7f\">                </span>\n",
       "<span style=\"color: #7fbfbf; text-decoration-color: #7fbfbf\">                    </span>         the pipeline definition if desired.                                   <span style=\"color: #7f7f7f; text-decoration-color: #7f7f7f\">                </span>\n",
       "</pre>\n"
      ],
      "text/plain": [
       "\u001b[2;36m                   \u001b[0m\u001b[2;36m \u001b[0m\u001b[1;38;2;215;175;0mWARNING \u001b[0m Popping out \u001b[38;2;0;135;0m'ProcessingJobName'\u001b[0m from the pipeline definition by       \u001b]8;id=262787;file:///home/ec2-user/anaconda3/envs/pytorch_p310/lib/python3.10/site-packages/sagemaker/workflow/utilities.py\u001b\\\u001b[2mutilities.py\u001b[0m\u001b]8;;\u001b\\\u001b[2m:\u001b[0m\u001b]8;id=14925;file:///home/ec2-user/anaconda3/envs/pytorch_p310/lib/python3.10/site-packages/sagemaker/workflow/utilities.py#465\u001b\\\u001b[2m465\u001b[0m\u001b]8;;\u001b\\\n",
       "\u001b[2;36m                    \u001b[0m         default since it will be overridden at pipeline execution time.       \u001b[2m                \u001b[0m\n",
       "\u001b[2;36m                    \u001b[0m         Please utilize the PipelineDefinitionConfig to persist this field in  \u001b[2m                \u001b[0m\n",
       "\u001b[2;36m                    \u001b[0m         the pipeline definition if desired.                                   \u001b[2m                \u001b[0m\n"
      ]
     },
     "metadata": {},
     "output_type": "display_data"
    },
    {
     "name": "stdout",
     "output_type": "stream",
     "text": [
      "===========================\n",
      "key: ProcessingResources\n",
      "{'ClusterConfig': {'InstanceCount': 1,\n",
      "                   'InstanceType': 'ml.g4dn.xlarge',\n",
      "                   'VolumeSizeInGB': 30}}\n",
      "===========================\n",
      "key: AppSpecification\n",
      "{'ContainerArguments': ['--proc_prefix',\n",
      "                        '/opt/ml/processing/',\n",
      "                        '--mlflow_tracking_arn',\n",
      "                        'arn:aws:sagemaker:us-west-2:615299776985:mlflow-tracking-server/mlflow-tracking-ramp',\n",
      "                        '--experiment_name',\n",
      "                        'anomaly-detection-exp-trial',\n",
      "                        '--mlflow_run_name',\n",
      "                        'sagemaker-ramp'],\n",
      " 'ContainerEntrypoint': ['/bin/bash',\n",
      "                         '/opt/ml/processing/input/entrypoint/runproc.sh'],\n",
      " 'ImageUri': '615299776985.dkr.ecr.us-west-2.amazonaws.com/prep-docker-image'}\n",
      "===========================\n",
      "key: RoleArn\n",
      "'arn:aws:iam::615299776985:role/service-role/AmazonSageMaker-ExecutionRole-20241014T132050'\n",
      "===========================\n",
      "key: ProcessingInputs\n",
      "[{'AppManaged': False,\n",
      "  'InputName': 'test-data',\n",
      "  'S3Input': {'LocalPath': '/opt/ml/processing/test',\n",
      "              'S3CompressionType': 'None',\n",
      "              'S3DataDistributionType': 'FullyReplicated',\n",
      "              'S3DataType': 'S3Prefix',\n",
      "              'S3InputMode': 'File',\n",
      "              'S3Uri': {'_step': <sagemaker.workflow.steps.ProcessingStep object at 0x7f7b09cf0b50>, 'step_name': 'PreprocessingProcess', 'path': \"ProcessingOutputConfig.Outputs['output-data'].S3Output.S3Uri\", '_shape_names': ['S3Uri'], '__str__': 'S3Uri'}}},\n",
      " {'AppManaged': False,\n",
      "  'InputName': 'model_artifact',\n",
      "  'S3Input': {'LocalPath': '/opt/ml/processing/model',\n",
      "              'S3CompressionType': 'None',\n",
      "              'S3DataDistributionType': 'FullyReplicated',\n",
      "              'S3DataType': 'S3Prefix',\n",
      "              'S3InputMode': 'File',\n",
      "              'S3Uri': {'_step': <sagemaker.workflow.steps.TrainingStep object at 0x7f7a6ea253c0>, 'step_name': 'TrainingProcess', 'path': 'ModelArtifacts.S3ModelArtifacts', '_shape_names': ['S3Uri'], '__str__': 'S3Uri'}}},\n",
      " {'AppManaged': False,\n",
      "  'InputName': 'code',\n",
      "  'S3Input': {'LocalPath': '/opt/ml/processing/input/code/',\n",
      "              'S3CompressionType': 'None',\n",
      "              'S3DataDistributionType': 'FullyReplicated',\n",
      "              'S3DataType': 'S3Prefix',\n",
      "              'S3InputMode': 'File',\n",
      "              'S3Uri': 's3://sagemaker-us-west-2-615299776985/evaluation/source/sourcedir.tar.gz'}},\n",
      " {'AppManaged': False,\n",
      "  'InputName': 'entrypoint',\n",
      "  'S3Input': {'LocalPath': '/opt/ml/processing/input/entrypoint',\n",
      "              'S3CompressionType': 'None',\n",
      "              'S3DataDistributionType': 'FullyReplicated',\n",
      "              'S3DataType': 'S3Prefix',\n",
      "              'S3InputMode': 'File',\n",
      "              'S3Uri': 's3://sagemaker-us-west-2-615299776985/evaluation/source/runproc.sh'}}]\n",
      "===========================\n",
      "key: ProcessingOutputConfig\n",
      "{'Outputs': [{'AppManaged': False,\n",
      "              'OutputName': 'evaluation',\n",
      "              'S3Output': {'LocalPath': '/opt/ml/processing/output',\n",
      "                           'S3UploadMode': 'EndOfJob',\n",
      "                           'S3Uri': 's3://sm-anomaly-detection-jdj/DJ-SM-PIPELINE-RAPP/evaluation/output'}}]}\n",
      "<class 'sagemaker.workflow.properties.Properties'>\n",
      "=======================\n",
      "=======================\n",
      "model.image_uri 615299776985.dkr.ecr.us-west-2.amazonaws.com/inf-docker-image\n",
      "self.strInfImageUri 615299776985.dkr.ecr.us-west-2.amazonaws.com/inf-docker-image\n",
      "model.image_uri 615299776985.dkr.ecr.us-west-2.amazonaws.com/inf-docker-image\n",
      "  \n",
      "== Condition Step ==\n",
      "   \n",
      "Args: \n"
     ]
    },
    {
     "data": {
      "text/html": [
       "<pre style=\"white-space:pre;overflow-x:auto;line-height:normal;font-family:Menlo,'DejaVu Sans Mono',consolas,'Courier New',monospace\"><span style=\"color: #7fbfbf; text-decoration-color: #7fbfbf\">                    </span><span style=\"color: #d7af00; text-decoration-color: #d7af00; font-weight: bold\">WARNING </span> Popping out <span style=\"color: #008700; text-decoration-color: #008700\">'TrainingJobName'</span> from the pipeline definition by default <a href=\"file:///home/ec2-user/anaconda3/envs/pytorch_p310/lib/python3.10/site-packages/sagemaker/workflow/utilities.py\" target=\"_blank\"><span style=\"color: #7f7f7f; text-decoration-color: #7f7f7f\">utilities.py</span></a><span style=\"color: #7f7f7f; text-decoration-color: #7f7f7f\">:</span><a href=\"file:///home/ec2-user/anaconda3/envs/pytorch_p310/lib/python3.10/site-packages/sagemaker/workflow/utilities.py#465\" target=\"_blank\"><span style=\"color: #7f7f7f; text-decoration-color: #7f7f7f\">465</span></a>\n",
       "<span style=\"color: #7fbfbf; text-decoration-color: #7fbfbf\">                    </span>         since it will be overridden at pipeline execution time. Please        <span style=\"color: #7f7f7f; text-decoration-color: #7f7f7f\">                </span>\n",
       "<span style=\"color: #7fbfbf; text-decoration-color: #7fbfbf\">                    </span>         utilize the PipelineDefinitionConfig to persist this field in the     <span style=\"color: #7f7f7f; text-decoration-color: #7f7f7f\">                </span>\n",
       "<span style=\"color: #7fbfbf; text-decoration-color: #7fbfbf\">                    </span>         pipeline definition if desired.                                       <span style=\"color: #7f7f7f; text-decoration-color: #7f7f7f\">                </span>\n",
       "</pre>\n"
      ],
      "text/plain": [
       "\u001b[2;36m                   \u001b[0m\u001b[2;36m \u001b[0m\u001b[1;38;2;215;175;0mWARNING \u001b[0m Popping out \u001b[38;2;0;135;0m'TrainingJobName'\u001b[0m from the pipeline definition by default \u001b]8;id=82589;file:///home/ec2-user/anaconda3/envs/pytorch_p310/lib/python3.10/site-packages/sagemaker/workflow/utilities.py\u001b\\\u001b[2mutilities.py\u001b[0m\u001b]8;;\u001b\\\u001b[2m:\u001b[0m\u001b]8;id=550291;file:///home/ec2-user/anaconda3/envs/pytorch_p310/lib/python3.10/site-packages/sagemaker/workflow/utilities.py#465\u001b\\\u001b[2m465\u001b[0m\u001b]8;;\u001b\\\n",
       "\u001b[2;36m                    \u001b[0m         since it will be overridden at pipeline execution time. Please        \u001b[2m                \u001b[0m\n",
       "\u001b[2;36m                    \u001b[0m         utilize the PipelineDefinitionConfig to persist this field in the     \u001b[2m                \u001b[0m\n",
       "\u001b[2;36m                    \u001b[0m         pipeline definition if desired.                                       \u001b[2m                \u001b[0m\n"
      ]
     },
     "metadata": {},
     "output_type": "display_data"
    },
    {
     "data": {
      "text/html": [
       "<pre style=\"white-space:pre;overflow-x:auto;line-height:normal;font-family:Menlo,'DejaVu Sans Mono',consolas,'Courier New',monospace\"><span style=\"color: #7fbfbf; text-decoration-color: #7fbfbf\">                    </span><span style=\"color: #d7af00; text-decoration-color: #d7af00; font-weight: bold\">WARNING </span> Popping out <span style=\"color: #008700; text-decoration-color: #008700\">'CertifyForMarketplace'</span> from the pipeline definition since   <a href=\"file:///home/ec2-user/anaconda3/envs/pytorch_p310/lib/python3.10/site-packages/sagemaker/workflow/_utils.py\" target=\"_blank\"><span style=\"color: #7f7f7f; text-decoration-color: #7f7f7f\">_utils.py</span></a><span style=\"color: #7f7f7f; text-decoration-color: #7f7f7f\">:</span><a href=\"file:///home/ec2-user/anaconda3/envs/pytorch_p310/lib/python3.10/site-packages/sagemaker/workflow/_utils.py#515\" target=\"_blank\"><span style=\"color: #7f7f7f; text-decoration-color: #7f7f7f\">515</span></a>\n",
       "<span style=\"color: #7fbfbf; text-decoration-color: #7fbfbf\">                    </span>         it will be overridden in pipeline execution time.                        <span style=\"color: #7f7f7f; text-decoration-color: #7f7f7f\">             </span>\n",
       "</pre>\n"
      ],
      "text/plain": [
       "\u001b[2;36m                   \u001b[0m\u001b[2;36m \u001b[0m\u001b[1;38;2;215;175;0mWARNING \u001b[0m Popping out \u001b[38;2;0;135;0m'CertifyForMarketplace'\u001b[0m from the pipeline definition since   \u001b]8;id=457252;file:///home/ec2-user/anaconda3/envs/pytorch_p310/lib/python3.10/site-packages/sagemaker/workflow/_utils.py\u001b\\\u001b[2m_utils.py\u001b[0m\u001b]8;;\u001b\\\u001b[2m:\u001b[0m\u001b]8;id=417644;file:///home/ec2-user/anaconda3/envs/pytorch_p310/lib/python3.10/site-packages/sagemaker/workflow/_utils.py#515\u001b\\\u001b[2m515\u001b[0m\u001b]8;;\u001b\\\n",
       "\u001b[2;36m                    \u001b[0m         it will be overridden in pipeline execution time.                        \u001b[2m             \u001b[0m\n"
      ]
     },
     "metadata": {},
     "output_type": "display_data"
    },
    {
     "data": {
      "text/html": [
       "<pre style=\"white-space:pre;overflow-x:auto;line-height:normal;font-family:Menlo,'DejaVu Sans Mono',consolas,'Courier New',monospace\"><span style=\"color: #7fbfbf; text-decoration-color: #7fbfbf\">                    </span><span style=\"color: #d7af00; text-decoration-color: #d7af00; font-weight: bold\">WARNING </span> Popping out <span style=\"color: #008700; text-decoration-color: #008700\">'ModelPackageName'</span> from the pipeline definition by        <a href=\"file:///home/ec2-user/anaconda3/envs/pytorch_p310/lib/python3.10/site-packages/sagemaker/workflow/utilities.py\" target=\"_blank\"><span style=\"color: #7f7f7f; text-decoration-color: #7f7f7f\">utilities.py</span></a><span style=\"color: #7f7f7f; text-decoration-color: #7f7f7f\">:</span><a href=\"file:///home/ec2-user/anaconda3/envs/pytorch_p310/lib/python3.10/site-packages/sagemaker/workflow/utilities.py#465\" target=\"_blank\"><span style=\"color: #7f7f7f; text-decoration-color: #7f7f7f\">465</span></a>\n",
       "<span style=\"color: #7fbfbf; text-decoration-color: #7fbfbf\">                    </span>         default since it will be overridden at pipeline execution time.       <span style=\"color: #7f7f7f; text-decoration-color: #7f7f7f\">                </span>\n",
       "<span style=\"color: #7fbfbf; text-decoration-color: #7fbfbf\">                    </span>         Please utilize the PipelineDefinitionConfig to persist this field in  <span style=\"color: #7f7f7f; text-decoration-color: #7f7f7f\">                </span>\n",
       "<span style=\"color: #7fbfbf; text-decoration-color: #7fbfbf\">                    </span>         the pipeline definition if desired.                                   <span style=\"color: #7f7f7f; text-decoration-color: #7f7f7f\">                </span>\n",
       "</pre>\n"
      ],
      "text/plain": [
       "\u001b[2;36m                   \u001b[0m\u001b[2;36m \u001b[0m\u001b[1;38;2;215;175;0mWARNING \u001b[0m Popping out \u001b[38;2;0;135;0m'ModelPackageName'\u001b[0m from the pipeline definition by        \u001b]8;id=403364;file:///home/ec2-user/anaconda3/envs/pytorch_p310/lib/python3.10/site-packages/sagemaker/workflow/utilities.py\u001b\\\u001b[2mutilities.py\u001b[0m\u001b]8;;\u001b\\\u001b[2m:\u001b[0m\u001b]8;id=449606;file:///home/ec2-user/anaconda3/envs/pytorch_p310/lib/python3.10/site-packages/sagemaker/workflow/utilities.py#465\u001b\\\u001b[2m465\u001b[0m\u001b]8;;\u001b\\\n",
       "\u001b[2;36m                    \u001b[0m         default since it will be overridden at pipeline execution time.       \u001b[2m                \u001b[0m\n",
       "\u001b[2;36m                    \u001b[0m         Please utilize the PipelineDefinitionConfig to persist this field in  \u001b[2m                \u001b[0m\n",
       "\u001b[2;36m                    \u001b[0m         the pipeline definition if desired.                                   \u001b[2m                \u001b[0m\n"
      ]
     },
     "metadata": {},
     "output_type": "display_data"
    },
    {
     "name": "stdout",
     "output_type": "stream",
     "text": [
      "===========================\n",
      "key: Conditions\n",
      "[{'LeftValue': JsonGet(step_name='EvaluationProcess', property_file=PropertyFile(name='EvaluationReport', output_name='evaluation', path='evaluation.json'), json_path='metrics.accuracy.value', s3_uri=None, step=None),\n",
      "  'RightValue': 0.5,\n",
      "  'Type': 'GreaterThanOrEqualTo'},\n",
      " {'LeftValue': JsonGet(step_name='EvaluationProcess', property_file=PropertyFile(name='EvaluationReport', output_name='evaluation', path='evaluation.json'), json_path='metrics.precision.value', s3_uri=None, step=None),\n",
      "  'RightValue': 0.5,\n",
      "  'Type': 'GreaterThanOrEqualTo'}]\n",
      "===========================\n",
      "key: IfSteps\n",
      "[{'Arguments': {'AlgorithmSpecification': {'TrainingImage': '246618743249.dkr.ecr.us-west-2.amazonaws.com/sagemaker-scikit-learn:1.2-1-cpu-py3',\n",
      "                                           'TrainingInputMode': 'File'},\n",
      "                'DebugHookConfig': {'CollectionConfigurations': [],\n",
      "                                    'S3OutputPath': 's3://sm-anomaly-detection-jdj/DJ-SM-PIPELINE-RAPP/inference/model/inf-docker-image-2025-06-06-12-52-38-620'},\n",
      "                'HyperParameters': {'dependencies': 'null',\n",
      "                                    'inference_script': '\"inference.py\"',\n",
      "                                    'model_archive': Join(on='', values=[{'_step': <sagemaker.workflow.steps.TrainingStep object at 0x7f7a6ea253c0>, 'step_name': 'TrainingProcess', 'path': 'ModelArtifacts.S3ModelArtifacts', '_shape_names': ['S3Uri'], '__str__': 'S3Uri'}]),\n",
      "                                    'sagemaker_container_log_level': '20',\n",
      "                                    'sagemaker_program': '\"_repack_script_launcher.sh\"',\n",
      "                                    'sagemaker_region': '\"us-west-2\"',\n",
      "                                    'sagemaker_submit_directory': '\"s3://sm-anomaly-detection-jdj/sagemaker-scikit-learn-2025-06-06-12-52-38-642/source/sourcedir.tar.gz\"',\n",
      "                                    'source_dir': '\"./src/deploy\"'},\n",
      "                'InputDataConfig': [{'ChannelName': 'training',\n",
      "                                     'DataSource': {'S3DataSource': {'S3DataDistributionType': 'FullyReplicated',\n",
      "                                                                     'S3DataType': 'S3Prefix',\n",
      "                                                                     'S3Uri': {'_step': <sagemaker.workflow.steps.TrainingStep object at 0x7f7a6ea253c0>, 'step_name': 'TrainingProcess', 'path': 'ModelArtifacts.S3ModelArtifacts', '_shape_names': ['S3Uri'], '__str__': 'S3Uri'}}}}],\n",
      "                'OutputDataConfig': {'S3OutputPath': 's3://sm-anomaly-detection-jdj/DJ-SM-PIPELINE-RAPP/inference/model/inf-docker-image-2025-06-06-12-52-38-620'},\n",
      "                'ProfilerConfig': {'DisableProfiler': True},\n",
      "                'ResourceConfig': {'InstanceCount': 1,\n",
      "                                   'InstanceType': 'ml.m5.large',\n",
      "                                   'VolumeSizeInGB': 30},\n",
      "                'RoleArn': 'arn:aws:iam::615299776985:role/service-role/AmazonSageMaker-ExecutionRole-20241014T132050',\n",
      "                'StoppingCondition': {'MaxRuntimeInSeconds': 86400}},\n",
      "  'Description': 'Used to repack a model with customer scripts for a '\n",
      "                 'register/create model step',\n",
      "  'Name': 'ModelRegisterProcess-RepackModel-0',\n",
      "  'Type': 'Training'},\n",
      " {'Arguments': {'InferenceSpecification': {'Containers': [{'Environment': {'SAGEMAKER_CONTAINER_LOG_LEVEL': '20',\n",
      "                                                                           'SAGEMAKER_MODEL_SERVER_WORKERS': '1',\n",
      "                                                                           'SAGEMAKER_PROGRAM': 'inference.py',\n",
      "                                                                           'SAGEMAKER_REGION': 'us-west-2',\n",
      "                                                                           'SAGEMAKER_SUBMIT_DIRECTORY': '/opt/ml/model/code'},\n",
      "                                                           'Framework': 'PYTORCH',\n",
      "                                                           'FrameworkVersion': '2.1',\n",
      "                                                           'Image': '615299776985.dkr.ecr.us-west-2.amazonaws.com/inf-docker-image',\n",
      "                                                           'ModelDataUrl': {'_step': <sagemaker.workflow._utils._RepackModelStep object at 0x7f7a6e2dd720>, 'step_name': 'ModelRegisterProcess-RepackModel-0', 'path': 'ModelArtifacts.S3ModelArtifacts', '_shape_names': ['S3Uri'], '__str__': 'S3Uri'}}],\n",
      "                                           'SupportedContentTypes': ['application/json',\n",
      "                                                                     'file-path/raw-bytes',\n",
      "                                                                     'text/csv'],\n",
      "                                           'SupportedRealtimeInferenceInstanceTypes': ['ml.g4dn.xlarge'],\n",
      "                                           'SupportedResponseMIMETypes': ['application/json'],\n",
      "                                           'SupportedTransformInstanceTypes': ['ml.g4dn.xlarge']},\n",
      "                'ModelApprovalStatus': 'Approved',\n",
      "                'ModelMetrics': {'Bias': {},\n",
      "                                 'Explainability': {},\n",
      "                                 'ModelQuality': {'Statistics': {'ContentType': 'application/json',\n",
      "                                                                 'S3Uri': Join(on='/', values=[{'_step': <sagemaker.workflow.steps.ProcessingStep object at 0x7f7a6f6f0b80>, 'step_name': 'EvaluationProcess', 'path': \"ProcessingOutputConfig.Outputs['evaluation'].S3Output.S3Uri\", '_shape_names': ['S3Uri'], '__str__': 'S3Uri'}, 'evaluation-RAPP.json'])}}},\n",
      "                'ModelPackageGroupName': 'MPG-DJ-SM-PIPELINE-RAPP',\n",
      "                'SkipModelValidation': 'None'},\n",
      "  'Name': 'ModelRegisterProcess-RegisterModel',\n",
      "  'Type': 'RegisterModel'}]\n",
      "===========================\n",
      "key: ElseSteps\n",
      "[{'Arguments': {'ErrorMessage': Join(on=' ', values=['Execution failed due to performance threshold'])},\n",
      "  'Name': 'ConditionFail',\n",
      "  'Type': 'Fail'}]\n",
      "  \n",
      "== Deploy Step ==\n",
      "   \n",
      "Args: \n"
     ]
    },
    {
     "data": {
      "text/html": [
       "<pre style=\"white-space:pre;overflow-x:auto;line-height:normal;font-family:Menlo,'DejaVu Sans Mono',consolas,'Courier New',monospace\"><span style=\"color: #7fbfbf; text-decoration-color: #7fbfbf\">[06/06/25 12:52:39] </span><span style=\"color: #0069ff; text-decoration-color: #0069ff; font-weight: bold\">INFO    </span> Uploaded src/deploy/ to                                             <a href=\"file:///home/ec2-user/anaconda3/envs/pytorch_p310/lib/python3.10/site-packages/sagemaker/processing.py\" target=\"_blank\"><span style=\"color: #7f7f7f; text-decoration-color: #7f7f7f\">processing.py</span></a><span style=\"color: #7f7f7f; text-decoration-color: #7f7f7f\">:</span><a href=\"file:///home/ec2-user/anaconda3/envs/pytorch_p310/lib/python3.10/site-packages/sagemaker/processing.py#1960\" target=\"_blank\"><span style=\"color: #7f7f7f; text-decoration-color: #7f7f7f\">1960</span></a>\n",
       "<span style=\"color: #7fbfbf; text-decoration-color: #7fbfbf\">                    </span>         s3:<span style=\"color: #e100e1; text-decoration-color: #e100e1\">//sagemaker-us-west-2-615299776985/deploy/source/sourcedir.tar.g</span> <span style=\"color: #7f7f7f; text-decoration-color: #7f7f7f\">                  </span>\n",
       "<span style=\"color: #7fbfbf; text-decoration-color: #7fbfbf\">                    </span>         <span style=\"color: #e100e1; text-decoration-color: #e100e1\">z</span>                                                                   <span style=\"color: #7f7f7f; text-decoration-color: #7f7f7f\">                  </span>\n",
       "</pre>\n"
      ],
      "text/plain": [
       "\u001b[2;36m[06/06/25 12:52:39]\u001b[0m\u001b[2;36m \u001b[0m\u001b[1;38;2;0;105;255mINFO    \u001b[0m Uploaded src/deploy/ to                                             \u001b]8;id=72156;file:///home/ec2-user/anaconda3/envs/pytorch_p310/lib/python3.10/site-packages/sagemaker/processing.py\u001b\\\u001b[2mprocessing.py\u001b[0m\u001b]8;;\u001b\\\u001b[2m:\u001b[0m\u001b]8;id=833771;file:///home/ec2-user/anaconda3/envs/pytorch_p310/lib/python3.10/site-packages/sagemaker/processing.py#1960\u001b\\\u001b[2m1960\u001b[0m\u001b]8;;\u001b\\\n",
       "\u001b[2;36m                    \u001b[0m         s3:\u001b[38;2;225;0;225m/\u001b[0m\u001b[38;2;225;0;225m/sagemaker-us-west-2-615299776985/deploy/source/\u001b[0m\u001b[38;2;225;0;225msourcedir.tar.g\u001b[0m \u001b[2m                  \u001b[0m\n",
       "\u001b[2;36m                    \u001b[0m         \u001b[38;2;225;0;225mz\u001b[0m                                                                   \u001b[2m                  \u001b[0m\n"
      ]
     },
     "metadata": {},
     "output_type": "display_data"
    },
    {
     "data": {
      "text/html": [
       "<pre style=\"white-space:pre;overflow-x:auto;line-height:normal;font-family:Menlo,'DejaVu Sans Mono',consolas,'Courier New',monospace\"><span style=\"color: #7fbfbf; text-decoration-color: #7fbfbf\">                    </span><span style=\"color: #0069ff; text-decoration-color: #0069ff; font-weight: bold\">INFO    </span> runproc.sh uploaded to                                              <a href=\"file:///home/ec2-user/anaconda3/envs/pytorch_p310/lib/python3.10/site-packages/sagemaker/processing.py\" target=\"_blank\"><span style=\"color: #7f7f7f; text-decoration-color: #7f7f7f\">processing.py</span></a><span style=\"color: #7f7f7f; text-decoration-color: #7f7f7f\">:</span><a href=\"file:///home/ec2-user/anaconda3/envs/pytorch_p310/lib/python3.10/site-packages/sagemaker/processing.py#2054\" target=\"_blank\"><span style=\"color: #7f7f7f; text-decoration-color: #7f7f7f\">2054</span></a>\n",
       "<span style=\"color: #7fbfbf; text-decoration-color: #7fbfbf\">                    </span>         s3:<span style=\"color: #e100e1; text-decoration-color: #e100e1\">//sagemaker-us-west-2-615299776985/deploy/source/runproc.sh</span>      <span style=\"color: #7f7f7f; text-decoration-color: #7f7f7f\">                  </span>\n",
       "</pre>\n"
      ],
      "text/plain": [
       "\u001b[2;36m                   \u001b[0m\u001b[2;36m \u001b[0m\u001b[1;38;2;0;105;255mINFO    \u001b[0m runproc.sh uploaded to                                              \u001b]8;id=580638;file:///home/ec2-user/anaconda3/envs/pytorch_p310/lib/python3.10/site-packages/sagemaker/processing.py\u001b\\\u001b[2mprocessing.py\u001b[0m\u001b]8;;\u001b\\\u001b[2m:\u001b[0m\u001b]8;id=463549;file:///home/ec2-user/anaconda3/envs/pytorch_p310/lib/python3.10/site-packages/sagemaker/processing.py#2054\u001b\\\u001b[2m2054\u001b[0m\u001b]8;;\u001b\\\n",
       "\u001b[2;36m                    \u001b[0m         s3:\u001b[38;2;225;0;225m/\u001b[0m\u001b[38;2;225;0;225m/sagemaker-us-west-2-615299776985/deploy/source/\u001b[0m\u001b[38;2;225;0;225mrunproc.sh\u001b[0m      \u001b[2m                  \u001b[0m\n"
      ]
     },
     "metadata": {},
     "output_type": "display_data"
    },
    {
     "data": {
      "text/html": [
       "<pre style=\"white-space:pre;overflow-x:auto;line-height:normal;font-family:Menlo,'DejaVu Sans Mono',consolas,'Courier New',monospace\"><span style=\"color: #7fbfbf; text-decoration-color: #7fbfbf\">                    </span><span style=\"color: #d7af00; text-decoration-color: #d7af00; font-weight: bold\">WARNING </span> Popping out <span style=\"color: #008700; text-decoration-color: #008700\">'ProcessingJobName'</span> from the pipeline definition by       <a href=\"file:///home/ec2-user/anaconda3/envs/pytorch_p310/lib/python3.10/site-packages/sagemaker/workflow/utilities.py\" target=\"_blank\"><span style=\"color: #7f7f7f; text-decoration-color: #7f7f7f\">utilities.py</span></a><span style=\"color: #7f7f7f; text-decoration-color: #7f7f7f\">:</span><a href=\"file:///home/ec2-user/anaconda3/envs/pytorch_p310/lib/python3.10/site-packages/sagemaker/workflow/utilities.py#465\" target=\"_blank\"><span style=\"color: #7f7f7f; text-decoration-color: #7f7f7f\">465</span></a>\n",
       "<span style=\"color: #7fbfbf; text-decoration-color: #7fbfbf\">                    </span>         default since it will be overridden at pipeline execution time.       <span style=\"color: #7f7f7f; text-decoration-color: #7f7f7f\">                </span>\n",
       "<span style=\"color: #7fbfbf; text-decoration-color: #7fbfbf\">                    </span>         Please utilize the PipelineDefinitionConfig to persist this field in  <span style=\"color: #7f7f7f; text-decoration-color: #7f7f7f\">                </span>\n",
       "<span style=\"color: #7fbfbf; text-decoration-color: #7fbfbf\">                    </span>         the pipeline definition if desired.                                   <span style=\"color: #7f7f7f; text-decoration-color: #7f7f7f\">                </span>\n",
       "</pre>\n"
      ],
      "text/plain": [
       "\u001b[2;36m                   \u001b[0m\u001b[2;36m \u001b[0m\u001b[1;38;2;215;175;0mWARNING \u001b[0m Popping out \u001b[38;2;0;135;0m'ProcessingJobName'\u001b[0m from the pipeline definition by       \u001b]8;id=810332;file:///home/ec2-user/anaconda3/envs/pytorch_p310/lib/python3.10/site-packages/sagemaker/workflow/utilities.py\u001b\\\u001b[2mutilities.py\u001b[0m\u001b]8;;\u001b\\\u001b[2m:\u001b[0m\u001b]8;id=376788;file:///home/ec2-user/anaconda3/envs/pytorch_p310/lib/python3.10/site-packages/sagemaker/workflow/utilities.py#465\u001b\\\u001b[2m465\u001b[0m\u001b]8;;\u001b\\\n",
       "\u001b[2;36m                    \u001b[0m         default since it will be overridden at pipeline execution time.       \u001b[2m                \u001b[0m\n",
       "\u001b[2;36m                    \u001b[0m         Please utilize the PipelineDefinitionConfig to persist this field in  \u001b[2m                \u001b[0m\n",
       "\u001b[2;36m                    \u001b[0m         the pipeline definition if desired.                                   \u001b[2m                \u001b[0m\n"
      ]
     },
     "metadata": {},
     "output_type": "display_data"
    },
    {
     "name": "stdout",
     "output_type": "stream",
     "text": [
      "===========================\n",
      "key: ProcessingResources\n",
      "{'ClusterConfig': {'InstanceCount': 1,\n",
      "                   'InstanceType': 'ml.g4dn.xlarge',\n",
      "                   'VolumeSizeInGB': 30}}\n",
      "===========================\n",
      "key: AppSpecification\n",
      "{'ContainerArguments': ['--prefix_deploy',\n",
      "                        '/opt/ml/processing',\n",
      "                        '--region',\n",
      "                        'us-west-2',\n",
      "                        '--instance_type',\n",
      "                        'ml.g4dn.xlarge',\n",
      "                        '--depoly_instance_type',\n",
      "                        'ml.g4dn.xlarge',\n",
      "                        '--model_package_group_name',\n",
      "                        'MPG-DJ-SM-PIPELINE-RAPP',\n",
      "                        '--endpoint_name',\n",
      "                        'endpoint--DJ-SM-PIPELINE-RAPP-1749214358',\n",
      "                        '--execution_role',\n",
      "                        'arn:aws:iam::615299776985:role/service-role/AmazonSageMaker-ExecutionRole-20241014T132050'],\n",
      " 'ContainerEntrypoint': ['/bin/bash',\n",
      "                         '/opt/ml/processing/input/entrypoint/runproc.sh'],\n",
      " 'ImageUri': '615299776985.dkr.ecr.us-west-2.amazonaws.com/inf-docker-image'}\n",
      "===========================\n",
      "key: RoleArn\n",
      "'arn:aws:iam::615299776985:role/service-role/AmazonSageMaker-ExecutionRole-20241014T132050'\n",
      "===========================\n",
      "key: ProcessingInputs\n",
      "[{'AppManaged': False,\n",
      "  'InputName': 'code',\n",
      "  'S3Input': {'LocalPath': '/opt/ml/processing/input/code/',\n",
      "              'S3CompressionType': 'None',\n",
      "              'S3DataDistributionType': 'FullyReplicated',\n",
      "              'S3DataType': 'S3Prefix',\n",
      "              'S3InputMode': 'File',\n",
      "              'S3Uri': 's3://sagemaker-us-west-2-615299776985/deploy/source/sourcedir.tar.gz'}},\n",
      " {'AppManaged': False,\n",
      "  'InputName': 'entrypoint',\n",
      "  'S3Input': {'LocalPath': '/opt/ml/processing/input/entrypoint',\n",
      "              'S3CompressionType': 'None',\n",
      "              'S3DataDistributionType': 'FullyReplicated',\n",
      "              'S3DataType': 'S3Prefix',\n",
      "              'S3InputMode': 'File',\n",
      "              'S3Uri': 's3://sagemaker-us-west-2-615299776985/deploy/source/runproc.sh'}}]\n"
     ]
    },
    {
     "data": {
      "text/html": [
       "<pre style=\"white-space:pre;overflow-x:auto;line-height:normal;font-family:Menlo,'DejaVu Sans Mono',consolas,'Courier New',monospace\"><span style=\"color: #7fbfbf; text-decoration-color: #7fbfbf\">                    </span><span style=\"color: #0069ff; text-decoration-color: #0069ff; font-weight: bold\">INFO    </span> Uploaded .<span style=\"color: #e100e1; text-decoration-color: #e100e1\">/src/preprocessing</span> to                                     <a href=\"file:///home/ec2-user/anaconda3/envs/pytorch_p310/lib/python3.10/site-packages/sagemaker/processing.py\" target=\"_blank\"><span style=\"color: #7f7f7f; text-decoration-color: #7f7f7f\">processing.py</span></a><span style=\"color: #7f7f7f; text-decoration-color: #7f7f7f\">:</span><a href=\"file:///home/ec2-user/anaconda3/envs/pytorch_p310/lib/python3.10/site-packages/sagemaker/processing.py#1960\" target=\"_blank\"><span style=\"color: #7f7f7f; text-decoration-color: #7f7f7f\">1960</span></a>\n",
       "<span style=\"color: #7fbfbf; text-decoration-color: #7fbfbf\">                    </span>         s3:<span style=\"color: #e100e1; text-decoration-color: #e100e1\">//sagemaker-us-west-2-615299776985/DJ-SM-PIPELINE-RAPP/code/6da2</span> <span style=\"color: #7f7f7f; text-decoration-color: #7f7f7f\">                  </span>\n",
       "<span style=\"color: #7fbfbf; text-decoration-color: #7fbfbf\">                    </span>         <span style=\"color: #e100e1; text-decoration-color: #e100e1\">cfa6ac24bec58fdf3106ad01b7c4dde03f4ee384c55b91861c39e01d01d4/source</span> <span style=\"color: #7f7f7f; text-decoration-color: #7f7f7f\">                  </span>\n",
       "<span style=\"color: #7fbfbf; text-decoration-color: #7fbfbf\">                    </span>         <span style=\"color: #e100e1; text-decoration-color: #e100e1\">dir.tar.gz</span>                                                          <span style=\"color: #7f7f7f; text-decoration-color: #7f7f7f\">                  </span>\n",
       "</pre>\n"
      ],
      "text/plain": [
       "\u001b[2;36m                   \u001b[0m\u001b[2;36m \u001b[0m\u001b[1;38;2;0;105;255mINFO    \u001b[0m Uploaded .\u001b[38;2;225;0;225m/src/\u001b[0m\u001b[38;2;225;0;225mpreprocessing\u001b[0m to                                     \u001b]8;id=94874;file:///home/ec2-user/anaconda3/envs/pytorch_p310/lib/python3.10/site-packages/sagemaker/processing.py\u001b\\\u001b[2mprocessing.py\u001b[0m\u001b]8;;\u001b\\\u001b[2m:\u001b[0m\u001b]8;id=124179;file:///home/ec2-user/anaconda3/envs/pytorch_p310/lib/python3.10/site-packages/sagemaker/processing.py#1960\u001b\\\u001b[2m1960\u001b[0m\u001b]8;;\u001b\\\n",
       "\u001b[2;36m                    \u001b[0m         s3:\u001b[38;2;225;0;225m/\u001b[0m\u001b[38;2;225;0;225m/sagemaker-us-west-2-615299776985/DJ-SM-PIPELINE-RAPP/code/6da2\u001b[0m \u001b[2m                  \u001b[0m\n",
       "\u001b[2;36m                    \u001b[0m         \u001b[38;2;225;0;225mcfa6ac24bec58fdf3106ad01b7c4dde03f4ee384c55b91861c39e01d01d4/\u001b[0m\u001b[38;2;225;0;225msource\u001b[0m \u001b[2m                  \u001b[0m\n",
       "\u001b[2;36m                    \u001b[0m         \u001b[38;2;225;0;225mdir.tar.gz\u001b[0m                                                          \u001b[2m                  \u001b[0m\n"
      ]
     },
     "metadata": {},
     "output_type": "display_data"
    },
    {
     "data": {
      "text/html": [
       "<pre style=\"white-space:pre;overflow-x:auto;line-height:normal;font-family:Menlo,'DejaVu Sans Mono',consolas,'Courier New',monospace\"><span style=\"color: #7fbfbf; text-decoration-color: #7fbfbf\">                    </span><span style=\"color: #0069ff; text-decoration-color: #0069ff; font-weight: bold\">INFO    </span> runproc.sh uploaded to                                              <a href=\"file:///home/ec2-user/anaconda3/envs/pytorch_p310/lib/python3.10/site-packages/sagemaker/processing.py\" target=\"_blank\"><span style=\"color: #7f7f7f; text-decoration-color: #7f7f7f\">processing.py</span></a><span style=\"color: #7f7f7f; text-decoration-color: #7f7f7f\">:</span><a href=\"file:///home/ec2-user/anaconda3/envs/pytorch_p310/lib/python3.10/site-packages/sagemaker/processing.py#2054\" target=\"_blank\"><span style=\"color: #7f7f7f; text-decoration-color: #7f7f7f\">2054</span></a>\n",
       "<span style=\"color: #7fbfbf; text-decoration-color: #7fbfbf\">                    </span>         s3:<span style=\"color: #e100e1; text-decoration-color: #e100e1\">//sagemaker-us-west-2-615299776985/DJ-SM-PIPELINE-RAPP/code/b28c</span> <span style=\"color: #7f7f7f; text-decoration-color: #7f7f7f\">                  </span>\n",
       "<span style=\"color: #7fbfbf; text-decoration-color: #7fbfbf\">                    </span>         <span style=\"color: #e100e1; text-decoration-color: #e100e1\">3492a1fdb12268ebe494a3cb6c6f9bcba8ab9ad4a1192a7b70633ff43934/runpro</span> <span style=\"color: #7f7f7f; text-decoration-color: #7f7f7f\">                  </span>\n",
       "<span style=\"color: #7fbfbf; text-decoration-color: #7fbfbf\">                    </span>         <span style=\"color: #e100e1; text-decoration-color: #e100e1\">c.sh</span>                                                                <span style=\"color: #7f7f7f; text-decoration-color: #7f7f7f\">                  </span>\n",
       "</pre>\n"
      ],
      "text/plain": [
       "\u001b[2;36m                   \u001b[0m\u001b[2;36m \u001b[0m\u001b[1;38;2;0;105;255mINFO    \u001b[0m runproc.sh uploaded to                                              \u001b]8;id=800120;file:///home/ec2-user/anaconda3/envs/pytorch_p310/lib/python3.10/site-packages/sagemaker/processing.py\u001b\\\u001b[2mprocessing.py\u001b[0m\u001b]8;;\u001b\\\u001b[2m:\u001b[0m\u001b]8;id=394824;file:///home/ec2-user/anaconda3/envs/pytorch_p310/lib/python3.10/site-packages/sagemaker/processing.py#2054\u001b\\\u001b[2m2054\u001b[0m\u001b]8;;\u001b\\\n",
       "\u001b[2;36m                    \u001b[0m         s3:\u001b[38;2;225;0;225m/\u001b[0m\u001b[38;2;225;0;225m/sagemaker-us-west-2-615299776985/DJ-SM-PIPELINE-RAPP/code/b28c\u001b[0m \u001b[2m                  \u001b[0m\n",
       "\u001b[2;36m                    \u001b[0m         \u001b[38;2;225;0;225m3492a1fdb12268ebe494a3cb6c6f9bcba8ab9ad4a1192a7b70633ff43934/\u001b[0m\u001b[38;2;225;0;225mrunpro\u001b[0m \u001b[2m                  \u001b[0m\n",
       "\u001b[2;36m                    \u001b[0m         \u001b[38;2;225;0;225mc.sh\u001b[0m                                                                \u001b[2m                  \u001b[0m\n"
      ]
     },
     "metadata": {},
     "output_type": "display_data"
    },
    {
     "data": {
      "text/html": [
       "<pre style=\"white-space:pre;overflow-x:auto;line-height:normal;font-family:Menlo,'DejaVu Sans Mono',consolas,'Courier New',monospace\"><span style=\"color: #7fbfbf; text-decoration-color: #7fbfbf\">                    </span><span style=\"color: #d7af00; text-decoration-color: #d7af00; font-weight: bold\">WARNING </span> Popping out <span style=\"color: #008700; text-decoration-color: #008700\">'ProcessingJobName'</span> from the pipeline definition by       <a href=\"file:///home/ec2-user/anaconda3/envs/pytorch_p310/lib/python3.10/site-packages/sagemaker/workflow/utilities.py\" target=\"_blank\"><span style=\"color: #7f7f7f; text-decoration-color: #7f7f7f\">utilities.py</span></a><span style=\"color: #7f7f7f; text-decoration-color: #7f7f7f\">:</span><a href=\"file:///home/ec2-user/anaconda3/envs/pytorch_p310/lib/python3.10/site-packages/sagemaker/workflow/utilities.py#465\" target=\"_blank\"><span style=\"color: #7f7f7f; text-decoration-color: #7f7f7f\">465</span></a>\n",
       "<span style=\"color: #7fbfbf; text-decoration-color: #7fbfbf\">                    </span>         default since it will be overridden at pipeline execution time.       <span style=\"color: #7f7f7f; text-decoration-color: #7f7f7f\">                </span>\n",
       "<span style=\"color: #7fbfbf; text-decoration-color: #7fbfbf\">                    </span>         Please utilize the PipelineDefinitionConfig to persist this field in  <span style=\"color: #7f7f7f; text-decoration-color: #7f7f7f\">                </span>\n",
       "<span style=\"color: #7fbfbf; text-decoration-color: #7fbfbf\">                    </span>         the pipeline definition if desired.                                   <span style=\"color: #7f7f7f; text-decoration-color: #7f7f7f\">                </span>\n",
       "</pre>\n"
      ],
      "text/plain": [
       "\u001b[2;36m                   \u001b[0m\u001b[2;36m \u001b[0m\u001b[1;38;2;215;175;0mWARNING \u001b[0m Popping out \u001b[38;2;0;135;0m'ProcessingJobName'\u001b[0m from the pipeline definition by       \u001b]8;id=848091;file:///home/ec2-user/anaconda3/envs/pytorch_p310/lib/python3.10/site-packages/sagemaker/workflow/utilities.py\u001b\\\u001b[2mutilities.py\u001b[0m\u001b]8;;\u001b\\\u001b[2m:\u001b[0m\u001b]8;id=413953;file:///home/ec2-user/anaconda3/envs/pytorch_p310/lib/python3.10/site-packages/sagemaker/workflow/utilities.py#465\u001b\\\u001b[2m465\u001b[0m\u001b]8;;\u001b\\\n",
       "\u001b[2;36m                    \u001b[0m         default since it will be overridden at pipeline execution time.       \u001b[2m                \u001b[0m\n",
       "\u001b[2;36m                    \u001b[0m         Please utilize the PipelineDefinitionConfig to persist this field in  \u001b[2m                \u001b[0m\n",
       "\u001b[2;36m                    \u001b[0m         the pipeline definition if desired.                                   \u001b[2m                \u001b[0m\n"
      ]
     },
     "metadata": {},
     "output_type": "display_data"
    },
    {
     "data": {
      "text/html": [
       "<pre style=\"white-space:pre;overflow-x:auto;line-height:normal;font-family:Menlo,'DejaVu Sans Mono',consolas,'Courier New',monospace\"><span style=\"color: #7fbfbf; text-decoration-color: #7fbfbf\">                    </span><span style=\"color: #d7af00; text-decoration-color: #d7af00; font-weight: bold\">WARNING </span> Popping out <span style=\"color: #008700; text-decoration-color: #008700\">'TrainingJobName'</span> from the pipeline definition by default <a href=\"file:///home/ec2-user/anaconda3/envs/pytorch_p310/lib/python3.10/site-packages/sagemaker/workflow/utilities.py\" target=\"_blank\"><span style=\"color: #7f7f7f; text-decoration-color: #7f7f7f\">utilities.py</span></a><span style=\"color: #7f7f7f; text-decoration-color: #7f7f7f\">:</span><a href=\"file:///home/ec2-user/anaconda3/envs/pytorch_p310/lib/python3.10/site-packages/sagemaker/workflow/utilities.py#465\" target=\"_blank\"><span style=\"color: #7f7f7f; text-decoration-color: #7f7f7f\">465</span></a>\n",
       "<span style=\"color: #7fbfbf; text-decoration-color: #7fbfbf\">                    </span>         since it will be overridden at pipeline execution time. Please        <span style=\"color: #7f7f7f; text-decoration-color: #7f7f7f\">                </span>\n",
       "<span style=\"color: #7fbfbf; text-decoration-color: #7fbfbf\">                    </span>         utilize the PipelineDefinitionConfig to persist this field in the     <span style=\"color: #7f7f7f; text-decoration-color: #7f7f7f\">                </span>\n",
       "<span style=\"color: #7fbfbf; text-decoration-color: #7fbfbf\">                    </span>         pipeline definition if desired.                                       <span style=\"color: #7f7f7f; text-decoration-color: #7f7f7f\">                </span>\n",
       "</pre>\n"
      ],
      "text/plain": [
       "\u001b[2;36m                   \u001b[0m\u001b[2;36m \u001b[0m\u001b[1;38;2;215;175;0mWARNING \u001b[0m Popping out \u001b[38;2;0;135;0m'TrainingJobName'\u001b[0m from the pipeline definition by default \u001b]8;id=202074;file:///home/ec2-user/anaconda3/envs/pytorch_p310/lib/python3.10/site-packages/sagemaker/workflow/utilities.py\u001b\\\u001b[2mutilities.py\u001b[0m\u001b]8;;\u001b\\\u001b[2m:\u001b[0m\u001b]8;id=801123;file:///home/ec2-user/anaconda3/envs/pytorch_p310/lib/python3.10/site-packages/sagemaker/workflow/utilities.py#465\u001b\\\u001b[2m465\u001b[0m\u001b]8;;\u001b\\\n",
       "\u001b[2;36m                    \u001b[0m         since it will be overridden at pipeline execution time. Please        \u001b[2m                \u001b[0m\n",
       "\u001b[2;36m                    \u001b[0m         utilize the PipelineDefinitionConfig to persist this field in the     \u001b[2m                \u001b[0m\n",
       "\u001b[2;36m                    \u001b[0m         pipeline definition if desired.                                       \u001b[2m                \u001b[0m\n"
      ]
     },
     "metadata": {},
     "output_type": "display_data"
    },
    {
     "data": {
      "text/html": [
       "<pre style=\"white-space:pre;overflow-x:auto;line-height:normal;font-family:Menlo,'DejaVu Sans Mono',consolas,'Courier New',monospace\"><span style=\"color: #7fbfbf; text-decoration-color: #7fbfbf\">                    </span><span style=\"color: #0069ff; text-decoration-color: #0069ff; font-weight: bold\">INFO    </span> Uploaded .<span style=\"color: #e100e1; text-decoration-color: #e100e1\">/src/evaluation</span> to                                        <a href=\"file:///home/ec2-user/anaconda3/envs/pytorch_p310/lib/python3.10/site-packages/sagemaker/processing.py\" target=\"_blank\"><span style=\"color: #7f7f7f; text-decoration-color: #7f7f7f\">processing.py</span></a><span style=\"color: #7f7f7f; text-decoration-color: #7f7f7f\">:</span><a href=\"file:///home/ec2-user/anaconda3/envs/pytorch_p310/lib/python3.10/site-packages/sagemaker/processing.py#1960\" target=\"_blank\"><span style=\"color: #7f7f7f; text-decoration-color: #7f7f7f\">1960</span></a>\n",
       "<span style=\"color: #7fbfbf; text-decoration-color: #7fbfbf\">                    </span>         s3:<span style=\"color: #e100e1; text-decoration-color: #e100e1\">//sagemaker-us-west-2-615299776985/DJ-SM-PIPELINE-RAPP/code/f192</span> <span style=\"color: #7f7f7f; text-decoration-color: #7f7f7f\">                  </span>\n",
       "<span style=\"color: #7fbfbf; text-decoration-color: #7fbfbf\">                    </span>         <span style=\"color: #e100e1; text-decoration-color: #e100e1\">0b9423f4d52aa9e99ccae97cc349fe296d8bdc6ba62397368b245f7aab21/source</span> <span style=\"color: #7f7f7f; text-decoration-color: #7f7f7f\">                  </span>\n",
       "<span style=\"color: #7fbfbf; text-decoration-color: #7fbfbf\">                    </span>         <span style=\"color: #e100e1; text-decoration-color: #e100e1\">dir.tar.gz</span>                                                          <span style=\"color: #7f7f7f; text-decoration-color: #7f7f7f\">                  </span>\n",
       "</pre>\n"
      ],
      "text/plain": [
       "\u001b[2;36m                   \u001b[0m\u001b[2;36m \u001b[0m\u001b[1;38;2;0;105;255mINFO    \u001b[0m Uploaded .\u001b[38;2;225;0;225m/src/\u001b[0m\u001b[38;2;225;0;225mevaluation\u001b[0m to                                        \u001b]8;id=351407;file:///home/ec2-user/anaconda3/envs/pytorch_p310/lib/python3.10/site-packages/sagemaker/processing.py\u001b\\\u001b[2mprocessing.py\u001b[0m\u001b]8;;\u001b\\\u001b[2m:\u001b[0m\u001b]8;id=968119;file:///home/ec2-user/anaconda3/envs/pytorch_p310/lib/python3.10/site-packages/sagemaker/processing.py#1960\u001b\\\u001b[2m1960\u001b[0m\u001b]8;;\u001b\\\n",
       "\u001b[2;36m                    \u001b[0m         s3:\u001b[38;2;225;0;225m/\u001b[0m\u001b[38;2;225;0;225m/sagemaker-us-west-2-615299776985/DJ-SM-PIPELINE-RAPP/code/f192\u001b[0m \u001b[2m                  \u001b[0m\n",
       "\u001b[2;36m                    \u001b[0m         \u001b[38;2;225;0;225m0b9423f4d52aa9e99ccae97cc349fe296d8bdc6ba62397368b245f7aab21/\u001b[0m\u001b[38;2;225;0;225msource\u001b[0m \u001b[2m                  \u001b[0m\n",
       "\u001b[2;36m                    \u001b[0m         \u001b[38;2;225;0;225mdir.tar.gz\u001b[0m                                                          \u001b[2m                  \u001b[0m\n"
      ]
     },
     "metadata": {},
     "output_type": "display_data"
    },
    {
     "data": {
      "text/html": [
       "<pre style=\"white-space:pre;overflow-x:auto;line-height:normal;font-family:Menlo,'DejaVu Sans Mono',consolas,'Courier New',monospace\"><span style=\"color: #7fbfbf; text-decoration-color: #7fbfbf\">                    </span><span style=\"color: #0069ff; text-decoration-color: #0069ff; font-weight: bold\">INFO    </span> runproc.sh uploaded to                                              <a href=\"file:///home/ec2-user/anaconda3/envs/pytorch_p310/lib/python3.10/site-packages/sagemaker/processing.py\" target=\"_blank\"><span style=\"color: #7f7f7f; text-decoration-color: #7f7f7f\">processing.py</span></a><span style=\"color: #7f7f7f; text-decoration-color: #7f7f7f\">:</span><a href=\"file:///home/ec2-user/anaconda3/envs/pytorch_p310/lib/python3.10/site-packages/sagemaker/processing.py#2054\" target=\"_blank\"><span style=\"color: #7f7f7f; text-decoration-color: #7f7f7f\">2054</span></a>\n",
       "<span style=\"color: #7fbfbf; text-decoration-color: #7fbfbf\">                    </span>         s3:<span style=\"color: #e100e1; text-decoration-color: #e100e1\">//sagemaker-us-west-2-615299776985/DJ-SM-PIPELINE-RAPP/code/a64a</span> <span style=\"color: #7f7f7f; text-decoration-color: #7f7f7f\">                  </span>\n",
       "<span style=\"color: #7fbfbf; text-decoration-color: #7fbfbf\">                    </span>         <span style=\"color: #e100e1; text-decoration-color: #e100e1\">cb02d251e35739ee0d00bf26b7413054bca92c7dd767ef59835027cf1c9e/runpro</span> <span style=\"color: #7f7f7f; text-decoration-color: #7f7f7f\">                  </span>\n",
       "<span style=\"color: #7fbfbf; text-decoration-color: #7fbfbf\">                    </span>         <span style=\"color: #e100e1; text-decoration-color: #e100e1\">c.sh</span>                                                                <span style=\"color: #7f7f7f; text-decoration-color: #7f7f7f\">                  </span>\n",
       "</pre>\n"
      ],
      "text/plain": [
       "\u001b[2;36m                   \u001b[0m\u001b[2;36m \u001b[0m\u001b[1;38;2;0;105;255mINFO    \u001b[0m runproc.sh uploaded to                                              \u001b]8;id=876100;file:///home/ec2-user/anaconda3/envs/pytorch_p310/lib/python3.10/site-packages/sagemaker/processing.py\u001b\\\u001b[2mprocessing.py\u001b[0m\u001b]8;;\u001b\\\u001b[2m:\u001b[0m\u001b]8;id=244294;file:///home/ec2-user/anaconda3/envs/pytorch_p310/lib/python3.10/site-packages/sagemaker/processing.py#2054\u001b\\\u001b[2m2054\u001b[0m\u001b]8;;\u001b\\\n",
       "\u001b[2;36m                    \u001b[0m         s3:\u001b[38;2;225;0;225m/\u001b[0m\u001b[38;2;225;0;225m/sagemaker-us-west-2-615299776985/DJ-SM-PIPELINE-RAPP/code/a64a\u001b[0m \u001b[2m                  \u001b[0m\n",
       "\u001b[2;36m                    \u001b[0m         \u001b[38;2;225;0;225mcb02d251e35739ee0d00bf26b7413054bca92c7dd767ef59835027cf1c9e/\u001b[0m\u001b[38;2;225;0;225mrunpro\u001b[0m \u001b[2m                  \u001b[0m\n",
       "\u001b[2;36m                    \u001b[0m         \u001b[38;2;225;0;225mc.sh\u001b[0m                                                                \u001b[2m                  \u001b[0m\n"
      ]
     },
     "metadata": {},
     "output_type": "display_data"
    },
    {
     "data": {
      "text/html": [
       "<pre style=\"white-space:pre;overflow-x:auto;line-height:normal;font-family:Menlo,'DejaVu Sans Mono',consolas,'Courier New',monospace\"><span style=\"color: #7fbfbf; text-decoration-color: #7fbfbf\">                    </span><span style=\"color: #d7af00; text-decoration-color: #d7af00; font-weight: bold\">WARNING </span> Popping out <span style=\"color: #008700; text-decoration-color: #008700\">'ProcessingJobName'</span> from the pipeline definition by       <a href=\"file:///home/ec2-user/anaconda3/envs/pytorch_p310/lib/python3.10/site-packages/sagemaker/workflow/utilities.py\" target=\"_blank\"><span style=\"color: #7f7f7f; text-decoration-color: #7f7f7f\">utilities.py</span></a><span style=\"color: #7f7f7f; text-decoration-color: #7f7f7f\">:</span><a href=\"file:///home/ec2-user/anaconda3/envs/pytorch_p310/lib/python3.10/site-packages/sagemaker/workflow/utilities.py#465\" target=\"_blank\"><span style=\"color: #7f7f7f; text-decoration-color: #7f7f7f\">465</span></a>\n",
       "<span style=\"color: #7fbfbf; text-decoration-color: #7fbfbf\">                    </span>         default since it will be overridden at pipeline execution time.       <span style=\"color: #7f7f7f; text-decoration-color: #7f7f7f\">                </span>\n",
       "<span style=\"color: #7fbfbf; text-decoration-color: #7fbfbf\">                    </span>         Please utilize the PipelineDefinitionConfig to persist this field in  <span style=\"color: #7f7f7f; text-decoration-color: #7f7f7f\">                </span>\n",
       "<span style=\"color: #7fbfbf; text-decoration-color: #7fbfbf\">                    </span>         the pipeline definition if desired.                                   <span style=\"color: #7f7f7f; text-decoration-color: #7f7f7f\">                </span>\n",
       "</pre>\n"
      ],
      "text/plain": [
       "\u001b[2;36m                   \u001b[0m\u001b[2;36m \u001b[0m\u001b[1;38;2;215;175;0mWARNING \u001b[0m Popping out \u001b[38;2;0;135;0m'ProcessingJobName'\u001b[0m from the pipeline definition by       \u001b]8;id=385432;file:///home/ec2-user/anaconda3/envs/pytorch_p310/lib/python3.10/site-packages/sagemaker/workflow/utilities.py\u001b\\\u001b[2mutilities.py\u001b[0m\u001b]8;;\u001b\\\u001b[2m:\u001b[0m\u001b]8;id=617094;file:///home/ec2-user/anaconda3/envs/pytorch_p310/lib/python3.10/site-packages/sagemaker/workflow/utilities.py#465\u001b\\\u001b[2m465\u001b[0m\u001b]8;;\u001b\\\n",
       "\u001b[2;36m                    \u001b[0m         default since it will be overridden at pipeline execution time.       \u001b[2m                \u001b[0m\n",
       "\u001b[2;36m                    \u001b[0m         Please utilize the PipelineDefinitionConfig to persist this field in  \u001b[2m                \u001b[0m\n",
       "\u001b[2;36m                    \u001b[0m         the pipeline definition if desired.                                   \u001b[2m                \u001b[0m\n"
      ]
     },
     "metadata": {},
     "output_type": "display_data"
    },
    {
     "data": {
      "text/html": [
       "<pre style=\"white-space:pre;overflow-x:auto;line-height:normal;font-family:Menlo,'DejaVu Sans Mono',consolas,'Courier New',monospace\"><span style=\"color: #7fbfbf; text-decoration-color: #7fbfbf\">                    </span><span style=\"color: #d7af00; text-decoration-color: #d7af00; font-weight: bold\">WARNING </span> Popping out <span style=\"color: #008700; text-decoration-color: #008700\">'TrainingJobName'</span> from the pipeline definition by default <a href=\"file:///home/ec2-user/anaconda3/envs/pytorch_p310/lib/python3.10/site-packages/sagemaker/workflow/utilities.py\" target=\"_blank\"><span style=\"color: #7f7f7f; text-decoration-color: #7f7f7f\">utilities.py</span></a><span style=\"color: #7f7f7f; text-decoration-color: #7f7f7f\">:</span><a href=\"file:///home/ec2-user/anaconda3/envs/pytorch_p310/lib/python3.10/site-packages/sagemaker/workflow/utilities.py#465\" target=\"_blank\"><span style=\"color: #7f7f7f; text-decoration-color: #7f7f7f\">465</span></a>\n",
       "<span style=\"color: #7fbfbf; text-decoration-color: #7fbfbf\">                    </span>         since it will be overridden at pipeline execution time. Please        <span style=\"color: #7f7f7f; text-decoration-color: #7f7f7f\">                </span>\n",
       "<span style=\"color: #7fbfbf; text-decoration-color: #7fbfbf\">                    </span>         utilize the PipelineDefinitionConfig to persist this field in the     <span style=\"color: #7f7f7f; text-decoration-color: #7f7f7f\">                </span>\n",
       "<span style=\"color: #7fbfbf; text-decoration-color: #7fbfbf\">                    </span>         pipeline definition if desired.                                       <span style=\"color: #7f7f7f; text-decoration-color: #7f7f7f\">                </span>\n",
       "</pre>\n"
      ],
      "text/plain": [
       "\u001b[2;36m                   \u001b[0m\u001b[2;36m \u001b[0m\u001b[1;38;2;215;175;0mWARNING \u001b[0m Popping out \u001b[38;2;0;135;0m'TrainingJobName'\u001b[0m from the pipeline definition by default \u001b]8;id=145964;file:///home/ec2-user/anaconda3/envs/pytorch_p310/lib/python3.10/site-packages/sagemaker/workflow/utilities.py\u001b\\\u001b[2mutilities.py\u001b[0m\u001b]8;;\u001b\\\u001b[2m:\u001b[0m\u001b]8;id=210474;file:///home/ec2-user/anaconda3/envs/pytorch_p310/lib/python3.10/site-packages/sagemaker/workflow/utilities.py#465\u001b\\\u001b[2m465\u001b[0m\u001b]8;;\u001b\\\n",
       "\u001b[2;36m                    \u001b[0m         since it will be overridden at pipeline execution time. Please        \u001b[2m                \u001b[0m\n",
       "\u001b[2;36m                    \u001b[0m         utilize the PipelineDefinitionConfig to persist this field in the     \u001b[2m                \u001b[0m\n",
       "\u001b[2;36m                    \u001b[0m         pipeline definition if desired.                                       \u001b[2m                \u001b[0m\n"
      ]
     },
     "metadata": {},
     "output_type": "display_data"
    },
    {
     "data": {
      "text/html": [
       "<pre style=\"white-space:pre;overflow-x:auto;line-height:normal;font-family:Menlo,'DejaVu Sans Mono',consolas,'Courier New',monospace\"><span style=\"color: #7fbfbf; text-decoration-color: #7fbfbf\">                    </span><span style=\"color: #d7af00; text-decoration-color: #d7af00; font-weight: bold\">WARNING </span> Popping out <span style=\"color: #008700; text-decoration-color: #008700\">'ModelPackageName'</span> from the pipeline definition by        <a href=\"file:///home/ec2-user/anaconda3/envs/pytorch_p310/lib/python3.10/site-packages/sagemaker/workflow/utilities.py\" target=\"_blank\"><span style=\"color: #7f7f7f; text-decoration-color: #7f7f7f\">utilities.py</span></a><span style=\"color: #7f7f7f; text-decoration-color: #7f7f7f\">:</span><a href=\"file:///home/ec2-user/anaconda3/envs/pytorch_p310/lib/python3.10/site-packages/sagemaker/workflow/utilities.py#465\" target=\"_blank\"><span style=\"color: #7f7f7f; text-decoration-color: #7f7f7f\">465</span></a>\n",
       "<span style=\"color: #7fbfbf; text-decoration-color: #7fbfbf\">                    </span>         default since it will be overridden at pipeline execution time.       <span style=\"color: #7f7f7f; text-decoration-color: #7f7f7f\">                </span>\n",
       "<span style=\"color: #7fbfbf; text-decoration-color: #7fbfbf\">                    </span>         Please utilize the PipelineDefinitionConfig to persist this field in  <span style=\"color: #7f7f7f; text-decoration-color: #7f7f7f\">                </span>\n",
       "<span style=\"color: #7fbfbf; text-decoration-color: #7fbfbf\">                    </span>         the pipeline definition if desired.                                   <span style=\"color: #7f7f7f; text-decoration-color: #7f7f7f\">                </span>\n",
       "</pre>\n"
      ],
      "text/plain": [
       "\u001b[2;36m                   \u001b[0m\u001b[2;36m \u001b[0m\u001b[1;38;2;215;175;0mWARNING \u001b[0m Popping out \u001b[38;2;0;135;0m'ModelPackageName'\u001b[0m from the pipeline definition by        \u001b]8;id=448779;file:///home/ec2-user/anaconda3/envs/pytorch_p310/lib/python3.10/site-packages/sagemaker/workflow/utilities.py\u001b\\\u001b[2mutilities.py\u001b[0m\u001b]8;;\u001b\\\u001b[2m:\u001b[0m\u001b]8;id=915385;file:///home/ec2-user/anaconda3/envs/pytorch_p310/lib/python3.10/site-packages/sagemaker/workflow/utilities.py#465\u001b\\\u001b[2m465\u001b[0m\u001b]8;;\u001b\\\n",
       "\u001b[2;36m                    \u001b[0m         default since it will be overridden at pipeline execution time.       \u001b[2m                \u001b[0m\n",
       "\u001b[2;36m                    \u001b[0m         Please utilize the PipelineDefinitionConfig to persist this field in  \u001b[2m                \u001b[0m\n",
       "\u001b[2;36m                    \u001b[0m         the pipeline definition if desired.                                   \u001b[2m                \u001b[0m\n"
      ]
     },
     "metadata": {},
     "output_type": "display_data"
    },
    {
     "data": {
      "text/html": [
       "<pre style=\"white-space:pre;overflow-x:auto;line-height:normal;font-family:Menlo,'DejaVu Sans Mono',consolas,'Courier New',monospace\"><span style=\"color: #7fbfbf; text-decoration-color: #7fbfbf\">                    </span><span style=\"color: #0069ff; text-decoration-color: #0069ff; font-weight: bold\">INFO    </span> Uploaded src/deploy/ to                                             <a href=\"file:///home/ec2-user/anaconda3/envs/pytorch_p310/lib/python3.10/site-packages/sagemaker/processing.py\" target=\"_blank\"><span style=\"color: #7f7f7f; text-decoration-color: #7f7f7f\">processing.py</span></a><span style=\"color: #7f7f7f; text-decoration-color: #7f7f7f\">:</span><a href=\"file:///home/ec2-user/anaconda3/envs/pytorch_p310/lib/python3.10/site-packages/sagemaker/processing.py#1960\" target=\"_blank\"><span style=\"color: #7f7f7f; text-decoration-color: #7f7f7f\">1960</span></a>\n",
       "<span style=\"color: #7fbfbf; text-decoration-color: #7fbfbf\">                    </span>         s3:<span style=\"color: #e100e1; text-decoration-color: #e100e1\">//sagemaker-us-west-2-615299776985/DJ-SM-PIPELINE-RAPP/code/c2b8</span> <span style=\"color: #7f7f7f; text-decoration-color: #7f7f7f\">                  </span>\n",
       "<span style=\"color: #7fbfbf; text-decoration-color: #7fbfbf\">                    </span>         <span style=\"color: #e100e1; text-decoration-color: #e100e1\">3097fe97d3fa1b976b500b4969e4ee8270fa4c427dda29697ecec712863e/source</span> <span style=\"color: #7f7f7f; text-decoration-color: #7f7f7f\">                  </span>\n",
       "<span style=\"color: #7fbfbf; text-decoration-color: #7fbfbf\">                    </span>         <span style=\"color: #e100e1; text-decoration-color: #e100e1\">dir.tar.gz</span>                                                          <span style=\"color: #7f7f7f; text-decoration-color: #7f7f7f\">                  </span>\n",
       "</pre>\n"
      ],
      "text/plain": [
       "\u001b[2;36m                   \u001b[0m\u001b[2;36m \u001b[0m\u001b[1;38;2;0;105;255mINFO    \u001b[0m Uploaded src/deploy/ to                                             \u001b]8;id=339320;file:///home/ec2-user/anaconda3/envs/pytorch_p310/lib/python3.10/site-packages/sagemaker/processing.py\u001b\\\u001b[2mprocessing.py\u001b[0m\u001b]8;;\u001b\\\u001b[2m:\u001b[0m\u001b]8;id=305012;file:///home/ec2-user/anaconda3/envs/pytorch_p310/lib/python3.10/site-packages/sagemaker/processing.py#1960\u001b\\\u001b[2m1960\u001b[0m\u001b]8;;\u001b\\\n",
       "\u001b[2;36m                    \u001b[0m         s3:\u001b[38;2;225;0;225m/\u001b[0m\u001b[38;2;225;0;225m/sagemaker-us-west-2-615299776985/DJ-SM-PIPELINE-RAPP/code/c2b8\u001b[0m \u001b[2m                  \u001b[0m\n",
       "\u001b[2;36m                    \u001b[0m         \u001b[38;2;225;0;225m3097fe97d3fa1b976b500b4969e4ee8270fa4c427dda29697ecec712863e/\u001b[0m\u001b[38;2;225;0;225msource\u001b[0m \u001b[2m                  \u001b[0m\n",
       "\u001b[2;36m                    \u001b[0m         \u001b[38;2;225;0;225mdir.tar.gz\u001b[0m                                                          \u001b[2m                  \u001b[0m\n"
      ]
     },
     "metadata": {},
     "output_type": "display_data"
    },
    {
     "data": {
      "text/html": [
       "<pre style=\"white-space:pre;overflow-x:auto;line-height:normal;font-family:Menlo,'DejaVu Sans Mono',consolas,'Courier New',monospace\"><span style=\"color: #7fbfbf; text-decoration-color: #7fbfbf\">                    </span><span style=\"color: #0069ff; text-decoration-color: #0069ff; font-weight: bold\">INFO    </span> runproc.sh uploaded to                                              <a href=\"file:///home/ec2-user/anaconda3/envs/pytorch_p310/lib/python3.10/site-packages/sagemaker/processing.py\" target=\"_blank\"><span style=\"color: #7f7f7f; text-decoration-color: #7f7f7f\">processing.py</span></a><span style=\"color: #7f7f7f; text-decoration-color: #7f7f7f\">:</span><a href=\"file:///home/ec2-user/anaconda3/envs/pytorch_p310/lib/python3.10/site-packages/sagemaker/processing.py#2054\" target=\"_blank\"><span style=\"color: #7f7f7f; text-decoration-color: #7f7f7f\">2054</span></a>\n",
       "<span style=\"color: #7fbfbf; text-decoration-color: #7fbfbf\">                    </span>         s3:<span style=\"color: #e100e1; text-decoration-color: #e100e1\">//sagemaker-us-west-2-615299776985/DJ-SM-PIPELINE-RAPP/code/85bc</span> <span style=\"color: #7f7f7f; text-decoration-color: #7f7f7f\">                  </span>\n",
       "<span style=\"color: #7fbfbf; text-decoration-color: #7fbfbf\">                    </span>         <span style=\"color: #e100e1; text-decoration-color: #e100e1\">289a20f19a41a804712262cdbfea0dc439d84425deaf4f38f05d578fe701/runpro</span> <span style=\"color: #7f7f7f; text-decoration-color: #7f7f7f\">                  </span>\n",
       "<span style=\"color: #7fbfbf; text-decoration-color: #7fbfbf\">                    </span>         <span style=\"color: #e100e1; text-decoration-color: #e100e1\">c.sh</span>                                                                <span style=\"color: #7f7f7f; text-decoration-color: #7f7f7f\">                  </span>\n",
       "</pre>\n"
      ],
      "text/plain": [
       "\u001b[2;36m                   \u001b[0m\u001b[2;36m \u001b[0m\u001b[1;38;2;0;105;255mINFO    \u001b[0m runproc.sh uploaded to                                              \u001b]8;id=714326;file:///home/ec2-user/anaconda3/envs/pytorch_p310/lib/python3.10/site-packages/sagemaker/processing.py\u001b\\\u001b[2mprocessing.py\u001b[0m\u001b]8;;\u001b\\\u001b[2m:\u001b[0m\u001b]8;id=51944;file:///home/ec2-user/anaconda3/envs/pytorch_p310/lib/python3.10/site-packages/sagemaker/processing.py#2054\u001b\\\u001b[2m2054\u001b[0m\u001b]8;;\u001b\\\n",
       "\u001b[2;36m                    \u001b[0m         s3:\u001b[38;2;225;0;225m/\u001b[0m\u001b[38;2;225;0;225m/sagemaker-us-west-2-615299776985/DJ-SM-PIPELINE-RAPP/code/85bc\u001b[0m \u001b[2m                  \u001b[0m\n",
       "\u001b[2;36m                    \u001b[0m         \u001b[38;2;225;0;225m289a20f19a41a804712262cdbfea0dc439d84425deaf4f38f05d578fe701/\u001b[0m\u001b[38;2;225;0;225mrunpro\u001b[0m \u001b[2m                  \u001b[0m\n",
       "\u001b[2;36m                    \u001b[0m         \u001b[38;2;225;0;225mc.sh\u001b[0m                                                                \u001b[2m                  \u001b[0m\n"
      ]
     },
     "metadata": {},
     "output_type": "display_data"
    },
    {
     "data": {
      "text/html": [
       "<pre style=\"white-space:pre;overflow-x:auto;line-height:normal;font-family:Menlo,'DejaVu Sans Mono',consolas,'Courier New',monospace\"><span style=\"color: #7fbfbf; text-decoration-color: #7fbfbf\">                    </span><span style=\"color: #d7af00; text-decoration-color: #d7af00; font-weight: bold\">WARNING </span> Popping out <span style=\"color: #008700; text-decoration-color: #008700\">'ProcessingJobName'</span> from the pipeline definition by       <a href=\"file:///home/ec2-user/anaconda3/envs/pytorch_p310/lib/python3.10/site-packages/sagemaker/workflow/utilities.py\" target=\"_blank\"><span style=\"color: #7f7f7f; text-decoration-color: #7f7f7f\">utilities.py</span></a><span style=\"color: #7f7f7f; text-decoration-color: #7f7f7f\">:</span><a href=\"file:///home/ec2-user/anaconda3/envs/pytorch_p310/lib/python3.10/site-packages/sagemaker/workflow/utilities.py#465\" target=\"_blank\"><span style=\"color: #7f7f7f; text-decoration-color: #7f7f7f\">465</span></a>\n",
       "<span style=\"color: #7fbfbf; text-decoration-color: #7fbfbf\">                    </span>         default since it will be overridden at pipeline execution time.       <span style=\"color: #7f7f7f; text-decoration-color: #7f7f7f\">                </span>\n",
       "<span style=\"color: #7fbfbf; text-decoration-color: #7fbfbf\">                    </span>         Please utilize the PipelineDefinitionConfig to persist this field in  <span style=\"color: #7f7f7f; text-decoration-color: #7f7f7f\">                </span>\n",
       "<span style=\"color: #7fbfbf; text-decoration-color: #7fbfbf\">                    </span>         the pipeline definition if desired.                                   <span style=\"color: #7f7f7f; text-decoration-color: #7f7f7f\">                </span>\n",
       "</pre>\n"
      ],
      "text/plain": [
       "\u001b[2;36m                   \u001b[0m\u001b[2;36m \u001b[0m\u001b[1;38;2;215;175;0mWARNING \u001b[0m Popping out \u001b[38;2;0;135;0m'ProcessingJobName'\u001b[0m from the pipeline definition by       \u001b]8;id=943706;file:///home/ec2-user/anaconda3/envs/pytorch_p310/lib/python3.10/site-packages/sagemaker/workflow/utilities.py\u001b\\\u001b[2mutilities.py\u001b[0m\u001b]8;;\u001b\\\u001b[2m:\u001b[0m\u001b]8;id=230022;file:///home/ec2-user/anaconda3/envs/pytorch_p310/lib/python3.10/site-packages/sagemaker/workflow/utilities.py#465\u001b\\\u001b[2m465\u001b[0m\u001b]8;;\u001b\\\n",
       "\u001b[2;36m                    \u001b[0m         default since it will be overridden at pipeline execution time.       \u001b[2m                \u001b[0m\n",
       "\u001b[2;36m                    \u001b[0m         Please utilize the PipelineDefinitionConfig to persist this field in  \u001b[2m                \u001b[0m\n",
       "\u001b[2;36m                    \u001b[0m         the pipeline definition if desired.                                   \u001b[2m                \u001b[0m\n"
      ]
     },
     "metadata": {},
     "output_type": "display_data"
    },
    {
     "data": {
      "text/html": [
       "<pre style=\"white-space:pre;overflow-x:auto;line-height:normal;font-family:Menlo,'DejaVu Sans Mono',consolas,'Courier New',monospace\"><span style=\"color: #7fbfbf; text-decoration-color: #7fbfbf\">[06/06/25 12:52:40] </span><span style=\"color: #0069ff; text-decoration-color: #0069ff; font-weight: bold\">INFO    </span> Uploaded .<span style=\"color: #e100e1; text-decoration-color: #e100e1\">/src/preprocessing</span> to                                     <a href=\"file:///home/ec2-user/anaconda3/envs/pytorch_p310/lib/python3.10/site-packages/sagemaker/processing.py\" target=\"_blank\"><span style=\"color: #7f7f7f; text-decoration-color: #7f7f7f\">processing.py</span></a><span style=\"color: #7f7f7f; text-decoration-color: #7f7f7f\">:</span><a href=\"file:///home/ec2-user/anaconda3/envs/pytorch_p310/lib/python3.10/site-packages/sagemaker/processing.py#1960\" target=\"_blank\"><span style=\"color: #7f7f7f; text-decoration-color: #7f7f7f\">1960</span></a>\n",
       "<span style=\"color: #7fbfbf; text-decoration-color: #7fbfbf\">                    </span>         s3:<span style=\"color: #e100e1; text-decoration-color: #e100e1\">//sagemaker-us-west-2-615299776985/DJ-SM-PIPELINE-RAPP/code/6da2</span> <span style=\"color: #7f7f7f; text-decoration-color: #7f7f7f\">                  </span>\n",
       "<span style=\"color: #7fbfbf; text-decoration-color: #7fbfbf\">                    </span>         <span style=\"color: #e100e1; text-decoration-color: #e100e1\">cfa6ac24bec58fdf3106ad01b7c4dde03f4ee384c55b91861c39e01d01d4/source</span> <span style=\"color: #7f7f7f; text-decoration-color: #7f7f7f\">                  </span>\n",
       "<span style=\"color: #7fbfbf; text-decoration-color: #7fbfbf\">                    </span>         <span style=\"color: #e100e1; text-decoration-color: #e100e1\">dir.tar.gz</span>                                                          <span style=\"color: #7f7f7f; text-decoration-color: #7f7f7f\">                  </span>\n",
       "</pre>\n"
      ],
      "text/plain": [
       "\u001b[2;36m[06/06/25 12:52:40]\u001b[0m\u001b[2;36m \u001b[0m\u001b[1;38;2;0;105;255mINFO    \u001b[0m Uploaded .\u001b[38;2;225;0;225m/src/\u001b[0m\u001b[38;2;225;0;225mpreprocessing\u001b[0m to                                     \u001b]8;id=572112;file:///home/ec2-user/anaconda3/envs/pytorch_p310/lib/python3.10/site-packages/sagemaker/processing.py\u001b\\\u001b[2mprocessing.py\u001b[0m\u001b]8;;\u001b\\\u001b[2m:\u001b[0m\u001b]8;id=409241;file:///home/ec2-user/anaconda3/envs/pytorch_p310/lib/python3.10/site-packages/sagemaker/processing.py#1960\u001b\\\u001b[2m1960\u001b[0m\u001b]8;;\u001b\\\n",
       "\u001b[2;36m                    \u001b[0m         s3:\u001b[38;2;225;0;225m/\u001b[0m\u001b[38;2;225;0;225m/sagemaker-us-west-2-615299776985/DJ-SM-PIPELINE-RAPP/code/6da2\u001b[0m \u001b[2m                  \u001b[0m\n",
       "\u001b[2;36m                    \u001b[0m         \u001b[38;2;225;0;225mcfa6ac24bec58fdf3106ad01b7c4dde03f4ee384c55b91861c39e01d01d4/\u001b[0m\u001b[38;2;225;0;225msource\u001b[0m \u001b[2m                  \u001b[0m\n",
       "\u001b[2;36m                    \u001b[0m         \u001b[38;2;225;0;225mdir.tar.gz\u001b[0m                                                          \u001b[2m                  \u001b[0m\n"
      ]
     },
     "metadata": {},
     "output_type": "display_data"
    },
    {
     "data": {
      "text/html": [
       "<pre style=\"white-space:pre;overflow-x:auto;line-height:normal;font-family:Menlo,'DejaVu Sans Mono',consolas,'Courier New',monospace\"><span style=\"color: #7fbfbf; text-decoration-color: #7fbfbf\">                    </span><span style=\"color: #0069ff; text-decoration-color: #0069ff; font-weight: bold\">INFO    </span> runproc.sh uploaded to                                              <a href=\"file:///home/ec2-user/anaconda3/envs/pytorch_p310/lib/python3.10/site-packages/sagemaker/processing.py\" target=\"_blank\"><span style=\"color: #7f7f7f; text-decoration-color: #7f7f7f\">processing.py</span></a><span style=\"color: #7f7f7f; text-decoration-color: #7f7f7f\">:</span><a href=\"file:///home/ec2-user/anaconda3/envs/pytorch_p310/lib/python3.10/site-packages/sagemaker/processing.py#2054\" target=\"_blank\"><span style=\"color: #7f7f7f; text-decoration-color: #7f7f7f\">2054</span></a>\n",
       "<span style=\"color: #7fbfbf; text-decoration-color: #7fbfbf\">                    </span>         s3:<span style=\"color: #e100e1; text-decoration-color: #e100e1\">//sagemaker-us-west-2-615299776985/DJ-SM-PIPELINE-RAPP/code/b28c</span> <span style=\"color: #7f7f7f; text-decoration-color: #7f7f7f\">                  </span>\n",
       "<span style=\"color: #7fbfbf; text-decoration-color: #7fbfbf\">                    </span>         <span style=\"color: #e100e1; text-decoration-color: #e100e1\">3492a1fdb12268ebe494a3cb6c6f9bcba8ab9ad4a1192a7b70633ff43934/runpro</span> <span style=\"color: #7f7f7f; text-decoration-color: #7f7f7f\">                  </span>\n",
       "<span style=\"color: #7fbfbf; text-decoration-color: #7fbfbf\">                    </span>         <span style=\"color: #e100e1; text-decoration-color: #e100e1\">c.sh</span>                                                                <span style=\"color: #7f7f7f; text-decoration-color: #7f7f7f\">                  </span>\n",
       "</pre>\n"
      ],
      "text/plain": [
       "\u001b[2;36m                   \u001b[0m\u001b[2;36m \u001b[0m\u001b[1;38;2;0;105;255mINFO    \u001b[0m runproc.sh uploaded to                                              \u001b]8;id=66728;file:///home/ec2-user/anaconda3/envs/pytorch_p310/lib/python3.10/site-packages/sagemaker/processing.py\u001b\\\u001b[2mprocessing.py\u001b[0m\u001b]8;;\u001b\\\u001b[2m:\u001b[0m\u001b]8;id=2182;file:///home/ec2-user/anaconda3/envs/pytorch_p310/lib/python3.10/site-packages/sagemaker/processing.py#2054\u001b\\\u001b[2m2054\u001b[0m\u001b]8;;\u001b\\\n",
       "\u001b[2;36m                    \u001b[0m         s3:\u001b[38;2;225;0;225m/\u001b[0m\u001b[38;2;225;0;225m/sagemaker-us-west-2-615299776985/DJ-SM-PIPELINE-RAPP/code/b28c\u001b[0m \u001b[2m                  \u001b[0m\n",
       "\u001b[2;36m                    \u001b[0m         \u001b[38;2;225;0;225m3492a1fdb12268ebe494a3cb6c6f9bcba8ab9ad4a1192a7b70633ff43934/\u001b[0m\u001b[38;2;225;0;225mrunpro\u001b[0m \u001b[2m                  \u001b[0m\n",
       "\u001b[2;36m                    \u001b[0m         \u001b[38;2;225;0;225mc.sh\u001b[0m                                                                \u001b[2m                  \u001b[0m\n"
      ]
     },
     "metadata": {},
     "output_type": "display_data"
    },
    {
     "data": {
      "text/html": [
       "<pre style=\"white-space:pre;overflow-x:auto;line-height:normal;font-family:Menlo,'DejaVu Sans Mono',consolas,'Courier New',monospace\"><span style=\"color: #7fbfbf; text-decoration-color: #7fbfbf\">                    </span><span style=\"color: #d7af00; text-decoration-color: #d7af00; font-weight: bold\">WARNING </span> Popping out <span style=\"color: #008700; text-decoration-color: #008700\">'ProcessingJobName'</span> from the pipeline definition by       <a href=\"file:///home/ec2-user/anaconda3/envs/pytorch_p310/lib/python3.10/site-packages/sagemaker/workflow/utilities.py\" target=\"_blank\"><span style=\"color: #7f7f7f; text-decoration-color: #7f7f7f\">utilities.py</span></a><span style=\"color: #7f7f7f; text-decoration-color: #7f7f7f\">:</span><a href=\"file:///home/ec2-user/anaconda3/envs/pytorch_p310/lib/python3.10/site-packages/sagemaker/workflow/utilities.py#465\" target=\"_blank\"><span style=\"color: #7f7f7f; text-decoration-color: #7f7f7f\">465</span></a>\n",
       "<span style=\"color: #7fbfbf; text-decoration-color: #7fbfbf\">                    </span>         default since it will be overridden at pipeline execution time.       <span style=\"color: #7f7f7f; text-decoration-color: #7f7f7f\">                </span>\n",
       "<span style=\"color: #7fbfbf; text-decoration-color: #7fbfbf\">                    </span>         Please utilize the PipelineDefinitionConfig to persist this field in  <span style=\"color: #7f7f7f; text-decoration-color: #7f7f7f\">                </span>\n",
       "<span style=\"color: #7fbfbf; text-decoration-color: #7fbfbf\">                    </span>         the pipeline definition if desired.                                   <span style=\"color: #7f7f7f; text-decoration-color: #7f7f7f\">                </span>\n",
       "</pre>\n"
      ],
      "text/plain": [
       "\u001b[2;36m                   \u001b[0m\u001b[2;36m \u001b[0m\u001b[1;38;2;215;175;0mWARNING \u001b[0m Popping out \u001b[38;2;0;135;0m'ProcessingJobName'\u001b[0m from the pipeline definition by       \u001b]8;id=865038;file:///home/ec2-user/anaconda3/envs/pytorch_p310/lib/python3.10/site-packages/sagemaker/workflow/utilities.py\u001b\\\u001b[2mutilities.py\u001b[0m\u001b]8;;\u001b\\\u001b[2m:\u001b[0m\u001b]8;id=829332;file:///home/ec2-user/anaconda3/envs/pytorch_p310/lib/python3.10/site-packages/sagemaker/workflow/utilities.py#465\u001b\\\u001b[2m465\u001b[0m\u001b]8;;\u001b\\\n",
       "\u001b[2;36m                    \u001b[0m         default since it will be overridden at pipeline execution time.       \u001b[2m                \u001b[0m\n",
       "\u001b[2;36m                    \u001b[0m         Please utilize the PipelineDefinitionConfig to persist this field in  \u001b[2m                \u001b[0m\n",
       "\u001b[2;36m                    \u001b[0m         the pipeline definition if desired.                                   \u001b[2m                \u001b[0m\n"
      ]
     },
     "metadata": {},
     "output_type": "display_data"
    },
    {
     "data": {
      "text/html": [
       "<pre style=\"white-space:pre;overflow-x:auto;line-height:normal;font-family:Menlo,'DejaVu Sans Mono',consolas,'Courier New',monospace\"><span style=\"color: #7fbfbf; text-decoration-color: #7fbfbf\">                    </span><span style=\"color: #d7af00; text-decoration-color: #d7af00; font-weight: bold\">WARNING </span> Popping out <span style=\"color: #008700; text-decoration-color: #008700\">'TrainingJobName'</span> from the pipeline definition by default <a href=\"file:///home/ec2-user/anaconda3/envs/pytorch_p310/lib/python3.10/site-packages/sagemaker/workflow/utilities.py\" target=\"_blank\"><span style=\"color: #7f7f7f; text-decoration-color: #7f7f7f\">utilities.py</span></a><span style=\"color: #7f7f7f; text-decoration-color: #7f7f7f\">:</span><a href=\"file:///home/ec2-user/anaconda3/envs/pytorch_p310/lib/python3.10/site-packages/sagemaker/workflow/utilities.py#465\" target=\"_blank\"><span style=\"color: #7f7f7f; text-decoration-color: #7f7f7f\">465</span></a>\n",
       "<span style=\"color: #7fbfbf; text-decoration-color: #7fbfbf\">                    </span>         since it will be overridden at pipeline execution time. Please        <span style=\"color: #7f7f7f; text-decoration-color: #7f7f7f\">                </span>\n",
       "<span style=\"color: #7fbfbf; text-decoration-color: #7fbfbf\">                    </span>         utilize the PipelineDefinitionConfig to persist this field in the     <span style=\"color: #7f7f7f; text-decoration-color: #7f7f7f\">                </span>\n",
       "<span style=\"color: #7fbfbf; text-decoration-color: #7fbfbf\">                    </span>         pipeline definition if desired.                                       <span style=\"color: #7f7f7f; text-decoration-color: #7f7f7f\">                </span>\n",
       "</pre>\n"
      ],
      "text/plain": [
       "\u001b[2;36m                   \u001b[0m\u001b[2;36m \u001b[0m\u001b[1;38;2;215;175;0mWARNING \u001b[0m Popping out \u001b[38;2;0;135;0m'TrainingJobName'\u001b[0m from the pipeline definition by default \u001b]8;id=538920;file:///home/ec2-user/anaconda3/envs/pytorch_p310/lib/python3.10/site-packages/sagemaker/workflow/utilities.py\u001b\\\u001b[2mutilities.py\u001b[0m\u001b]8;;\u001b\\\u001b[2m:\u001b[0m\u001b]8;id=134586;file:///home/ec2-user/anaconda3/envs/pytorch_p310/lib/python3.10/site-packages/sagemaker/workflow/utilities.py#465\u001b\\\u001b[2m465\u001b[0m\u001b]8;;\u001b\\\n",
       "\u001b[2;36m                    \u001b[0m         since it will be overridden at pipeline execution time. Please        \u001b[2m                \u001b[0m\n",
       "\u001b[2;36m                    \u001b[0m         utilize the PipelineDefinitionConfig to persist this field in the     \u001b[2m                \u001b[0m\n",
       "\u001b[2;36m                    \u001b[0m         pipeline definition if desired.                                       \u001b[2m                \u001b[0m\n"
      ]
     },
     "metadata": {},
     "output_type": "display_data"
    },
    {
     "data": {
      "text/html": [
       "<pre style=\"white-space:pre;overflow-x:auto;line-height:normal;font-family:Menlo,'DejaVu Sans Mono',consolas,'Courier New',monospace\"><span style=\"color: #7fbfbf; text-decoration-color: #7fbfbf\">                    </span><span style=\"color: #0069ff; text-decoration-color: #0069ff; font-weight: bold\">INFO    </span> Uploaded .<span style=\"color: #e100e1; text-decoration-color: #e100e1\">/src/evaluation</span> to                                        <a href=\"file:///home/ec2-user/anaconda3/envs/pytorch_p310/lib/python3.10/site-packages/sagemaker/processing.py\" target=\"_blank\"><span style=\"color: #7f7f7f; text-decoration-color: #7f7f7f\">processing.py</span></a><span style=\"color: #7f7f7f; text-decoration-color: #7f7f7f\">:</span><a href=\"file:///home/ec2-user/anaconda3/envs/pytorch_p310/lib/python3.10/site-packages/sagemaker/processing.py#1960\" target=\"_blank\"><span style=\"color: #7f7f7f; text-decoration-color: #7f7f7f\">1960</span></a>\n",
       "<span style=\"color: #7fbfbf; text-decoration-color: #7fbfbf\">                    </span>         s3:<span style=\"color: #e100e1; text-decoration-color: #e100e1\">//sagemaker-us-west-2-615299776985/DJ-SM-PIPELINE-RAPP/code/f192</span> <span style=\"color: #7f7f7f; text-decoration-color: #7f7f7f\">                  </span>\n",
       "<span style=\"color: #7fbfbf; text-decoration-color: #7fbfbf\">                    </span>         <span style=\"color: #e100e1; text-decoration-color: #e100e1\">0b9423f4d52aa9e99ccae97cc349fe296d8bdc6ba62397368b245f7aab21/source</span> <span style=\"color: #7f7f7f; text-decoration-color: #7f7f7f\">                  </span>\n",
       "<span style=\"color: #7fbfbf; text-decoration-color: #7fbfbf\">                    </span>         <span style=\"color: #e100e1; text-decoration-color: #e100e1\">dir.tar.gz</span>                                                          <span style=\"color: #7f7f7f; text-decoration-color: #7f7f7f\">                  </span>\n",
       "</pre>\n"
      ],
      "text/plain": [
       "\u001b[2;36m                   \u001b[0m\u001b[2;36m \u001b[0m\u001b[1;38;2;0;105;255mINFO    \u001b[0m Uploaded .\u001b[38;2;225;0;225m/src/\u001b[0m\u001b[38;2;225;0;225mevaluation\u001b[0m to                                        \u001b]8;id=170933;file:///home/ec2-user/anaconda3/envs/pytorch_p310/lib/python3.10/site-packages/sagemaker/processing.py\u001b\\\u001b[2mprocessing.py\u001b[0m\u001b]8;;\u001b\\\u001b[2m:\u001b[0m\u001b]8;id=256106;file:///home/ec2-user/anaconda3/envs/pytorch_p310/lib/python3.10/site-packages/sagemaker/processing.py#1960\u001b\\\u001b[2m1960\u001b[0m\u001b]8;;\u001b\\\n",
       "\u001b[2;36m                    \u001b[0m         s3:\u001b[38;2;225;0;225m/\u001b[0m\u001b[38;2;225;0;225m/sagemaker-us-west-2-615299776985/DJ-SM-PIPELINE-RAPP/code/f192\u001b[0m \u001b[2m                  \u001b[0m\n",
       "\u001b[2;36m                    \u001b[0m         \u001b[38;2;225;0;225m0b9423f4d52aa9e99ccae97cc349fe296d8bdc6ba62397368b245f7aab21/\u001b[0m\u001b[38;2;225;0;225msource\u001b[0m \u001b[2m                  \u001b[0m\n",
       "\u001b[2;36m                    \u001b[0m         \u001b[38;2;225;0;225mdir.tar.gz\u001b[0m                                                          \u001b[2m                  \u001b[0m\n"
      ]
     },
     "metadata": {},
     "output_type": "display_data"
    },
    {
     "data": {
      "text/html": [
       "<pre style=\"white-space:pre;overflow-x:auto;line-height:normal;font-family:Menlo,'DejaVu Sans Mono',consolas,'Courier New',monospace\"><span style=\"color: #7fbfbf; text-decoration-color: #7fbfbf\">                    </span><span style=\"color: #0069ff; text-decoration-color: #0069ff; font-weight: bold\">INFO    </span> runproc.sh uploaded to                                              <a href=\"file:///home/ec2-user/anaconda3/envs/pytorch_p310/lib/python3.10/site-packages/sagemaker/processing.py\" target=\"_blank\"><span style=\"color: #7f7f7f; text-decoration-color: #7f7f7f\">processing.py</span></a><span style=\"color: #7f7f7f; text-decoration-color: #7f7f7f\">:</span><a href=\"file:///home/ec2-user/anaconda3/envs/pytorch_p310/lib/python3.10/site-packages/sagemaker/processing.py#2054\" target=\"_blank\"><span style=\"color: #7f7f7f; text-decoration-color: #7f7f7f\">2054</span></a>\n",
       "<span style=\"color: #7fbfbf; text-decoration-color: #7fbfbf\">                    </span>         s3:<span style=\"color: #e100e1; text-decoration-color: #e100e1\">//sagemaker-us-west-2-615299776985/DJ-SM-PIPELINE-RAPP/code/a64a</span> <span style=\"color: #7f7f7f; text-decoration-color: #7f7f7f\">                  </span>\n",
       "<span style=\"color: #7fbfbf; text-decoration-color: #7fbfbf\">                    </span>         <span style=\"color: #e100e1; text-decoration-color: #e100e1\">cb02d251e35739ee0d00bf26b7413054bca92c7dd767ef59835027cf1c9e/runpro</span> <span style=\"color: #7f7f7f; text-decoration-color: #7f7f7f\">                  </span>\n",
       "<span style=\"color: #7fbfbf; text-decoration-color: #7fbfbf\">                    </span>         <span style=\"color: #e100e1; text-decoration-color: #e100e1\">c.sh</span>                                                                <span style=\"color: #7f7f7f; text-decoration-color: #7f7f7f\">                  </span>\n",
       "</pre>\n"
      ],
      "text/plain": [
       "\u001b[2;36m                   \u001b[0m\u001b[2;36m \u001b[0m\u001b[1;38;2;0;105;255mINFO    \u001b[0m runproc.sh uploaded to                                              \u001b]8;id=626468;file:///home/ec2-user/anaconda3/envs/pytorch_p310/lib/python3.10/site-packages/sagemaker/processing.py\u001b\\\u001b[2mprocessing.py\u001b[0m\u001b]8;;\u001b\\\u001b[2m:\u001b[0m\u001b]8;id=973990;file:///home/ec2-user/anaconda3/envs/pytorch_p310/lib/python3.10/site-packages/sagemaker/processing.py#2054\u001b\\\u001b[2m2054\u001b[0m\u001b]8;;\u001b\\\n",
       "\u001b[2;36m                    \u001b[0m         s3:\u001b[38;2;225;0;225m/\u001b[0m\u001b[38;2;225;0;225m/sagemaker-us-west-2-615299776985/DJ-SM-PIPELINE-RAPP/code/a64a\u001b[0m \u001b[2m                  \u001b[0m\n",
       "\u001b[2;36m                    \u001b[0m         \u001b[38;2;225;0;225mcb02d251e35739ee0d00bf26b7413054bca92c7dd767ef59835027cf1c9e/\u001b[0m\u001b[38;2;225;0;225mrunpro\u001b[0m \u001b[2m                  \u001b[0m\n",
       "\u001b[2;36m                    \u001b[0m         \u001b[38;2;225;0;225mc.sh\u001b[0m                                                                \u001b[2m                  \u001b[0m\n"
      ]
     },
     "metadata": {},
     "output_type": "display_data"
    },
    {
     "data": {
      "text/html": [
       "<pre style=\"white-space:pre;overflow-x:auto;line-height:normal;font-family:Menlo,'DejaVu Sans Mono',consolas,'Courier New',monospace\"><span style=\"color: #7fbfbf; text-decoration-color: #7fbfbf\">                    </span><span style=\"color: #d7af00; text-decoration-color: #d7af00; font-weight: bold\">WARNING </span> Popping out <span style=\"color: #008700; text-decoration-color: #008700\">'ProcessingJobName'</span> from the pipeline definition by       <a href=\"file:///home/ec2-user/anaconda3/envs/pytorch_p310/lib/python3.10/site-packages/sagemaker/workflow/utilities.py\" target=\"_blank\"><span style=\"color: #7f7f7f; text-decoration-color: #7f7f7f\">utilities.py</span></a><span style=\"color: #7f7f7f; text-decoration-color: #7f7f7f\">:</span><a href=\"file:///home/ec2-user/anaconda3/envs/pytorch_p310/lib/python3.10/site-packages/sagemaker/workflow/utilities.py#465\" target=\"_blank\"><span style=\"color: #7f7f7f; text-decoration-color: #7f7f7f\">465</span></a>\n",
       "<span style=\"color: #7fbfbf; text-decoration-color: #7fbfbf\">                    </span>         default since it will be overridden at pipeline execution time.       <span style=\"color: #7f7f7f; text-decoration-color: #7f7f7f\">                </span>\n",
       "<span style=\"color: #7fbfbf; text-decoration-color: #7fbfbf\">                    </span>         Please utilize the PipelineDefinitionConfig to persist this field in  <span style=\"color: #7f7f7f; text-decoration-color: #7f7f7f\">                </span>\n",
       "<span style=\"color: #7fbfbf; text-decoration-color: #7fbfbf\">                    </span>         the pipeline definition if desired.                                   <span style=\"color: #7f7f7f; text-decoration-color: #7f7f7f\">                </span>\n",
       "</pre>\n"
      ],
      "text/plain": [
       "\u001b[2;36m                   \u001b[0m\u001b[2;36m \u001b[0m\u001b[1;38;2;215;175;0mWARNING \u001b[0m Popping out \u001b[38;2;0;135;0m'ProcessingJobName'\u001b[0m from the pipeline definition by       \u001b]8;id=140661;file:///home/ec2-user/anaconda3/envs/pytorch_p310/lib/python3.10/site-packages/sagemaker/workflow/utilities.py\u001b\\\u001b[2mutilities.py\u001b[0m\u001b]8;;\u001b\\\u001b[2m:\u001b[0m\u001b]8;id=107976;file:///home/ec2-user/anaconda3/envs/pytorch_p310/lib/python3.10/site-packages/sagemaker/workflow/utilities.py#465\u001b\\\u001b[2m465\u001b[0m\u001b]8;;\u001b\\\n",
       "\u001b[2;36m                    \u001b[0m         default since it will be overridden at pipeline execution time.       \u001b[2m                \u001b[0m\n",
       "\u001b[2;36m                    \u001b[0m         Please utilize the PipelineDefinitionConfig to persist this field in  \u001b[2m                \u001b[0m\n",
       "\u001b[2;36m                    \u001b[0m         the pipeline definition if desired.                                   \u001b[2m                \u001b[0m\n"
      ]
     },
     "metadata": {},
     "output_type": "display_data"
    },
    {
     "data": {
      "text/html": [
       "<pre style=\"white-space:pre;overflow-x:auto;line-height:normal;font-family:Menlo,'DejaVu Sans Mono',consolas,'Courier New',monospace\"><span style=\"color: #7fbfbf; text-decoration-color: #7fbfbf\">                    </span><span style=\"color: #d7af00; text-decoration-color: #d7af00; font-weight: bold\">WARNING </span> Popping out <span style=\"color: #008700; text-decoration-color: #008700\">'TrainingJobName'</span> from the pipeline definition by default <a href=\"file:///home/ec2-user/anaconda3/envs/pytorch_p310/lib/python3.10/site-packages/sagemaker/workflow/utilities.py\" target=\"_blank\"><span style=\"color: #7f7f7f; text-decoration-color: #7f7f7f\">utilities.py</span></a><span style=\"color: #7f7f7f; text-decoration-color: #7f7f7f\">:</span><a href=\"file:///home/ec2-user/anaconda3/envs/pytorch_p310/lib/python3.10/site-packages/sagemaker/workflow/utilities.py#465\" target=\"_blank\"><span style=\"color: #7f7f7f; text-decoration-color: #7f7f7f\">465</span></a>\n",
       "<span style=\"color: #7fbfbf; text-decoration-color: #7fbfbf\">                    </span>         since it will be overridden at pipeline execution time. Please        <span style=\"color: #7f7f7f; text-decoration-color: #7f7f7f\">                </span>\n",
       "<span style=\"color: #7fbfbf; text-decoration-color: #7fbfbf\">                    </span>         utilize the PipelineDefinitionConfig to persist this field in the     <span style=\"color: #7f7f7f; text-decoration-color: #7f7f7f\">                </span>\n",
       "<span style=\"color: #7fbfbf; text-decoration-color: #7fbfbf\">                    </span>         pipeline definition if desired.                                       <span style=\"color: #7f7f7f; text-decoration-color: #7f7f7f\">                </span>\n",
       "</pre>\n"
      ],
      "text/plain": [
       "\u001b[2;36m                   \u001b[0m\u001b[2;36m \u001b[0m\u001b[1;38;2;215;175;0mWARNING \u001b[0m Popping out \u001b[38;2;0;135;0m'TrainingJobName'\u001b[0m from the pipeline definition by default \u001b]8;id=691415;file:///home/ec2-user/anaconda3/envs/pytorch_p310/lib/python3.10/site-packages/sagemaker/workflow/utilities.py\u001b\\\u001b[2mutilities.py\u001b[0m\u001b]8;;\u001b\\\u001b[2m:\u001b[0m\u001b]8;id=611398;file:///home/ec2-user/anaconda3/envs/pytorch_p310/lib/python3.10/site-packages/sagemaker/workflow/utilities.py#465\u001b\\\u001b[2m465\u001b[0m\u001b]8;;\u001b\\\n",
       "\u001b[2;36m                    \u001b[0m         since it will be overridden at pipeline execution time. Please        \u001b[2m                \u001b[0m\n",
       "\u001b[2;36m                    \u001b[0m         utilize the PipelineDefinitionConfig to persist this field in the     \u001b[2m                \u001b[0m\n",
       "\u001b[2;36m                    \u001b[0m         pipeline definition if desired.                                       \u001b[2m                \u001b[0m\n"
      ]
     },
     "metadata": {},
     "output_type": "display_data"
    },
    {
     "data": {
      "text/html": [
       "<pre style=\"white-space:pre;overflow-x:auto;line-height:normal;font-family:Menlo,'DejaVu Sans Mono',consolas,'Courier New',monospace\"><span style=\"color: #7fbfbf; text-decoration-color: #7fbfbf\">                    </span><span style=\"color: #d7af00; text-decoration-color: #d7af00; font-weight: bold\">WARNING </span> Popping out <span style=\"color: #008700; text-decoration-color: #008700\">'ModelPackageName'</span> from the pipeline definition by        <a href=\"file:///home/ec2-user/anaconda3/envs/pytorch_p310/lib/python3.10/site-packages/sagemaker/workflow/utilities.py\" target=\"_blank\"><span style=\"color: #7f7f7f; text-decoration-color: #7f7f7f\">utilities.py</span></a><span style=\"color: #7f7f7f; text-decoration-color: #7f7f7f\">:</span><a href=\"file:///home/ec2-user/anaconda3/envs/pytorch_p310/lib/python3.10/site-packages/sagemaker/workflow/utilities.py#465\" target=\"_blank\"><span style=\"color: #7f7f7f; text-decoration-color: #7f7f7f\">465</span></a>\n",
       "<span style=\"color: #7fbfbf; text-decoration-color: #7fbfbf\">                    </span>         default since it will be overridden at pipeline execution time.       <span style=\"color: #7f7f7f; text-decoration-color: #7f7f7f\">                </span>\n",
       "<span style=\"color: #7fbfbf; text-decoration-color: #7fbfbf\">                    </span>         Please utilize the PipelineDefinitionConfig to persist this field in  <span style=\"color: #7f7f7f; text-decoration-color: #7f7f7f\">                </span>\n",
       "<span style=\"color: #7fbfbf; text-decoration-color: #7fbfbf\">                    </span>         the pipeline definition if desired.                                   <span style=\"color: #7f7f7f; text-decoration-color: #7f7f7f\">                </span>\n",
       "</pre>\n"
      ],
      "text/plain": [
       "\u001b[2;36m                   \u001b[0m\u001b[2;36m \u001b[0m\u001b[1;38;2;215;175;0mWARNING \u001b[0m Popping out \u001b[38;2;0;135;0m'ModelPackageName'\u001b[0m from the pipeline definition by        \u001b]8;id=136434;file:///home/ec2-user/anaconda3/envs/pytorch_p310/lib/python3.10/site-packages/sagemaker/workflow/utilities.py\u001b\\\u001b[2mutilities.py\u001b[0m\u001b]8;;\u001b\\\u001b[2m:\u001b[0m\u001b]8;id=223545;file:///home/ec2-user/anaconda3/envs/pytorch_p310/lib/python3.10/site-packages/sagemaker/workflow/utilities.py#465\u001b\\\u001b[2m465\u001b[0m\u001b]8;;\u001b\\\n",
       "\u001b[2;36m                    \u001b[0m         default since it will be overridden at pipeline execution time.       \u001b[2m                \u001b[0m\n",
       "\u001b[2;36m                    \u001b[0m         Please utilize the PipelineDefinitionConfig to persist this field in  \u001b[2m                \u001b[0m\n",
       "\u001b[2;36m                    \u001b[0m         the pipeline definition if desired.                                   \u001b[2m                \u001b[0m\n"
      ]
     },
     "metadata": {},
     "output_type": "display_data"
    },
    {
     "data": {
      "text/html": [
       "<pre style=\"white-space:pre;overflow-x:auto;line-height:normal;font-family:Menlo,'DejaVu Sans Mono',consolas,'Courier New',monospace\"><span style=\"color: #7fbfbf; text-decoration-color: #7fbfbf\">                    </span><span style=\"color: #0069ff; text-decoration-color: #0069ff; font-weight: bold\">INFO    </span> Uploaded src/deploy/ to                                             <a href=\"file:///home/ec2-user/anaconda3/envs/pytorch_p310/lib/python3.10/site-packages/sagemaker/processing.py\" target=\"_blank\"><span style=\"color: #7f7f7f; text-decoration-color: #7f7f7f\">processing.py</span></a><span style=\"color: #7f7f7f; text-decoration-color: #7f7f7f\">:</span><a href=\"file:///home/ec2-user/anaconda3/envs/pytorch_p310/lib/python3.10/site-packages/sagemaker/processing.py#1960\" target=\"_blank\"><span style=\"color: #7f7f7f; text-decoration-color: #7f7f7f\">1960</span></a>\n",
       "<span style=\"color: #7fbfbf; text-decoration-color: #7fbfbf\">                    </span>         s3:<span style=\"color: #e100e1; text-decoration-color: #e100e1\">//sagemaker-us-west-2-615299776985/DJ-SM-PIPELINE-RAPP/code/c2b8</span> <span style=\"color: #7f7f7f; text-decoration-color: #7f7f7f\">                  </span>\n",
       "<span style=\"color: #7fbfbf; text-decoration-color: #7fbfbf\">                    </span>         <span style=\"color: #e100e1; text-decoration-color: #e100e1\">3097fe97d3fa1b976b500b4969e4ee8270fa4c427dda29697ecec712863e/source</span> <span style=\"color: #7f7f7f; text-decoration-color: #7f7f7f\">                  </span>\n",
       "<span style=\"color: #7fbfbf; text-decoration-color: #7fbfbf\">                    </span>         <span style=\"color: #e100e1; text-decoration-color: #e100e1\">dir.tar.gz</span>                                                          <span style=\"color: #7f7f7f; text-decoration-color: #7f7f7f\">                  </span>\n",
       "</pre>\n"
      ],
      "text/plain": [
       "\u001b[2;36m                   \u001b[0m\u001b[2;36m \u001b[0m\u001b[1;38;2;0;105;255mINFO    \u001b[0m Uploaded src/deploy/ to                                             \u001b]8;id=707547;file:///home/ec2-user/anaconda3/envs/pytorch_p310/lib/python3.10/site-packages/sagemaker/processing.py\u001b\\\u001b[2mprocessing.py\u001b[0m\u001b]8;;\u001b\\\u001b[2m:\u001b[0m\u001b]8;id=563195;file:///home/ec2-user/anaconda3/envs/pytorch_p310/lib/python3.10/site-packages/sagemaker/processing.py#1960\u001b\\\u001b[2m1960\u001b[0m\u001b]8;;\u001b\\\n",
       "\u001b[2;36m                    \u001b[0m         s3:\u001b[38;2;225;0;225m/\u001b[0m\u001b[38;2;225;0;225m/sagemaker-us-west-2-615299776985/DJ-SM-PIPELINE-RAPP/code/c2b8\u001b[0m \u001b[2m                  \u001b[0m\n",
       "\u001b[2;36m                    \u001b[0m         \u001b[38;2;225;0;225m3097fe97d3fa1b976b500b4969e4ee8270fa4c427dda29697ecec712863e/\u001b[0m\u001b[38;2;225;0;225msource\u001b[0m \u001b[2m                  \u001b[0m\n",
       "\u001b[2;36m                    \u001b[0m         \u001b[38;2;225;0;225mdir.tar.gz\u001b[0m                                                          \u001b[2m                  \u001b[0m\n"
      ]
     },
     "metadata": {},
     "output_type": "display_data"
    },
    {
     "data": {
      "text/html": [
       "<pre style=\"white-space:pre;overflow-x:auto;line-height:normal;font-family:Menlo,'DejaVu Sans Mono',consolas,'Courier New',monospace\"><span style=\"color: #7fbfbf; text-decoration-color: #7fbfbf\">                    </span><span style=\"color: #0069ff; text-decoration-color: #0069ff; font-weight: bold\">INFO    </span> runproc.sh uploaded to                                              <a href=\"file:///home/ec2-user/anaconda3/envs/pytorch_p310/lib/python3.10/site-packages/sagemaker/processing.py\" target=\"_blank\"><span style=\"color: #7f7f7f; text-decoration-color: #7f7f7f\">processing.py</span></a><span style=\"color: #7f7f7f; text-decoration-color: #7f7f7f\">:</span><a href=\"file:///home/ec2-user/anaconda3/envs/pytorch_p310/lib/python3.10/site-packages/sagemaker/processing.py#2054\" target=\"_blank\"><span style=\"color: #7f7f7f; text-decoration-color: #7f7f7f\">2054</span></a>\n",
       "<span style=\"color: #7fbfbf; text-decoration-color: #7fbfbf\">                    </span>         s3:<span style=\"color: #e100e1; text-decoration-color: #e100e1\">//sagemaker-us-west-2-615299776985/DJ-SM-PIPELINE-RAPP/code/85bc</span> <span style=\"color: #7f7f7f; text-decoration-color: #7f7f7f\">                  </span>\n",
       "<span style=\"color: #7fbfbf; text-decoration-color: #7fbfbf\">                    </span>         <span style=\"color: #e100e1; text-decoration-color: #e100e1\">289a20f19a41a804712262cdbfea0dc439d84425deaf4f38f05d578fe701/runpro</span> <span style=\"color: #7f7f7f; text-decoration-color: #7f7f7f\">                  </span>\n",
       "<span style=\"color: #7fbfbf; text-decoration-color: #7fbfbf\">                    </span>         <span style=\"color: #e100e1; text-decoration-color: #e100e1\">c.sh</span>                                                                <span style=\"color: #7f7f7f; text-decoration-color: #7f7f7f\">                  </span>\n",
       "</pre>\n"
      ],
      "text/plain": [
       "\u001b[2;36m                   \u001b[0m\u001b[2;36m \u001b[0m\u001b[1;38;2;0;105;255mINFO    \u001b[0m runproc.sh uploaded to                                              \u001b]8;id=548825;file:///home/ec2-user/anaconda3/envs/pytorch_p310/lib/python3.10/site-packages/sagemaker/processing.py\u001b\\\u001b[2mprocessing.py\u001b[0m\u001b]8;;\u001b\\\u001b[2m:\u001b[0m\u001b]8;id=475649;file:///home/ec2-user/anaconda3/envs/pytorch_p310/lib/python3.10/site-packages/sagemaker/processing.py#2054\u001b\\\u001b[2m2054\u001b[0m\u001b]8;;\u001b\\\n",
       "\u001b[2;36m                    \u001b[0m         s3:\u001b[38;2;225;0;225m/\u001b[0m\u001b[38;2;225;0;225m/sagemaker-us-west-2-615299776985/DJ-SM-PIPELINE-RAPP/code/85bc\u001b[0m \u001b[2m                  \u001b[0m\n",
       "\u001b[2;36m                    \u001b[0m         \u001b[38;2;225;0;225m289a20f19a41a804712262cdbfea0dc439d84425deaf4f38f05d578fe701/\u001b[0m\u001b[38;2;225;0;225mrunpro\u001b[0m \u001b[2m                  \u001b[0m\n",
       "\u001b[2;36m                    \u001b[0m         \u001b[38;2;225;0;225mc.sh\u001b[0m                                                                \u001b[2m                  \u001b[0m\n"
      ]
     },
     "metadata": {},
     "output_type": "display_data"
    },
    {
     "data": {
      "text/html": [
       "<pre style=\"white-space:pre;overflow-x:auto;line-height:normal;font-family:Menlo,'DejaVu Sans Mono',consolas,'Courier New',monospace\"><span style=\"color: #7fbfbf; text-decoration-color: #7fbfbf\">                    </span><span style=\"color: #d7af00; text-decoration-color: #d7af00; font-weight: bold\">WARNING </span> Popping out <span style=\"color: #008700; text-decoration-color: #008700\">'ProcessingJobName'</span> from the pipeline definition by       <a href=\"file:///home/ec2-user/anaconda3/envs/pytorch_p310/lib/python3.10/site-packages/sagemaker/workflow/utilities.py\" target=\"_blank\"><span style=\"color: #7f7f7f; text-decoration-color: #7f7f7f\">utilities.py</span></a><span style=\"color: #7f7f7f; text-decoration-color: #7f7f7f\">:</span><a href=\"file:///home/ec2-user/anaconda3/envs/pytorch_p310/lib/python3.10/site-packages/sagemaker/workflow/utilities.py#465\" target=\"_blank\"><span style=\"color: #7f7f7f; text-decoration-color: #7f7f7f\">465</span></a>\n",
       "<span style=\"color: #7fbfbf; text-decoration-color: #7fbfbf\">                    </span>         default since it will be overridden at pipeline execution time.       <span style=\"color: #7f7f7f; text-decoration-color: #7f7f7f\">                </span>\n",
       "<span style=\"color: #7fbfbf; text-decoration-color: #7fbfbf\">                    </span>         Please utilize the PipelineDefinitionConfig to persist this field in  <span style=\"color: #7f7f7f; text-decoration-color: #7f7f7f\">                </span>\n",
       "<span style=\"color: #7fbfbf; text-decoration-color: #7fbfbf\">                    </span>         the pipeline definition if desired.                                   <span style=\"color: #7f7f7f; text-decoration-color: #7f7f7f\">                </span>\n",
       "</pre>\n"
      ],
      "text/plain": [
       "\u001b[2;36m                   \u001b[0m\u001b[2;36m \u001b[0m\u001b[1;38;2;215;175;0mWARNING \u001b[0m Popping out \u001b[38;2;0;135;0m'ProcessingJobName'\u001b[0m from the pipeline definition by       \u001b]8;id=429304;file:///home/ec2-user/anaconda3/envs/pytorch_p310/lib/python3.10/site-packages/sagemaker/workflow/utilities.py\u001b\\\u001b[2mutilities.py\u001b[0m\u001b]8;;\u001b\\\u001b[2m:\u001b[0m\u001b]8;id=971165;file:///home/ec2-user/anaconda3/envs/pytorch_p310/lib/python3.10/site-packages/sagemaker/workflow/utilities.py#465\u001b\\\u001b[2m465\u001b[0m\u001b]8;;\u001b\\\n",
       "\u001b[2;36m                    \u001b[0m         default since it will be overridden at pipeline execution time.       \u001b[2m                \u001b[0m\n",
       "\u001b[2;36m                    \u001b[0m         Please utilize the PipelineDefinitionConfig to persist this field in  \u001b[2m                \u001b[0m\n",
       "\u001b[2;36m                    \u001b[0m         the pipeline definition if desired.                                   \u001b[2m                \u001b[0m\n"
      ]
     },
     "metadata": {},
     "output_type": "display_data"
    },
    {
     "name": "stdout",
     "output_type": "stream",
     "text": [
      "PipelineArn:  arn:aws:sagemaker:us-west-2:615299776985:pipeline/DJ-SM-PIPELINE-RAPP\n",
      "{'PipelineArn': 'arn:aws:sagemaker:us-west-2:615299776985:pipeline/DJ-SM-PIPELINE-RAPP', 'PipelineExecutionArn': 'arn:aws:sagemaker:us-west-2:615299776985:pipeline/DJ-SM-PIPELINE-RAPP/execution/drekhgey82zn', 'PipelineExecutionDisplayName': 'execution-1749214360981', 'PipelineExecutionStatus': 'Executing', 'PipelineExperimentConfig': {'ExperimentName': 'dj-sm-pipeline-rapp', 'TrialName': 'drekhgey82zn'}, 'CreationTime': datetime.datetime(2025, 6, 6, 12, 52, 40, 883000, tzinfo=tzlocal()), 'LastModifiedTime': datetime.datetime(2025, 6, 6, 12, 52, 40, 883000, tzinfo=tzlocal()), 'CreatedBy': {'IamIdentity': {'Arn': 'arn:aws:sts::615299776985:assumed-role/AmazonSageMaker-ExecutionRole-20241014T132050/SageMaker', 'PrincipalId': 'AROAY6QVZQHM46BISOX35:SageMaker'}}, 'LastModifiedBy': {'IamIdentity': {'Arn': 'arn:aws:sts::615299776985:assumed-role/AmazonSageMaker-ExecutionRole-20241014T132050/SageMaker', 'PrincipalId': 'AROAY6QVZQHM46BISOX35:SageMaker'}}, 'ResponseMetadata': {'RequestId': '4d72ad86-c344-49e5-8e05-97f28ce9cfb3', 'HTTPStatusCode': 200, 'HTTPHeaders': {'x-amzn-requestid': '4d72ad86-c344-49e5-8e05-97f28ce9cfb3', 'content-type': 'application/x-amz-json-1.1', 'content-length': '830', 'date': 'Fri, 06 Jun 2025 12:52:41 GMT'}, 'RetryAttempts': 0}}\n"
     ]
    }
   ],
   "source": [
    "parser = argparse.ArgumentParser()\n",
    "args, _ = parser.parse_known_args()\n",
    "args.config = config_handler(strConfigPath=\"config.ini\")\n",
    "\n",
    "print(\"Received arguments {}\".format(args))\n",
    "os.environ['AWS_DEFAULT_REGION'] = args.config.get_value(\"COMMON\", \"region\")\n",
    "\n",
    "pipe_tr = mlops_pipeline(args)\n",
    "pipe_tr.execution()"
   ]
  },
  {
   "cell_type": "markdown",
   "id": "c1cf303c-21d5-4201-84d3-203d481e8ded",
   "metadata": {
    "tags": []
   },
   "source": [
    "<!-- 실제 Repack 구조 변화:\n",
    "원본 (훈련 후 생성된 model.tar.gz):\n",
    "model.tar.gz\n",
    "├── pytorch_model.bin          # 실제 모델 가중치\n",
    "├── config.json               # 모델 설정\n",
    "└── (기타 훈련 관련 파일들)\n",
    "Repack 후:\n",
    "model.tar.gz\n",
    "├── pytorch_model.bin          # 동일한 모델 파일\n",
    "├── config.json               # 동일한 설정\n",
    "├── inference.py              # 추가: 추론 코드\n",
    "├── requirements.txt          # 추가: 의존성\n",
    "├── .sagemaker-metadata       # 추가: SageMaker 메타데이터\n",
    "│   ├── model-config.json     # 모델 서빙 설정\n",
    "│   ├── input-schema.json     # 입력 스키마\n",
    "│   └── output-schema.json    # 출력 스키마\n",
    "└── code/                     # 추가: 코드 디렉토리 (선택적)\n",
    "    └── inference.py -->"
   ]
  },
  {
   "cell_type": "code",
   "execution_count": 92,
   "id": "2c95d07b-a616-4832-82e3-eed9deecf70d",
   "metadata": {
    "tags": []
   },
   "outputs": [
    {
     "data": {
      "text/plain": [
       "'\\n원본 (훈련 후 생성된 model.tar.gz):\\nmodel.tar.gz\\n├── pytorch_model.bin          # 실제 모델 가중치\\n├── config.json               # 모델 설정\\n└── (기타 훈련 관련 파일들)\\n\\nRepack 후:\\nmodel.tar.gz\\n├── pytorch_model.bin          # 동일한 모델 파일\\n├── config.json               # 동일한 설정\\n├── inference.py              # 추가: 추론 코드\\n├── requirements.txt          # 추가: 의존성\\n├── .sagemaker-metadata       # 추가: SageMaker 메타데이터\\n│   ├── model-config.json     # 모델 서빙 설정\\n│   ├── input-schema.json     # 입력 스키마\\n│   └── output-schema.json    # 출력 스키마\\n└── code/                     # 추가: 코드 디렉토리 (선택적)\\n    └── inference.py\\n'"
      ]
     },
     "execution_count": 92,
     "metadata": {},
     "output_type": "execute_result"
    }
   ],
   "source": [
    "'''\n",
    "원본 (훈련 후 생성된 model.tar.gz):\n",
    "model.tar.gz\n",
    "├── pytorch_model.bin          # 실제 모델 가중치\n",
    "├── config.json               # 모델 설정\n",
    "└── (기타 훈련 관련 파일들)\n",
    "\n",
    "Repack 후:\n",
    "model.tar.gz\n",
    "├── pytorch_model.bin          # 동일한 모델 파일\n",
    "├── config.json               # 동일한 설정\n",
    "├── inference.py              # 추가: 추론 코드\n",
    "├── requirements.txt          # 추가: 의존성\n",
    "├── .sagemaker-metadata       # 추가: SageMaker 메타데이터\n",
    "│   ├── model-config.json     # 모델 서빙 설정\n",
    "│   ├── input-schema.json     # 입력 스키마\n",
    "│   └── output-schema.json    # 출력 스키마\n",
    "└── code/                     # 추가: 코드 디렉토리 (선택적)\n",
    "    └── inference.py\n",
    "'''"
   ]
  },
  {
   "cell_type": "code",
   "execution_count": null,
   "id": "caa0437d-8139-4a30-b675-a78d994c8698",
   "metadata": {},
   "outputs": [],
   "source": []
  }
 ],
 "metadata": {
  "kernelspec": {
   "display_name": "conda_pytorch_p310",
   "language": "python",
   "name": "conda_pytorch_p310"
  },
  "language_info": {
   "codemirror_mode": {
    "name": "ipython",
    "version": 3
   },
   "file_extension": ".py",
   "mimetype": "text/x-python",
   "name": "python",
   "nbconvert_exporter": "python",
   "pygments_lexer": "ipython3",
   "version": "3.10.14"
  }
 },
 "nbformat": 4,
 "nbformat_minor": 5
}
