{
 "cells": [
  {
   "cell_type": "markdown",
   "id": "54f2aeb7-1c4b-46cd-a89f-b5933c53d529",
   "metadata": {
    "tags": []
   },
   "source": [
    "# <B> Create Custom Docker Image </B>\n",
    "* Container: codna_pytorch_p310"
   ]
  },
  {
   "cell_type": "markdown",
   "id": "8e773e3e-64e2-4d70-9b35-fbd7383c373a",
   "metadata": {},
   "source": [
    "## AutoReload"
   ]
  },
  {
   "cell_type": "code",
   "execution_count": null,
   "id": "1d48e85f-e535-4e49-b4ef-1ca0bf50028f",
   "metadata": {
    "tags": []
   },
   "outputs": [],
   "source": [
    "%load_ext autoreload\n",
    "%autoreload 2"
   ]
  },
  {
   "cell_type": "markdown",
   "id": "e5cda12b-c510-44d2-b3a2-3c82848c374e",
   "metadata": {},
   "source": [
    "## 1. For preprocessing"
   ]
  },
  {
   "cell_type": "code",
   "execution_count": null,
   "id": "3f7aeb25-db41-4b3b-8033-4312b9691c0a",
   "metadata": {
    "tags": []
   },
   "outputs": [],
   "source": [
    "import boto3\n",
    "from utils.ecr import ecr_handler"
   ]
  },
  {
   "cell_type": "code",
   "execution_count": null,
   "id": "883fc57f-f820-4cef-bb5d-052c08ebdf1a",
   "metadata": {
    "tags": []
   },
   "outputs": [],
   "source": [
    "ecr = ecr_handler()\n",
    "region = boto3.Session().region_name\n",
    "account_id = boto3.client(\"sts\").get_caller_identity().get(\"Account\")"
   ]
  },
  {
   "cell_type": "markdown",
   "id": "48bf1e82-0eba-4857-a1ae-891c65a653bc",
   "metadata": {},
   "source": [
    "### 1.1 Get base image uri"
   ]
  },
  {
   "cell_type": "code",
   "execution_count": null,
   "id": "2dd54be5-0080-4ebe-b424-57f407846da1",
   "metadata": {
    "tags": []
   },
   "outputs": [],
   "source": [
    "import sagemaker"
   ]
  },
  {
   "cell_type": "code",
   "execution_count": null,
   "id": "a22027cd-27bd-43f7-928a-91c3e4fbdc0f",
   "metadata": {
    "tags": []
   },
   "outputs": [],
   "source": [
    "base_image_uri = sagemaker.image_uris.retrieve(\n",
    "    framework=\"pytorch\",\n",
    "    version=\"2.1\",\n",
    "    region=region,\n",
    "    image_scope=\"training\",\n",
    "    instance_type=\"ml.g5.xlarge\"\n",
    ")\n",
    "\n",
    "print (f'base_image_uri: {base_image_uri}')"
   ]
  },
  {
   "cell_type": "code",
   "execution_count": null,
   "id": "3816a7d0-d8f7-472f-a502-3182e6a0a04b",
   "metadata": {
    "tags": []
   },
   "outputs": [],
   "source": [
    "%%writefile ./custom-docker/dockerfile-prep\n",
    "\n",
    "FROM 763104351884.dkr.ecr.us-west-2.amazonaws.com/pytorch-training:2.1-gpu-py310\n",
    "\n",
    "RUN pip install -U pip boto3 sagemaker\n",
    "\n",
    "COPY requirements.txt /opt/ml/packages/\n",
    "RUN pip install -r /opt/ml/packages/requirements.txt\n",
    "\n",
    "# 기본 환경변수\n",
    "ENV PYTHONUNBUFFERED=TRUE\n",
    "\n",
    "# Processing Job 환경변수\n",
    "ENV SM_INPUT_DIR=/opt/ml/processing/input\n",
    "ENV SM_OUTPUT_DIR=/opt/ml/processing/output"
   ]
  },
  {
   "cell_type": "code",
   "execution_count": null,
   "id": "10c991e0-35fb-4996-ac6e-0b483266193a",
   "metadata": {
    "tags": []
   },
   "outputs": [],
   "source": [
    "strRepositoryName=\"prep-docker-image\"  ## <-- 원하는 docker repostory 이름을 추가\n",
    "strRepositoryName = strRepositoryName.lower()\n",
    "strDockerFile = \"dockerfile-prep\"\n",
    "strDockerDir = \"./custom-docker/\"\n",
    "strTag = \"latest\""
   ]
  },
  {
   "cell_type": "markdown",
   "id": "af7e6769-f84d-4ec3-8d64-b58df0bef5d6",
   "metadata": {},
   "source": [
    "* **strAccountId**는 베이스 이미지의 account_id 사용 (**763104351884**.dkr.ecr.us-west-2.amazonaws.com/pytorch-training:2.6.0-gpu-py312)"
   ]
  },
  {
   "cell_type": "code",
   "execution_count": null,
   "id": "7bca6c65-d674-45df-9778-ffe9091ec53d",
   "metadata": {
    "tags": []
   },
   "outputs": [],
   "source": [
    "ecr.build_docker(strDockerDir, strDockerFile, strRepositoryName, strRegionName=region, strAccountId=\"763104351884\", no_cache=True)\n",
    "strEcrRepositoryUri_prep = ecr.register_image_to_ecr(region, account_id, strRepositoryName, strTag)\n",
    "\n",
    "print (f'strEcrRepositoryUri_prep: {strEcrRepositoryUri_prep}')"
   ]
  },
  {
   "cell_type": "markdown",
   "id": "111191e7-d734-4183-8b60-61e3dd9cbb27",
   "metadata": {
    "tags": []
   },
   "source": [
    "## 2. For training"
   ]
  },
  {
   "cell_type": "markdown",
   "id": "1e2aab45-f8f9-460c-ad93-52e993d81094",
   "metadata": {},
   "source": [
    "### 2.1 Get base image uri"
   ]
  },
  {
   "cell_type": "code",
   "execution_count": null,
   "id": "12d11063-1f92-411b-b98f-e0765170ea3c",
   "metadata": {
    "tags": []
   },
   "outputs": [],
   "source": [
    "base_image_uri = sagemaker.image_uris.retrieve(\n",
    "    framework=\"pytorch\",\n",
    "    version=\"2.1\",\n",
    "    region=region,\n",
    "    image_scope=\"training\",\n",
    "    instance_type=\"ml.g5.xlarge\"\n",
    ")\n",
    "\n",
    "print (f'base_image_uri: {base_image_uri}')"
   ]
  },
  {
   "cell_type": "code",
   "execution_count": null,
   "id": "59c276e3-7486-4338-be0d-fae58fec89ad",
   "metadata": {
    "tags": []
   },
   "outputs": [],
   "source": [
    "%%writefile ./custom-docker/dockerfile-tr\n",
    "\n",
    "FROM 763104351884.dkr.ecr.us-west-2.amazonaws.com/pytorch-training:2.1-gpu-py310\n",
    "\n",
    "RUN pip install -U pip boto3 sagemaker\n",
    "\n",
    "COPY requirements.txt /opt/ml/packages/\n",
    "RUN pip install -r /opt/ml/packages/requirements.txt\n",
    "\n",
    "# 기본 환경변수\n",
    "ENV PYTHONUNBUFFERED=TRUE\n",
    "ENV PATH=\"/opt/ml/code:${PATH}\"\n",
    "ENV SAGEMAKER_SUBMIT_DIRECTORY /opt/ml/code"
   ]
  },
  {
   "cell_type": "code",
   "execution_count": null,
   "id": "61d5c805-6aa5-4ea4-9ce9-346576884a82",
   "metadata": {
    "tags": []
   },
   "outputs": [],
   "source": [
    "strRepositoryName=\"tr-docker-image\"  ## <-- 원하는 docker repostory 이름을 추가\n",
    "strRepositoryName = strRepositoryName.lower()\n",
    "strDockerFile = \"dockerfile-tr\"\n",
    "strDockerDir = \"./custom-docker/\"\n",
    "strTag = \"latest\""
   ]
  },
  {
   "cell_type": "markdown",
   "id": "47d112ea-c160-4aca-80c3-4dc57b53a430",
   "metadata": {},
   "source": [
    "* **strAccountId**는 베이스 이미지의 account_id 사용 (**763104351884**.dkr.ecr.us-west-2.amazonaws.com/pytorch-training:2.6.0-gpu-py312)"
   ]
  },
  {
   "cell_type": "code",
   "execution_count": null,
   "id": "30a33648-14f3-4165-8204-e6b4eb8c8c5c",
   "metadata": {
    "tags": []
   },
   "outputs": [],
   "source": [
    "ecr.build_docker(strDockerDir, strDockerFile, strRepositoryName, strRegionName=region, strAccountId=\"763104351884\", no_cache=True)\n",
    "strEcrRepositoryUri_tr = ecr.register_image_to_ecr(region, account_id, strRepositoryName, strTag)\n",
    "\n",
    "print (f'strEcrRepositoryUri_tr: {strEcrRepositoryUri_tr}')"
   ]
  },
  {
   "cell_type": "markdown",
   "id": "460ad96e-6ab0-4082-b7ed-9c796c791f7f",
   "metadata": {},
   "source": [
    "## 3. For inference"
   ]
  },
  {
   "cell_type": "markdown",
   "id": "377b437f-df4e-4e17-aa08-811602b2e678",
   "metadata": {},
   "source": [
    "### 3.1 Get base image uri"
   ]
  },
  {
   "cell_type": "code",
   "execution_count": null,
   "id": "9719e693-e4ad-4a03-a3e3-cb7f943fc252",
   "metadata": {
    "tags": []
   },
   "outputs": [],
   "source": [
    "base_image_uri = sagemaker.image_uris.retrieve(\n",
    "    framework=\"pytorch\",\n",
    "    version=\"2.1\",\n",
    "    region=region,\n",
    "    image_scope=\"inference\",\n",
    "    instance_type=\"ml.g5.xlarge\"\n",
    ")\n",
    "\n",
    "print (f'base_image_uri: {base_image_uri}')"
   ]
  },
  {
   "cell_type": "code",
   "execution_count": null,
   "id": "2bd9a46c-29d6-40ea-b3aa-20cfdaa774c8",
   "metadata": {
    "tags": []
   },
   "outputs": [],
   "source": [
    "%%writefile ./custom-docker/dockerfile-inf\n",
    "\n",
    "FROM 763104351884.dkr.ecr.us-west-2.amazonaws.com/pytorch-inference:2.1-gpu-py310\n",
    "\n",
    "RUN pip install -U pip boto3 sagemaker\n",
    "\n",
    "COPY requirements.txt /opt/ml/packages/\n",
    "RUN pip install -r /opt/ml/packages/requirements.txt\n",
    "\n",
    "# 기본 환경변수\n",
    "ENV PYTHONUNBUFFERED=TRUE\n",
    "ENV PATH=\"/opt/ml/code:${PATH}\"\n",
    "ENV SAGEMAKER_MODEL_DIR=/opt/ml/model"
   ]
  },
  {
   "cell_type": "code",
   "execution_count": null,
   "id": "6d691aad-edae-4ac9-845f-d720ba01e83e",
   "metadata": {
    "tags": []
   },
   "outputs": [],
   "source": [
    "strRepositoryName=\"inf-docker-image\"  ## <-- 원하는 docker repostory 이름을 추가\n",
    "strRepositoryName = strRepositoryName.lower()\n",
    "strDockerFile = \"dockerfile-inf\"\n",
    "strDockerDir = \"./custom-docker/\"\n",
    "strTag = \"latest\""
   ]
  },
  {
   "cell_type": "markdown",
   "id": "e46fb1c5-a697-4641-ac78-cf86509fd953",
   "metadata": {},
   "source": [
    "* **strAccountId**는 베이스 이미지의 account_id 사용 (**763104351884**.dkr.ecr.us-west-2.amazonaws.com/pytorch-training:2.6.0-gpu-py312)"
   ]
  },
  {
   "cell_type": "code",
   "execution_count": null,
   "id": "16bfc4d1-fbef-445b-adfa-282daebd158d",
   "metadata": {
    "tags": []
   },
   "outputs": [],
   "source": [
    "ecr.build_docker(strDockerDir, strDockerFile, strRepositoryName, strRegionName=region, strAccountId=\"763104351884\", no_cache=True)\n",
    "strEcrRepositoryUri_inf = ecr.register_image_to_ecr(region, account_id, strRepositoryName, strTag)\n",
    "\n",
    "print (f'strEcrRepositoryUri_inf: {strEcrRepositoryUri_inf}')"
   ]
  },
  {
   "cell_type": "markdown",
   "id": "efe641be-cffa-4f22-91a8-cbe1ec053533",
   "metadata": {
    "tags": []
   },
   "source": [
    "## 3. [Optional] AWS Systems Manager Parameter Store 를 이용한 파라미터 저장/활용\n",
    "- [AWS Systems Manager Parameter Store](https://docs.aws.amazon.com/systems-manager/latest/userguide/systems-manager-parameter-store.html)\n",
    "- Attach IAM polich to sagemaker execution role (<b>with console</b>)\n",
    "> **SSM**: \"arn:aws:iam::aws:policy/AmazonSSMFullAccess\"<BR>"
   ]
  },
  {
   "cell_type": "code",
   "execution_count": null,
   "id": "bdc76ffb-3212-4037-b21e-db8a3daf8df5",
   "metadata": {
    "tags": []
   },
   "outputs": [],
   "source": [
    "from utils.ssm import parameter_store"
   ]
  },
  {
   "cell_type": "code",
   "execution_count": null,
   "id": "c660e1fb-cd2f-45ee-83a9-4717afdbb901",
   "metadata": {
    "tags": []
   },
   "outputs": [],
   "source": [
    "pm = parameter_store(region)\n",
    "strPrefix = pm.get_params(key=\"PREFIX\")"
   ]
  },
  {
   "cell_type": "code",
   "execution_count": null,
   "id": "1fd9d894-1449-4540-b88b-c81c9c640701",
   "metadata": {
    "tags": []
   },
   "outputs": [],
   "source": [
    "pm.put_params(key=\"-\".join([strPrefix, \"IMAGE-URI-PREP\"]), value=strEcrRepositoryUri_prep, overwrite=True)\n",
    "pm.put_params(key=\"-\".join([strPrefix, \"IMAGE-URI-TR\"]), value=strEcrRepositoryUri_tr, overwrite=True)\n",
    "pm.put_params(key=\"-\".join([strPrefix, \"IMAGE-URI-INF\"]), value=strEcrRepositoryUri_inf, overwrite=True)"
   ]
  },
  {
   "cell_type": "code",
   "execution_count": null,
   "id": "4e10524e-9ce7-4093-a91e-3a37874892a2",
   "metadata": {
    "tags": []
   },
   "outputs": [],
   "source": [
    "print (\"IMAGE-URI-PREP: \", pm.get_params(key=\"-\".join([strPrefix, \"IMAGE-URI-PREP\"])))\n",
    "print (\"IMAGE-URI-TR: \", pm.get_params(key=\"-\".join([strPrefix, \"IMAGE-URI-TR\"])))\n",
    "print (\"IMAGE-URI-INF: \", pm.get_params(key=\"-\".join([strPrefix, \"IMAGE-URI-INF\"])))"
   ]
  },
  {
   "cell_type": "code",
   "execution_count": null,
   "id": "042e1cdf-361b-4ed2-9a19-2a925238fd62",
   "metadata": {},
   "outputs": [],
   "source": []
  }
 ],
 "metadata": {
  "kernelspec": {
   "display_name": "conda_pytorch_p310",
   "language": "python",
   "name": "conda_pytorch_p310"
  },
  "language_info": {
   "codemirror_mode": {
    "name": "ipython",
    "version": 3
   },
   "file_extension": ".py",
   "mimetype": "text/x-python",
   "name": "python",
   "nbconvert_exporter": "python",
   "pygments_lexer": "ipython3",
   "version": "3.10.14"
  }
 },
 "nbformat": 4,
 "nbformat_minor": 5
}
